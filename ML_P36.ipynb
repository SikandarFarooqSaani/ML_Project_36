{
  "nbformat": 4,
  "nbformat_minor": 0,
  "metadata": {
    "colab": {
      "provenance": []
    },
    "kernelspec": {
      "name": "python3",
      "display_name": "Python 3"
    },
    "language_info": {
      "name": "python"
    }
  },
  "cells": [
    {
      "cell_type": "markdown",
      "source": [
        "\n",
        "*   Balancing the best using all 3 under,over,smote,bagging\n",
        "*   Find Best Parameter for LGR,DT,RF,ADA,GB,SVC,KNN,balanced using optuna\n",
        "*   Combine them to find Stacking see if accuracy improves\n",
        "*   Voting classifier using those parameters\n",
        "\n",
        "\n"
      ],
      "metadata": {
        "id": "XimwzHZ0txZa"
      }
    },
    {
      "cell_type": "code",
      "execution_count": 1,
      "metadata": {
        "id": "BxFoWI4ltpLk"
      },
      "outputs": [],
      "source": [
        "import pandas as pd\n",
        "import numpy as np\n",
        "from sklearn.linear_model import LogisticRegression\n",
        "from sklearn.svm import SVC\n",
        "from sklearn.tree import DecisionTreeClassifier\n",
        "from sklearn.ensemble import RandomForestClassifier\n",
        "from sklearn.ensemble import AdaBoostClassifier,GradientBoostingClassifier\n",
        "from sklearn.model_selection import train_test_split\n",
        "from sklearn.metrics import confusion_matrix,accuracy_score\n",
        "from imblearn.over_sampling import SMOTE,RandomOverSampler\n",
        "from imblearn.under_sampling import RandomUnderSampler\n",
        "from imblearn.ensemble import BalancedRandomForestClassifier"
      ]
    },
    {
      "cell_type": "code",
      "source": [
        "!pip install optuna"
      ],
      "metadata": {
        "colab": {
          "base_uri": "https://localhost:8080/"
        },
        "id": "E-C081N1u2kb",
        "outputId": "3e8febb9-84bc-4fac-de6b-9b936b8ba221"
      },
      "execution_count": 2,
      "outputs": [
        {
          "output_type": "stream",
          "name": "stdout",
          "text": [
            "Collecting optuna\n",
            "  Downloading optuna-4.5.0-py3-none-any.whl.metadata (17 kB)\n",
            "Requirement already satisfied: alembic>=1.5.0 in /usr/local/lib/python3.12/dist-packages (from optuna) (1.16.5)\n",
            "Collecting colorlog (from optuna)\n",
            "  Downloading colorlog-6.9.0-py3-none-any.whl.metadata (10 kB)\n",
            "Requirement already satisfied: numpy in /usr/local/lib/python3.12/dist-packages (from optuna) (2.0.2)\n",
            "Requirement already satisfied: packaging>=20.0 in /usr/local/lib/python3.12/dist-packages (from optuna) (25.0)\n",
            "Requirement already satisfied: sqlalchemy>=1.4.2 in /usr/local/lib/python3.12/dist-packages (from optuna) (2.0.43)\n",
            "Requirement already satisfied: tqdm in /usr/local/lib/python3.12/dist-packages (from optuna) (4.67.1)\n",
            "Requirement already satisfied: PyYAML in /usr/local/lib/python3.12/dist-packages (from optuna) (6.0.2)\n",
            "Requirement already satisfied: Mako in /usr/local/lib/python3.12/dist-packages (from alembic>=1.5.0->optuna) (1.3.10)\n",
            "Requirement already satisfied: typing-extensions>=4.12 in /usr/local/lib/python3.12/dist-packages (from alembic>=1.5.0->optuna) (4.15.0)\n",
            "Requirement already satisfied: greenlet>=1 in /usr/local/lib/python3.12/dist-packages (from sqlalchemy>=1.4.2->optuna) (3.2.4)\n",
            "Requirement already satisfied: MarkupSafe>=0.9.2 in /usr/local/lib/python3.12/dist-packages (from Mako->alembic>=1.5.0->optuna) (3.0.2)\n",
            "Downloading optuna-4.5.0-py3-none-any.whl (400 kB)\n",
            "\u001b[2K   \u001b[90m━━━━━━━━━━━━━━━━━━━━━━━━━━━━━━━━━━━━━━━━\u001b[0m \u001b[32m400.9/400.9 kB\u001b[0m \u001b[31m15.7 MB/s\u001b[0m eta \u001b[36m0:00:00\u001b[0m\n",
            "\u001b[?25hDownloading colorlog-6.9.0-py3-none-any.whl (11 kB)\n",
            "Installing collected packages: colorlog, optuna\n",
            "Successfully installed colorlog-6.9.0 optuna-4.5.0\n"
          ]
        }
      ]
    },
    {
      "cell_type": "code",
      "source": [
        "import optuna"
      ],
      "metadata": {
        "id": "aDKryl63u4um"
      },
      "execution_count": 3,
      "outputs": []
    },
    {
      "cell_type": "code",
      "source": [
        "from sklearn.model_selection import cross_val_score"
      ],
      "metadata": {
        "id": "8pkPVQRgA0x1"
      },
      "execution_count": 4,
      "outputs": []
    },
    {
      "cell_type": "code",
      "source": [
        "df = pd.read_csv('/content/Titanic.csv')"
      ],
      "metadata": {
        "id": "b0KxJXnwvHC4"
      },
      "execution_count": 5,
      "outputs": []
    },
    {
      "cell_type": "code",
      "source": [
        "x = df.drop('Survived',axis=1)\n",
        "y = df['Survived']"
      ],
      "metadata": {
        "id": "m1ULWmnuu-lU"
      },
      "execution_count": 6,
      "outputs": []
    },
    {
      "cell_type": "code",
      "source": [
        "x_train,x_test,y_train,y_test = train_test_split(x,y,test_size=0.2,random_state=42)"
      ],
      "metadata": {
        "id": "6jRUsxXk5-vE"
      },
      "execution_count": 7,
      "outputs": []
    },
    {
      "cell_type": "code",
      "source": [
        "ds = RandomUnderSampler(random_state=42)\n",
        "x_train_ds,y_train_ds = ds.fit_resample(x_train,y_train)"
      ],
      "metadata": {
        "id": "c_gBazNuAdmF"
      },
      "execution_count": 8,
      "outputs": []
    },
    {
      "cell_type": "code",
      "source": [
        "sm = SMOTE(random_state=42)\n",
        "x_train_sm,y_train_sm = sm.fit_resample(x_train,y_train)\n"
      ],
      "metadata": {
        "id": "Ru5z2TmeE2WF"
      },
      "execution_count": 9,
      "outputs": []
    },
    {
      "cell_type": "code",
      "source": [
        "lg = LogisticRegression()\n",
        "lg.fit(x_train_ds,y_train_ds)\n",
        "y_pred = lg.predict(x_test)\n",
        "print(accuracy_score(y_test,y_pred))\n",
        "print(confusion_matrix(y_test,y_pred)) #0.7988,78 simple, 81,78 on ds, 80,78,,,\n",
        "print(cross_val_score(lg,x_train,y_train,cv=3,scoring='accuracy').mean())"
      ],
      "metadata": {
        "colab": {
          "base_uri": "https://localhost:8080/"
        },
        "id": "n3y59xKY8aFW",
        "outputId": "75069cef-5e1a-4de0-d0cf-14b41e6214fd"
      },
      "execution_count": 10,
      "outputs": [
        {
          "output_type": "stream",
          "name": "stdout",
          "text": [
            "0.8100558659217877\n",
            "[[81 24]\n",
            " [10 64]]\n",
            "0.7823044829746245\n"
          ]
        }
      ]
    },
    {
      "cell_type": "code",
      "source": [
        "import matplotlib.pyplot as plt\n",
        "import seaborn as sns"
      ],
      "metadata": {
        "id": "Y2fVLce4I40I"
      },
      "execution_count": 12,
      "outputs": []
    },
    {
      "cell_type": "code",
      "source": [
        "plt.figure(figsize=(6,4))\n",
        "sns.heatmap(confusion_matrix(y_test,y_pred), annot=True, fmt=\"d\", cmap=\"Blues\", xticklabels=[\"Fake\", \"True\"], yticklabels=[\"Fake\", \"True\"])\n",
        "plt.xlabel(\"Predicted\")\n",
        "plt.ylabel(\"Actual\")\n",
        "plt.title(\"Confusion Matrix LGR\")\n",
        "plt.show()"
      ],
      "metadata": {
        "colab": {
          "base_uri": "https://localhost:8080/",
          "height": 410
        },
        "id": "W2SSVTEfGtoY",
        "outputId": "0e07e16b-7458-41be-e8f0-846006aff176"
      },
      "execution_count": 13,
      "outputs": [
        {
          "output_type": "display_data",
          "data": {
            "text/plain": [
              "<Figure size 600x400 with 2 Axes>"
            ],
            "image/png": "[encoded data removed]"
          },
          "metadata": {}
        }
      ]
    },
    {
      "cell_type": "code",
      "source": [
        "from sklearn.model_selection import cross_val_score\n",
        "\n",
        "def objective_logreg(trial):\n",
        "    C = trial.suggest_float('C', 1e-3, 1e2, log=True)\n",
        "    penalty = trial.suggest_categorical('penalty', ['l1', 'l2'])\n",
        "    solver = 'liblinear' if penalty == 'l1' else 'lbfgs'\n",
        "    class_weight = trial.suggest_categorical('class_weight', [None, 'balanced'])\n",
        "\n",
        "    model = LogisticRegression(\n",
        "        C=C, penalty=penalty, solver=solver,\n",
        "        class_weight=class_weight, max_iter=1000, random_state=42\n",
        "    )\n",
        "    score = cross_val_score(model, x_train_sm, y_train_sm, cv=3, scoring='accuracy').mean()\n",
        "    return score\n"
      ],
      "metadata": {
        "id": "szx5NbU4vE8e"
      },
      "execution_count": 70,
      "outputs": []
    },
    {
      "cell_type": "code",
      "source": [
        "# Create a study object and optimize the objective function\n",
        "study = optuna.create_study(direction='maximize', sampler=optuna.samplers.TPESampler())  # We aim to maximize accuracy\n",
        "study.optimize(objective_logreg, n_trials=100)  # Run 50 trials to find the best hyperparameters"
      ],
      "metadata": {
        "colab": {
          "base_uri": "https://localhost:8080/"
        },
        "collapsed": true,
        "id": "-l_REzfp501D",
        "outputId": "3c0757a3-66b5-46ee-bd5d-1757ce1653f0"
      },
      "execution_count": 71,
      "outputs": [
        {
          "output_type": "stream",
          "name": "stderr",
          "text": [
            "[I 2025-09-18 18:56:31,142] A new study created in memory with name: no-name-0a2e280e-501b-46a7-ac02-f1c82ad9a117\n",
            "[I 2025-09-18 18:56:31,170] Trial 0 finished with value: 0.7882882882882883 and parameters: {'C': 2.2593850716552435, 'penalty': 'l1', 'class_weight': None}. Best is trial 0 with value: 0.7882882882882883.\n",
            "[I 2025-09-18 18:56:31,238] Trial 1 finished with value: 0.7905405405405407 and parameters: {'C': 85.32347447872236, 'penalty': 'l2', 'class_weight': None}. Best is trial 1 with value: 0.7905405405405407.\n",
            "[I 2025-09-18 18:56:31,310] Trial 2 finished with value: 0.7905405405405407 and parameters: {'C': 84.4336083503538, 'penalty': 'l2', 'class_weight': 'balanced'}. Best is trial 1 with value: 0.7905405405405407.\n",
            "[I 2025-09-18 18:56:31,343] Trial 3 finished with value: 0.786036036036036 and parameters: {'C': 0.022986949138059525, 'penalty': 'l1', 'class_weight': 'balanced'}. Best is trial 1 with value: 0.7905405405405407.\n",
            "[I 2025-09-18 18:56:31,410] Trial 4 finished with value: 0.7905405405405407 and parameters: {'C': 72.5716543319997, 'penalty': 'l2', 'class_weight': None}. Best is trial 1 with value: 0.7905405405405407.\n",
            "[I 2025-09-18 18:56:31,443] Trial 5 finished with value: 0.6441441441441441 and parameters: {'C': 0.009406700949220312, 'penalty': 'l1', 'class_weight': None}. Best is trial 1 with value: 0.7905405405405407.\n",
            "[I 2025-09-18 18:56:31,497] Trial 6 finished with value: 0.7894144144144143 and parameters: {'C': 4.780692183673269, 'penalty': 'l1', 'class_weight': 'balanced'}. Best is trial 1 with value: 0.7905405405405407.\n",
            "[I 2025-09-18 18:56:31,562] Trial 7 finished with value: 0.6846846846846847 and parameters: {'C': 0.0031010550089964873, 'penalty': 'l2', 'class_weight': None}. Best is trial 1 with value: 0.7905405405405407.\n",
            "[I 2025-09-18 18:56:31,620] Trial 8 finished with value: 0.7195945945945946 and parameters: {'C': 0.006267253954602362, 'penalty': 'l2', 'class_weight': None}. Best is trial 1 with value: 0.7905405405405407.\n",
            "[I 2025-09-18 18:56:31,688] Trial 9 finished with value: 0.7905405405405407 and parameters: {'C': 44.81806015650208, 'penalty': 'l2', 'class_weight': 'balanced'}. Best is trial 1 with value: 0.7905405405405407.\n",
            "[I 2025-09-18 18:56:31,758] Trial 10 finished with value: 0.795045045045045 and parameters: {'C': 0.27381367511599497, 'penalty': 'l2', 'class_weight': None}. Best is trial 10 with value: 0.795045045045045.\n",
            "[I 2025-09-18 18:56:31,827] Trial 11 finished with value: 0.7939189189189189 and parameters: {'C': 0.14329732299647052, 'penalty': 'l2', 'class_weight': None}. Best is trial 10 with value: 0.795045045045045.\n",
            "[I 2025-09-18 18:56:31,892] Trial 12 finished with value: 0.795045045045045 and parameters: {'C': 0.14832244089679017, 'penalty': 'l2', 'class_weight': None}. Best is trial 10 with value: 0.795045045045045.\n",
            "[I 2025-09-18 18:56:31,962] Trial 13 finished with value: 0.793918918918919 and parameters: {'C': 0.3870174681718465, 'penalty': 'l2', 'class_weight': None}. Best is trial 10 with value: 0.795045045045045.\n",
            "[I 2025-09-18 18:56:32,031] Trial 14 finished with value: 0.7995495495495496 and parameters: {'C': 0.09829405204875347, 'penalty': 'l2', 'class_weight': None}. Best is trial 14 with value: 0.7995495495495496.\n",
            "[I 2025-09-18 18:56:32,106] Trial 15 finished with value: 0.7927927927927927 and parameters: {'C': 0.032193975947012614, 'penalty': 'l2', 'class_weight': None}. Best is trial 14 with value: 0.7995495495495496.\n",
            "[I 2025-09-18 18:56:32,174] Trial 16 finished with value: 0.7927927927927928 and parameters: {'C': 1.0131086385320345, 'penalty': 'l2', 'class_weight': None}. Best is trial 14 with value: 0.7995495495495496.\n",
            "[I 2025-09-18 18:56:32,248] Trial 17 finished with value: 0.7905405405405407 and parameters: {'C': 11.420035502015857, 'penalty': 'l2', 'class_weight': None}. Best is trial 14 with value: 0.7995495495495496.\n",
            "[I 2025-09-18 18:56:32,289] Trial 18 finished with value: 0.7916666666666666 and parameters: {'C': 0.09240361394233838, 'penalty': 'l1', 'class_weight': 'balanced'}. Best is trial 14 with value: 0.7995495495495496.\n",
            "[I 2025-09-18 18:56:32,345] Trial 19 finished with value: 0.6509009009009009 and parameters: {'C': 0.001268164448778534, 'penalty': 'l2', 'class_weight': None}. Best is trial 14 with value: 0.7995495495495496.\n",
            "[I 2025-09-18 18:56:32,415] Trial 20 finished with value: 0.7916666666666666 and parameters: {'C': 0.7852352634293002, 'penalty': 'l2', 'class_weight': None}. Best is trial 14 with value: 0.7995495495495496.\n",
            "[I 2025-09-18 18:56:32,484] Trial 21 finished with value: 0.7939189189189189 and parameters: {'C': 0.1341621989331917, 'penalty': 'l2', 'class_weight': None}. Best is trial 14 with value: 0.7995495495495496.\n",
            "[I 2025-09-18 18:56:32,587] Trial 22 finished with value: 0.793918918918919 and parameters: {'C': 0.04709696758179645, 'penalty': 'l2', 'class_weight': None}. Best is trial 14 with value: 0.7995495495495496.\n",
            "[I 2025-09-18 18:56:32,652] Trial 23 finished with value: 0.7961711711711712 and parameters: {'C': 0.18939839784289433, 'penalty': 'l2', 'class_weight': None}. Best is trial 14 with value: 0.7995495495495496.\n",
            "[I 2025-09-18 18:56:32,718] Trial 24 finished with value: 0.7916666666666666 and parameters: {'C': 0.6226073725554233, 'penalty': 'l2', 'class_weight': None}. Best is trial 14 with value: 0.7995495495495496.\n",
            "[I 2025-09-18 18:56:32,787] Trial 25 finished with value: 0.7916666666666666 and parameters: {'C': 1.8013901768153506, 'penalty': 'l2', 'class_weight': None}. Best is trial 14 with value: 0.7995495495495496.\n",
            "[I 2025-09-18 18:56:32,836] Trial 26 finished with value: 0.7882882882882883 and parameters: {'C': 0.2703290663308174, 'penalty': 'l1', 'class_weight': 'balanced'}. Best is trial 14 with value: 0.7995495495495496.\n",
            "[I 2025-09-18 18:56:32,901] Trial 27 finished with value: 0.7961711711711711 and parameters: {'C': 0.06272307210640427, 'penalty': 'l2', 'class_weight': None}. Best is trial 14 with value: 0.7995495495495496.\n",
            "[I 2025-09-18 18:56:32,969] Trial 28 finished with value: 0.7792792792792792 and parameters: {'C': 0.013032131399888498, 'penalty': 'l2', 'class_weight': None}. Best is trial 14 with value: 0.7995495495495496.\n",
            "[I 2025-09-18 18:56:33,007] Trial 29 finished with value: 0.7916666666666666 and parameters: {'C': 0.07434980156304781, 'penalty': 'l1', 'class_weight': None}. Best is trial 14 with value: 0.7995495495495496.\n",
            "[I 2025-09-18 18:56:33,075] Trial 30 finished with value: 0.7961711711711712 and parameters: {'C': 0.02276377186003755, 'penalty': 'l2', 'class_weight': None}. Best is trial 14 with value: 0.7995495495495496.\n",
            "[I 2025-09-18 18:56:33,145] Trial 31 finished with value: 0.7961711711711712 and parameters: {'C': 0.022836049030367615, 'penalty': 'l2', 'class_weight': None}. Best is trial 14 with value: 0.7995495495495496.\n",
            "[I 2025-09-18 18:56:33,209] Trial 32 finished with value: 0.7894144144144145 and parameters: {'C': 0.018320846348585294, 'penalty': 'l2', 'class_weight': None}. Best is trial 14 with value: 0.7995495495495496.\n",
            "[I 2025-09-18 18:56:33,270] Trial 33 finished with value: 0.6655405405405406 and parameters: {'C': 0.002094830552072799, 'penalty': 'l2', 'class_weight': None}. Best is trial 14 with value: 0.7995495495495496.\n",
            "[I 2025-09-18 18:56:33,336] Trial 34 finished with value: 0.7072072072072072 and parameters: {'C': 0.0051225452464962904, 'penalty': 'l2', 'class_weight': None}. Best is trial 14 with value: 0.7995495495495496.\n",
            "[I 2025-09-18 18:56:33,408] Trial 35 finished with value: 0.7927927927927927 and parameters: {'C': 0.03219059066365619, 'penalty': 'l2', 'class_weight': 'balanced'}. Best is trial 14 with value: 0.7995495495495496.\n",
            "[I 2025-09-18 18:56:33,474] Trial 36 finished with value: 0.7871621621621622 and parameters: {'C': 0.01679654123546815, 'penalty': 'l2', 'class_weight': None}. Best is trial 14 with value: 0.7995495495495496.\n",
            "[I 2025-09-18 18:56:33,511] Trial 37 finished with value: 0.7894144144144143 and parameters: {'C': 0.05407946747179066, 'penalty': 'l1', 'class_weight': None}. Best is trial 14 with value: 0.7995495495495496.\n",
            "[I 2025-09-18 18:56:33,580] Trial 38 finished with value: 0.7421171171171173 and parameters: {'C': 0.008541126358258561, 'penalty': 'l2', 'class_weight': 'balanced'}. Best is trial 14 with value: 0.7995495495495496.\n",
            "[I 2025-09-18 18:56:33,658] Trial 39 finished with value: 0.643018018018018 and parameters: {'C': 0.0041064709591851845, 'penalty': 'l1', 'class_weight': None}. Best is trial 14 with value: 0.7995495495495496.\n",
            "[I 2025-09-18 18:56:33,720] Trial 40 finished with value: 0.7927927927927927 and parameters: {'C': 0.025663302475445956, 'penalty': 'l2', 'class_weight': None}. Best is trial 14 with value: 0.7995495495495496.\n",
            "[I 2025-09-18 18:56:33,787] Trial 41 finished with value: 0.793918918918919 and parameters: {'C': 0.055067868244127224, 'penalty': 'l2', 'class_weight': None}. Best is trial 14 with value: 0.7995495495495496.\n",
            "[I 2025-09-18 18:56:33,856] Trial 42 finished with value: 0.7961711711711712 and parameters: {'C': 0.18637149162894454, 'penalty': 'l2', 'class_weight': None}. Best is trial 14 with value: 0.7995495495495496.\n",
            "[I 2025-09-18 18:56:33,924] Trial 43 finished with value: 0.7961711711711712 and parameters: {'C': 0.22085099366756034, 'penalty': 'l2', 'class_weight': None}. Best is trial 14 with value: 0.7995495495495496.\n",
            "[I 2025-09-18 18:56:33,992] Trial 44 finished with value: 0.7916666666666666 and parameters: {'C': 0.5274594138876177, 'penalty': 'l2', 'class_weight': None}. Best is trial 14 with value: 0.7995495495495496.\n",
            "[I 2025-09-18 18:56:34,063] Trial 45 finished with value: 0.7939189189189189 and parameters: {'C': 0.12045927773739176, 'penalty': 'l2', 'class_weight': None}. Best is trial 14 with value: 0.7995495495495496.\n",
            "[I 2025-09-18 18:56:34,143] Trial 46 finished with value: 0.7927927927927928 and parameters: {'C': 1.391632163370109, 'penalty': 'l2', 'class_weight': 'balanced'}. Best is trial 14 with value: 0.7995495495495496.\n",
            "[I 2025-09-18 18:56:34,213] Trial 47 finished with value: 0.7961711711711712 and parameters: {'C': 0.19577347131211875, 'penalty': 'l2', 'class_weight': None}. Best is trial 14 with value: 0.7995495495495496.\n",
            "[I 2025-09-18 18:56:34,286] Trial 48 finished with value: 0.7916666666666666 and parameters: {'C': 3.328954133731066, 'penalty': 'l2', 'class_weight': None}. Best is trial 14 with value: 0.7995495495495496.\n",
            "[I 2025-09-18 18:56:34,356] Trial 49 finished with value: 0.793918918918919 and parameters: {'C': 0.412924596765216, 'penalty': 'l2', 'class_weight': None}. Best is trial 14 with value: 0.7995495495495496.\n",
            "[I 2025-09-18 18:56:34,394] Trial 50 finished with value: 0.6441441441441441 and parameters: {'C': 0.008613472227975474, 'penalty': 'l1', 'class_weight': None}. Best is trial 14 with value: 0.7995495495495496.\n",
            "[I 2025-09-18 18:56:34,469] Trial 51 finished with value: 0.795045045045045 and parameters: {'C': 0.23334285036029878, 'penalty': 'l2', 'class_weight': None}. Best is trial 14 with value: 0.7995495495495496.\n",
            "[I 2025-09-18 18:56:34,539] Trial 52 finished with value: 0.7995495495495496 and parameters: {'C': 0.10181576403050606, 'penalty': 'l2', 'class_weight': None}. Best is trial 14 with value: 0.7995495495495496.\n",
            "[I 2025-09-18 18:56:34,607] Trial 53 finished with value: 0.7995495495495496 and parameters: {'C': 0.10527399866839811, 'penalty': 'l2', 'class_weight': None}. Best is trial 14 with value: 0.7995495495495496.\n",
            "[I 2025-09-18 18:56:34,709] Trial 54 finished with value: 0.7939189189189189 and parameters: {'C': 0.035094534729641136, 'penalty': 'l2', 'class_weight': None}. Best is trial 14 with value: 0.7995495495495496.\n",
            "[I 2025-09-18 18:56:34,781] Trial 55 finished with value: 0.7995495495495496 and parameters: {'C': 0.10258197544213603, 'penalty': 'l2', 'class_weight': None}. Best is trial 14 with value: 0.7995495495495496.\n",
            "[I 2025-09-18 18:56:34,848] Trial 56 finished with value: 0.7984234234234234 and parameters: {'C': 0.09273614641657647, 'penalty': 'l2', 'class_weight': None}. Best is trial 14 with value: 0.7995495495495496.\n",
            "[I 2025-09-18 18:56:34,935] Trial 57 finished with value: 0.7995495495495496 and parameters: {'C': 0.0979545306238148, 'penalty': 'l2', 'class_weight': 'balanced'}. Best is trial 14 with value: 0.7995495495495496.\n",
            "[I 2025-09-18 18:56:35,011] Trial 58 finished with value: 0.7995495495495496 and parameters: {'C': 0.1029247165133639, 'penalty': 'l2', 'class_weight': 'balanced'}. Best is trial 14 with value: 0.7995495495495496.\n",
            "[I 2025-09-18 18:56:35,091] Trial 59 finished with value: 0.7995495495495496 and parameters: {'C': 0.10069782139791639, 'penalty': 'l2', 'class_weight': 'balanced'}. Best is trial 14 with value: 0.7995495495495496.\n",
            "[I 2025-09-18 18:56:35,172] Trial 60 finished with value: 0.793918918918919 and parameters: {'C': 0.3795787508676042, 'penalty': 'l2', 'class_weight': 'balanced'}. Best is trial 14 with value: 0.7995495495495496.\n",
            "[I 2025-09-18 18:56:35,248] Trial 61 finished with value: 0.7995495495495496 and parameters: {'C': 0.1008242218839369, 'penalty': 'l2', 'class_weight': 'balanced'}. Best is trial 14 with value: 0.7995495495495496.\n",
            "[I 2025-09-18 18:56:35,321] Trial 62 finished with value: 0.795045045045045 and parameters: {'C': 0.04061946722898342, 'penalty': 'l2', 'class_weight': 'balanced'}. Best is trial 14 with value: 0.7995495495495496.\n",
            "[I 2025-09-18 18:56:35,394] Trial 63 finished with value: 0.7984234234234234 and parameters: {'C': 0.07421529141331575, 'penalty': 'l2', 'class_weight': 'balanced'}. Best is trial 14 with value: 0.7995495495495496.\n",
            "[I 2025-09-18 18:56:35,467] Trial 64 finished with value: 0.7939189189189189 and parameters: {'C': 0.12058295416585732, 'penalty': 'l2', 'class_weight': 'balanced'}. Best is trial 14 with value: 0.7995495495495496.\n",
            "[I 2025-09-18 18:56:35,540] Trial 65 finished with value: 0.7939189189189189 and parameters: {'C': 0.14252730604398922, 'penalty': 'l2', 'class_weight': 'balanced'}. Best is trial 14 with value: 0.7995495495495496.\n",
            "[I 2025-09-18 18:56:35,614] Trial 66 finished with value: 0.795045045045045 and parameters: {'C': 0.2964906702413958, 'penalty': 'l2', 'class_weight': 'balanced'}. Best is trial 14 with value: 0.7995495495495496.\n",
            "[I 2025-09-18 18:56:35,655] Trial 67 finished with value: 0.7916666666666666 and parameters: {'C': 0.07776136492489902, 'penalty': 'l1', 'class_weight': 'balanced'}. Best is trial 14 with value: 0.7995495495495496.\n",
            "[I 2025-09-18 18:56:35,735] Trial 68 finished with value: 0.7905405405405407 and parameters: {'C': 12.475830395337104, 'penalty': 'l2', 'class_weight': 'balanced'}. Best is trial 14 with value: 0.7995495495495496.\n",
            "[I 2025-09-18 18:56:35,830] Trial 69 finished with value: 0.7916666666666666 and parameters: {'C': 0.7549235323986462, 'penalty': 'l2', 'class_weight': 'balanced'}. Best is trial 14 with value: 0.7995495495495496.\n",
            "[I 2025-09-18 18:56:35,904] Trial 70 finished with value: 0.793918918918919 and parameters: {'C': 0.04962395416855327, 'penalty': 'l2', 'class_weight': 'balanced'}. Best is trial 14 with value: 0.7995495495495496.\n",
            "[I 2025-09-18 18:56:35,980] Trial 71 finished with value: 0.7995495495495496 and parameters: {'C': 0.09809565721511344, 'penalty': 'l2', 'class_weight': 'balanced'}. Best is trial 14 with value: 0.7995495495495496.\n",
            "[I 2025-09-18 18:56:36,055] Trial 72 finished with value: 0.7995495495495496 and parameters: {'C': 0.1025717053796505, 'penalty': 'l2', 'class_weight': 'balanced'}. Best is trial 14 with value: 0.7995495495495496.\n",
            "[I 2025-09-18 18:56:36,139] Trial 73 finished with value: 0.795045045045045 and parameters: {'C': 0.1632173829024354, 'penalty': 'l2', 'class_weight': 'balanced'}. Best is trial 14 with value: 0.7995495495495496.\n",
            "[I 2025-09-18 18:56:36,215] Trial 74 finished with value: 0.795045045045045 and parameters: {'C': 0.3184156543440777, 'penalty': 'l2', 'class_weight': 'balanced'}. Best is trial 14 with value: 0.7995495495495496.\n",
            "[I 2025-09-18 18:56:36,289] Trial 75 finished with value: 0.7984234234234234 and parameters: {'C': 0.06397527297150461, 'penalty': 'l2', 'class_weight': 'balanced'}. Best is trial 14 with value: 0.7995495495495496.\n",
            "[I 2025-09-18 18:56:36,358] Trial 76 finished with value: 0.7939189189189189 and parameters: {'C': 0.038902410824265925, 'penalty': 'l2', 'class_weight': 'balanced'}. Best is trial 14 with value: 0.7995495495495496.\n",
            "[I 2025-09-18 18:56:36,439] Trial 77 finished with value: 0.795045045045045 and parameters: {'C': 0.1567411629473091, 'penalty': 'l2', 'class_weight': 'balanced'}. Best is trial 14 with value: 0.7995495495495496.\n",
            "[I 2025-09-18 18:56:36,516] Trial 78 finished with value: 0.7916666666666666 and parameters: {'C': 0.4916217030238321, 'penalty': 'l2', 'class_weight': 'balanced'}. Best is trial 14 with value: 0.7995495495495496.\n",
            "[I 2025-09-18 18:56:36,555] Trial 79 finished with value: 0.6475225225225225 and parameters: {'C': 0.013874151303559613, 'penalty': 'l1', 'class_weight': 'balanced'}. Best is trial 14 with value: 0.7995495495495496.\n",
            "[I 2025-09-18 18:56:36,626] Trial 80 finished with value: 0.7972972972972973 and parameters: {'C': 0.027230890133416848, 'penalty': 'l2', 'class_weight': 'balanced'}. Best is trial 14 with value: 0.7995495495495496.\n",
            "[I 2025-09-18 18:56:36,701] Trial 81 finished with value: 0.7972972972972974 and parameters: {'C': 0.08778795164668288, 'penalty': 'l2', 'class_weight': 'balanced'}. Best is trial 14 with value: 0.7995495495495496.\n",
            "[I 2025-09-18 18:56:36,772] Trial 82 finished with value: 0.7984234234234234 and parameters: {'C': 0.10635904513537896, 'penalty': 'l2', 'class_weight': 'balanced'}. Best is trial 14 with value: 0.7995495495495496.\n",
            "[I 2025-09-18 18:56:36,884] Trial 83 finished with value: 0.793918918918919 and parameters: {'C': 0.05848716333854623, 'penalty': 'l2', 'class_weight': 'balanced'}. Best is trial 14 with value: 0.7995495495495496.\n",
            "[I 2025-09-18 18:56:36,959] Trial 84 finished with value: 0.795045045045045 and parameters: {'C': 0.2531138780274102, 'penalty': 'l2', 'class_weight': 'balanced'}. Best is trial 14 with value: 0.7995495495495496.\n",
            "[I 2025-09-18 18:56:37,029] Trial 85 finished with value: 0.7939189189189189 and parameters: {'C': 0.12187211355822995, 'penalty': 'l2', 'class_weight': 'balanced'}. Best is trial 14 with value: 0.7995495495495496.\n",
            "[I 2025-09-18 18:56:37,109] Trial 86 finished with value: 0.7984234234234234 and parameters: {'C': 0.07732473109385535, 'penalty': 'l2', 'class_weight': 'balanced'}. Best is trial 14 with value: 0.7995495495495496.\n",
            "[I 2025-09-18 18:56:37,185] Trial 87 finished with value: 0.7961711711711712 and parameters: {'C': 0.19269729983888392, 'penalty': 'l2', 'class_weight': None}. Best is trial 14 with value: 0.7995495495495496.\n",
            "[I 2025-09-18 18:56:37,260] Trial 88 finished with value: 0.795045045045045 and parameters: {'C': 0.043627970872302795, 'penalty': 'l2', 'class_weight': 'balanced'}. Best is trial 14 with value: 0.7995495495495496.\n",
            "[I 2025-09-18 18:56:37,333] Trial 89 finished with value: 0.7995495495495496 and parameters: {'C': 0.09797379593514259, 'penalty': 'l2', 'class_weight': None}. Best is trial 14 with value: 0.7995495495495496.\n",
            "[I 2025-09-18 18:56:37,406] Trial 90 finished with value: 0.7939189189189189 and parameters: {'C': 0.13932593815226765, 'penalty': 'l2', 'class_weight': None}. Best is trial 14 with value: 0.7995495495495496.\n",
            "[I 2025-09-18 18:56:37,490] Trial 91 finished with value: 0.7995495495495496 and parameters: {'C': 0.09952590839804369, 'penalty': 'l2', 'class_weight': 'balanced'}. Best is trial 14 with value: 0.7995495495495496.\n",
            "[I 2025-09-18 18:56:37,568] Trial 92 finished with value: 0.793918918918919 and parameters: {'C': 0.05971151926692956, 'penalty': 'l2', 'class_weight': 'balanced'}. Best is trial 14 with value: 0.7995495495495496.\n",
            "[I 2025-09-18 18:56:37,639] Trial 93 finished with value: 0.7961711711711712 and parameters: {'C': 0.029761615832145344, 'penalty': 'l2', 'class_weight': 'balanced'}. Best is trial 14 with value: 0.7995495495495496.\n",
            "[I 2025-09-18 18:56:37,712] Trial 94 finished with value: 0.7984234234234234 and parameters: {'C': 0.06936126856275794, 'penalty': 'l2', 'class_weight': 'balanced'}. Best is trial 14 with value: 0.7995495495495496.\n",
            "[I 2025-09-18 18:56:37,789] Trial 95 finished with value: 0.795045045045045 and parameters: {'C': 0.31591306512142603, 'penalty': 'l2', 'class_weight': 'balanced'}. Best is trial 14 with value: 0.7995495495495496.\n",
            "[I 2025-09-18 18:56:37,844] Trial 96 finished with value: 0.7894144144144145 and parameters: {'C': 0.1865281354006659, 'penalty': 'l1', 'class_weight': None}. Best is trial 14 with value: 0.7995495495495496.\n",
            "[I 2025-09-18 18:56:37,955] Trial 97 finished with value: 0.7927927927927928 and parameters: {'C': 0.019959676748080805, 'penalty': 'l2', 'class_weight': 'balanced'}. Best is trial 14 with value: 0.7995495495495496.\n",
            "[I 2025-09-18 18:56:38,035] Trial 98 finished with value: 0.7972972972972973 and parameters: {'C': 0.11226083668162981, 'penalty': 'l2', 'class_weight': None}. Best is trial 14 with value: 0.7995495495495496.\n",
            "[I 2025-09-18 18:56:38,113] Trial 99 finished with value: 0.795045045045045 and parameters: {'C': 0.04516986543381037, 'penalty': 'l2', 'class_weight': 'balanced'}. Best is trial 14 with value: 0.7995495495495496.\n"
          ]
        }
      ]
    },
    {
      "cell_type": "code",
      "source": [
        "print(f'Best trial accuracy: {study.best_trial.value}')\n",
        "print(f'Best hyperparameters: {study.best_trial.params}') #ds 0.7891, 7995"
      ],
      "metadata": {
        "colab": {
          "base_uri": "https://localhost:8080/"
        },
        "id": "UvjxnZbv6Lmo",
        "outputId": "bb0df80f-a07d-4830-f256-02a8f409137f"
      },
      "execution_count": 72,
      "outputs": [
        {
          "output_type": "stream",
          "name": "stdout",
          "text": [
            "Best trial accuracy: 0.7995495495495496\n",
            "Best hyperparameters: {'C': 0.09829405204875347, 'penalty': 'l2', 'class_weight': None}\n"
          ]
        }
      ]
    },
    {
      "cell_type": "code",
      "source": [
        "lgs = LogisticRegression(**study.best_trial.params)\n",
        "lgs.fit(x_train_sm,y_train_sm)\n",
        "print(accuracy_score(y_test,y_pred))\n",
        "print(confusion_matrix(y_test,y_pred))"
      ],
      "metadata": {
        "colab": {
          "base_uri": "https://localhost:8080/"
        },
        "id": "qkcUpOinJbZ0",
        "outputId": "7dcf2783-29a5-46a8-9196-bf54ec8423dc"
      },
      "execution_count": 73,
      "outputs": [
        {
          "output_type": "stream",
          "name": "stdout",
          "text": [
            "0.8435754189944135\n",
            "[[88 17]\n",
            " [11 63]]\n"
          ]
        }
      ]
    },
    {
      "cell_type": "code",
      "source": [
        "plt.figure(figsize=(6,4))\n",
        "sns.heatmap(confusion_matrix(y_test,y_pred), annot=True, fmt=\"d\", cmap=\"Blues\", xticklabels=[\"Fake\", \"True\"], yticklabels=[\"Fake\", \"True\"])\n",
        "plt.xlabel(\"Predicted\")\n",
        "plt.ylabel(\"Actual\")\n",
        "plt.title(\"Confusion Matrix LGR Tuneed\")\n",
        "plt.show()"
      ],
      "metadata": {
        "colab": {
          "base_uri": "https://localhost:8080/",
          "height": 410
        },
        "id": "Vx9136xFMAV5",
        "outputId": "3e881713-83d7-4381-9710-e951c4b1c423"
      },
      "execution_count": 74,
      "outputs": [
        {
          "output_type": "display_data",
          "data": {
            "text/plain": [
              "<Figure size 600x400 with 2 Axes>"
            ],
            "image/png": "[encoded data removed]"
          },
          "metadata": {}
        }
      ]
    },
    {
      "cell_type": "markdown",
      "source": [
        "simple gave 0.79 cross val score, down gave 0.78"
      ],
      "metadata": {
        "id": "dOjSOIX8BMdR"
      }
    },
    {
      "cell_type": "code",
      "source": [
        "ad = AdaBoostClassifier()\n",
        "ad.fit(x_train,y_train)\n",
        "y_pred = ad.predict(x_test)\n",
        "print(accuracy_score(y_test,y_pred))\n",
        "print(confusion_matrix(y_test,y_pred))\n",
        "print(cross_val_score(ad,x_train,y_train,cv=3,scoring='accuracy').mean()) #79,78---77,78----78.77, 7879"
      ],
      "metadata": {
        "colab": {
          "base_uri": "https://localhost:8080/"
        },
        "id": "YjhhH4538ib6",
        "outputId": "29631f62-d154-458e-92bf-b0bc5baf649d"
      },
      "execution_count": 75,
      "outputs": [
        {
          "output_type": "stream",
          "name": "stdout",
          "text": [
            "0.7988826815642458\n",
            "[[89 16]\n",
            " [20 54]]\n",
            "0.7879362715550355\n"
          ]
        }
      ]
    },
    {
      "cell_type": "code",
      "source": [
        "def objective_adaboost(trial):\n",
        "    n_estimators = trial.suggest_int('n_estimators', 50, 500)\n",
        "    learning_rate = trial.suggest_float('learning_rate', 0.01, 2.0)\n",
        "\n",
        "    base_depth = trial.suggest_int('max_depth', 1, 10)\n",
        "    base_estimator = DecisionTreeClassifier(max_depth=base_depth, random_state=42)\n",
        "\n",
        "    model = AdaBoostClassifier(\n",
        "        estimator=base_estimator,\n",
        "        n_estimators=n_estimators,\n",
        "        learning_rate=learning_rate,\n",
        "        random_state=42\n",
        "    )\n",
        "    score = cross_val_score(model, x_train_sm, y_train_sm, cv=3, scoring='accuracy').mean()\n",
        "    return score"
      ],
      "metadata": {
        "id": "4ZkX7wQD7IvB"
      },
      "execution_count": 78,
      "outputs": []
    },
    {
      "cell_type": "code",
      "source": [
        "study = optuna.create_study(direction='maximize', sampler=optuna.samplers.TPESampler())  # We aim to maximize accuracy\n",
        "study.optimize(objective_adaboost, n_trials=100)  # Run 50 trials to find the best hyperparameters"
      ],
      "metadata": {
        "colab": {
          "base_uri": "https://localhost:8080/"
        },
        "collapsed": true,
        "id": "JT4ddvJv7NxD",
        "outputId": "3aa621fb-c253-44e2-e6c8-68a42472e7e2"
      },
      "execution_count": 79,
      "outputs": [
        {
          "output_type": "stream",
          "name": "stderr",
          "text": [
            "[I 2025-09-18 18:58:11,993] A new study created in memory with name: no-name-524e1ffa-6167-43ee-a632-fd75df20bb8c\n",
            "[I 2025-09-18 18:58:12,638] Trial 0 finished with value: 0.8423423423423424 and parameters: {'n_estimators': 95, 'learning_rate': 0.7415965910610888, 'max_depth': 4}. Best is trial 0 with value: 0.8423423423423424.\n",
            "[I 2025-09-18 18:58:13,699] Trial 1 finished with value: 0.8355855855855857 and parameters: {'n_estimators': 141, 'learning_rate': 0.015326877074492921, 'max_depth': 6}. Best is trial 0 with value: 0.8423423423423424.\n",
            "[I 2025-09-18 18:58:19,341] Trial 2 finished with value: 0.8277027027027027 and parameters: {'n_estimators': 470, 'learning_rate': 0.17072853607530789, 'max_depth': 10}. Best is trial 0 with value: 0.8423423423423424.\n",
            "[I 2025-09-18 18:58:19,901] Trial 3 finished with value: 0.8063063063063064 and parameters: {'n_estimators': 91, 'learning_rate': 0.17012384146123877, 'max_depth': 2}. Best is trial 0 with value: 0.8423423423423424.\n",
            "[I 2025-09-18 18:58:21,834] Trial 4 finished with value: 0.8231981981981983 and parameters: {'n_estimators': 307, 'learning_rate': 1.155320486499733, 'max_depth': 3}. Best is trial 0 with value: 0.8423423423423424.\n",
            "[I 2025-09-18 18:58:23,947] Trial 5 finished with value: 0.8288288288288288 and parameters: {'n_estimators': 333, 'learning_rate': 0.12992050404777744, 'max_depth': 3}. Best is trial 0 with value: 0.8423423423423424.\n",
            "[I 2025-09-18 18:58:25,906] Trial 6 finished with value: 0.8085585585585585 and parameters: {'n_estimators': 338, 'learning_rate': 0.3576325150158061, 'max_depth': 2}. Best is trial 0 with value: 0.8423423423423424.\n",
            "[I 2025-09-18 18:58:29,225] Trial 7 finished with value: 0.8243243243243242 and parameters: {'n_estimators': 434, 'learning_rate': 1.0314961468288482, 'max_depth': 2}. Best is trial 0 with value: 0.8423423423423424.\n",
            "[I 2025-09-18 18:58:33,927] Trial 8 finished with value: 0.8254504504504504 and parameters: {'n_estimators': 464, 'learning_rate': 0.8417955767843286, 'max_depth': 8}. Best is trial 0 with value: 0.8423423423423424.\n",
            "[I 2025-09-18 18:58:35,820] Trial 9 finished with value: 0.8209459459459459 and parameters: {'n_estimators': 302, 'learning_rate': 0.44080093710520385, 'max_depth': 3}. Best is trial 0 with value: 0.8423423423423424.\n",
            "[I 2025-09-18 18:58:37,244] Trial 10 finished with value: 0.8164414414414415 and parameters: {'n_estimators': 196, 'learning_rate': 1.8566124793116292, 'max_depth': 5}. Best is trial 0 with value: 0.8423423423423424.\n",
            "[I 2025-09-18 18:58:37,686] Trial 11 finished with value: 0.8322072072072072 and parameters: {'n_estimators': 52, 'learning_rate': 0.7025191921719642, 'max_depth': 6}. Best is trial 0 with value: 0.8423423423423424.\n",
            "[I 2025-09-18 18:58:38,950] Trial 12 finished with value: 0.8153153153153153 and parameters: {'n_estimators': 161, 'learning_rate': 1.3923175776269092, 'max_depth': 6}. Best is trial 0 with value: 0.8423423423423424.\n",
            "[I 2025-09-18 18:58:40,286] Trial 13 finished with value: 0.8209459459459459 and parameters: {'n_estimators': 160, 'learning_rate': 0.5906568918206775, 'max_depth': 8}. Best is trial 0 with value: 0.8423423423423424.\n",
            "[I 2025-09-18 18:58:42,892] Trial 14 finished with value: 0.8220720720720721 and parameters: {'n_estimators': 215, 'learning_rate': 1.4747079808807695, 'max_depth': 5}. Best is trial 0 with value: 0.8423423423423424.\n",
            "[I 2025-09-18 18:58:44,302] Trial 15 finished with value: 0.8367117117117117 and parameters: {'n_estimators': 101, 'learning_rate': 0.012805164373306255, 'max_depth': 7}. Best is trial 0 with value: 0.8423423423423424.\n",
            "[I 2025-09-18 18:58:45,111] Trial 16 finished with value: 0.8175675675675675 and parameters: {'n_estimators': 93, 'learning_rate': 1.869390007849605, 'max_depth': 8}. Best is trial 0 with value: 0.8423423423423424.\n",
            "[I 2025-09-18 18:58:46,740] Trial 17 finished with value: 0.8378378378378377 and parameters: {'n_estimators': 239, 'learning_rate': 0.4351095503121342, 'max_depth': 4}. Best is trial 0 with value: 0.8423423423423424.\n",
            "[I 2025-09-18 18:58:48,308] Trial 18 finished with value: 0.8333333333333334 and parameters: {'n_estimators': 231, 'learning_rate': 0.8199881092538843, 'max_depth': 4}. Best is trial 0 with value: 0.8423423423423424.\n",
            "[I 2025-09-18 18:58:50,363] Trial 19 finished with value: 0.786036036036036 and parameters: {'n_estimators': 384, 'learning_rate': 0.5058243302863499, 'max_depth': 1}. Best is trial 0 with value: 0.8423423423423424.\n",
            "[I 2025-09-18 18:58:52,059] Trial 20 finished with value: 0.8288288288288288 and parameters: {'n_estimators': 248, 'learning_rate': 1.2597053322918002, 'max_depth': 4}. Best is trial 0 with value: 0.8423423423423424.\n",
            "[I 2025-09-18 18:58:52,976] Trial 21 finished with value: 0.8175675675675675 and parameters: {'n_estimators': 113, 'learning_rate': 0.3295707273836789, 'max_depth': 7}. Best is trial 0 with value: 0.8423423423423424.\n",
            "[I 2025-09-18 18:58:53,423] Trial 22 finished with value: 0.831081081081081 and parameters: {'n_estimators': 59, 'learning_rate': 0.6686063595417325, 'max_depth': 4}. Best is trial 0 with value: 0.8423423423423424.\n",
            "[I 2025-09-18 18:58:55,852] Trial 23 finished with value: 0.8243243243243242 and parameters: {'n_estimators': 178, 'learning_rate': 0.28701956104763315, 'max_depth': 10}. Best is trial 0 with value: 0.8423423423423424.\n",
            "[I 2025-09-18 18:58:57,625] Trial 24 finished with value: 0.8231981981981983 and parameters: {'n_estimators': 125, 'learning_rate': 0.9059612826028961, 'max_depth': 7}. Best is trial 0 with value: 0.8423423423423424.\n",
            "[I 2025-09-18 18:58:59,543] Trial 25 finished with value: 0.8412162162162162 and parameters: {'n_estimators': 262, 'learning_rate': 0.010386281385074797, 'max_depth': 5}. Best is trial 0 with value: 0.8423423423423424.\n",
            "[I 2025-09-18 18:59:02,311] Trial 26 finished with value: 0.8254504504504504 and parameters: {'n_estimators': 381, 'learning_rate': 0.6405830412068971, 'max_depth': 5}. Best is trial 0 with value: 0.8423423423423424.\n",
            "[I 2025-09-18 18:59:04,177] Trial 27 finished with value: 0.838963963963964 and parameters: {'n_estimators': 273, 'learning_rate': 0.47059832037144345, 'max_depth': 4}. Best is trial 0 with value: 0.8423423423423424.\n",
            "[I 2025-09-18 18:59:06,902] Trial 28 finished with value: 0.8288288288288288 and parameters: {'n_estimators': 376, 'learning_rate': 0.9836960866407646, 'max_depth': 5}. Best is trial 0 with value: 0.8423423423423424.\n",
            "[I 2025-09-18 18:59:10,548] Trial 29 finished with value: 0.8277027027027026 and parameters: {'n_estimators': 262, 'learning_rate': 0.2701617274582672, 'max_depth': 6}. Best is trial 0 with value: 0.8423423423423424.\n",
            "[I 2025-09-18 18:59:12,386] Trial 30 finished with value: 0.8367117117117117 and parameters: {'n_estimators': 289, 'learning_rate': 0.7564919606105732, 'max_depth': 3}. Best is trial 0 with value: 0.8423423423423424.\n",
            "[I 2025-09-18 18:59:13,845] Trial 31 finished with value: 0.8367117117117117 and parameters: {'n_estimators': 212, 'learning_rate': 0.48977126833800944, 'max_depth': 4}. Best is trial 0 with value: 0.8423423423423424.\n",
            "[I 2025-09-18 18:59:15,786] Trial 32 finished with value: 0.8243243243243242 and parameters: {'n_estimators': 269, 'learning_rate': 0.1281459470707288, 'max_depth': 5}. Best is trial 0 with value: 0.8423423423423424.\n",
            "[I 2025-09-18 18:59:17,464] Trial 33 finished with value: 0.8322072072072073 and parameters: {'n_estimators': 241, 'learning_rate': 0.5446883042211266, 'max_depth': 4}. Best is trial 0 with value: 0.8423423423423424.\n",
            "[I 2025-09-18 18:59:19,604] Trial 34 finished with value: 0.8231981981981983 and parameters: {'n_estimators': 339, 'learning_rate': 0.40675007864726054, 'max_depth': 3}. Best is trial 0 with value: 0.8423423423423424.\n",
            "[I 2025-09-18 18:59:20,396] Trial 35 finished with value: 0.795045045045045 and parameters: {'n_estimators': 142, 'learning_rate': 0.14374216956930835, 'max_depth': 1}. Best is trial 0 with value: 0.8423423423423424.\n",
            "[I 2025-09-18 18:59:24,254] Trial 36 finished with value: 0.811936936936937 and parameters: {'n_estimators': 325, 'learning_rate': 0.2451126090278587, 'max_depth': 4}. Best is trial 0 with value: 0.8423423423423424.\n",
            "[I 2025-09-18 18:59:25,952] Trial 37 finished with value: 0.8108108108108109 and parameters: {'n_estimators': 290, 'learning_rate': 0.07078073260796791, 'max_depth': 2}. Best is trial 0 with value: 0.8423423423423424.\n",
            "[I 2025-09-18 18:59:27,507] Trial 38 finished with value: 0.8254504504504504 and parameters: {'n_estimators': 196, 'learning_rate': 1.1452052212590047, 'max_depth': 6}. Best is trial 0 with value: 0.8423423423423424.\n",
            "[I 2025-09-18 18:59:29,837] Trial 39 finished with value: 0.8153153153153152 and parameters: {'n_estimators': 405, 'learning_rate': 0.4078932359828466, 'max_depth': 2}. Best is trial 0 with value: 0.8423423423423424.\n",
            "[I 2025-09-18 18:59:31,851] Trial 40 finished with value: 0.8220720720720721 and parameters: {'n_estimators': 316, 'learning_rate': 0.21079111128108174, 'max_depth': 3}. Best is trial 0 with value: 0.8423423423423424.\n",
            "[I 2025-09-18 18:59:32,471] Trial 41 finished with value: 0.8367117117117117 and parameters: {'n_estimators': 73, 'learning_rate': 0.015301546091456147, 'max_depth': 7}. Best is trial 0 with value: 0.8423423423423424.\n",
            "[I 2025-09-18 18:59:33,311] Trial 42 finished with value: 0.838963963963964 and parameters: {'n_estimators': 100, 'learning_rate': 0.059796445095126494, 'max_depth': 9}. Best is trial 0 with value: 0.8423423423423424.\n",
            "[I 2025-09-18 18:59:35,045] Trial 43 finished with value: 0.8265765765765766 and parameters: {'n_estimators': 129, 'learning_rate': 0.352236309186454, 'max_depth': 9}. Best is trial 0 with value: 0.8423423423423424.\n",
            "[I 2025-09-18 18:59:39,039] Trial 44 finished with value: 0.8254504504504504 and parameters: {'n_estimators': 350, 'learning_rate': 0.17180787724717705, 'max_depth': 10}. Best is trial 0 with value: 0.8423423423423424.\n",
            "[I 2025-09-18 18:59:40,202] Trial 45 finished with value: 0.8220720720720721 and parameters: {'n_estimators': 155, 'learning_rate': 0.5522511377986165, 'max_depth': 5}. Best is trial 0 with value: 0.8423423423423424.\n",
            "[I 2025-09-18 18:59:41,379] Trial 46 finished with value: 0.8254504504504504 and parameters: {'n_estimators': 184, 'learning_rate': 0.09353849172854034, 'max_depth': 3}. Best is trial 0 with value: 0.8423423423423424.\n",
            "[I 2025-09-18 18:59:44,751] Trial 47 finished with value: 0.8322072072072072 and parameters: {'n_estimators': 497, 'learning_rate': 0.7457835378426441, 'max_depth': 4}. Best is trial 0 with value: 0.8423423423423424.\n",
            "[I 2025-09-18 18:59:45,479] Trial 48 finished with value: 0.813063063063063 and parameters: {'n_estimators': 80, 'learning_rate': 0.4428984411325393, 'max_depth': 9}. Best is trial 0 with value: 0.8423423423423424.\n",
            "[I 2025-09-18 18:59:47,226] Trial 49 finished with value: 0.8322072072072072 and parameters: {'n_estimators': 225, 'learning_rate': 0.606754427081095, 'max_depth': 5}. Best is trial 0 with value: 0.8423423423423424.\n",
            "[I 2025-09-18 18:59:50,721] Trial 50 finished with value: 0.8243243243243242 and parameters: {'n_estimators': 260, 'learning_rate': 0.8930826286913156, 'max_depth': 6}. Best is trial 0 with value: 0.8423423423423424.\n",
            "[I 2025-09-18 18:59:51,569] Trial 51 finished with value: 0.8310810810810811 and parameters: {'n_estimators': 101, 'learning_rate': 0.01034809108433678, 'max_depth': 9}. Best is trial 0 with value: 0.8423423423423424.\n",
            "[I 2025-09-18 18:59:52,362] Trial 52 finished with value: 0.8333333333333334 and parameters: {'n_estimators': 93, 'learning_rate': 0.08089741495880082, 'max_depth': 8}. Best is trial 0 with value: 0.8423423423423424.\n",
            "[I 2025-09-18 18:59:52,821] Trial 53 finished with value: 0.8254504504504504 and parameters: {'n_estimators': 63, 'learning_rate': 1.7401581687125844, 'max_depth': 4}. Best is trial 0 with value: 0.8423423423423424.\n",
            "[I 2025-09-18 18:59:53,756] Trial 54 finished with value: 0.8265765765765766 and parameters: {'n_estimators': 110, 'learning_rate': 0.1935504845304869, 'max_depth': 7}. Best is trial 0 with value: 0.8423423423423424.\n",
            "[I 2025-09-18 18:59:56,220] Trial 55 finished with value: 0.8198198198198199 and parameters: {'n_estimators': 288, 'learning_rate': 0.3071437590832584, 'max_depth': 9}. Best is trial 0 with value: 0.8423423423423424.\n",
            "[I 2025-09-18 18:59:57,292] Trial 56 finished with value: 0.829954954954955 and parameters: {'n_estimators': 139, 'learning_rate': 0.07257941554623709, 'max_depth': 6}. Best is trial 0 with value: 0.8423423423423424.\n",
            "[I 2025-09-18 18:59:58,753] Trial 57 finished with value: 0.8288288288288289 and parameters: {'n_estimators': 175, 'learning_rate': 0.22733101975577932, 'max_depth': 8}. Best is trial 0 with value: 0.8423423423423424.\n",
            "[I 2025-09-18 18:59:59,375] Trial 58 finished with value: 0.8412162162162162 and parameters: {'n_estimators': 80, 'learning_rate': 0.37364949884405785, 'max_depth': 5}. Best is trial 0 with value: 0.8423423423423424.\n",
            "[I 2025-09-18 18:59:59,949] Trial 59 finished with value: 0.8355855855855857 and parameters: {'n_estimators': 78, 'learning_rate': 0.49916856021044875, 'max_depth': 5}. Best is trial 0 with value: 0.8423423423423424.\n",
            "[I 2025-09-18 19:00:02,568] Trial 60 finished with value: 0.8231981981981983 and parameters: {'n_estimators': 209, 'learning_rate': 0.3722087975925036, 'max_depth': 4}. Best is trial 0 with value: 0.8423423423423424.\n",
            "[I 2025-09-18 19:00:03,368] Trial 61 finished with value: 0.8288288288288288 and parameters: {'n_estimators': 51, 'learning_rate': 0.6893974707859598, 'max_depth': 5}. Best is trial 0 with value: 0.8423423423423424.\n",
            "[I 2025-09-18 19:00:04,226] Trial 62 finished with value: 0.8254504504504504 and parameters: {'n_estimators': 112, 'learning_rate': 0.32363071242251795, 'max_depth': 4}. Best is trial 0 with value: 0.8423423423423424.\n",
            "[I 2025-09-18 19:00:05,801] Trial 63 finished with value: 0.8277027027027026 and parameters: {'n_estimators': 243, 'learning_rate': 0.1392765729517086, 'max_depth': 3}. Best is trial 0 with value: 0.8423423423423424.\n",
            "[I 2025-09-18 19:00:06,769] Trial 64 finished with value: 0.829954954954955 and parameters: {'n_estimators': 124, 'learning_rate': 0.25357531467545646, 'max_depth': 6}. Best is trial 0 with value: 0.8423423423423424.\n",
            "[I 2025-09-18 19:00:07,461] Trial 65 finished with value: 0.8231981981981983 and parameters: {'n_estimators': 83, 'learning_rate': 0.45302485670100706, 'max_depth': 7}. Best is trial 0 with value: 0.8423423423423424.\n",
            "[I 2025-09-18 19:00:09,670] Trial 66 finished with value: 0.838963963963964 and parameters: {'n_estimators': 301, 'learning_rate': 0.809176157798467, 'max_depth': 5}. Best is trial 0 with value: 0.8423423423423424.\n",
            "[I 2025-09-18 19:00:11,672] Trial 67 finished with value: 0.8310810810810811 and parameters: {'n_estimators': 276, 'learning_rate': 0.8057431976980685, 'max_depth': 5}. Best is trial 0 with value: 0.8423423423423424.\n",
            "[I 2025-09-18 19:00:14,387] Trial 68 finished with value: 0.8277027027027027 and parameters: {'n_estimators': 302, 'learning_rate': 1.0427765114616054, 'max_depth': 5}. Best is trial 0 with value: 0.8423423423423424.\n",
            "[I 2025-09-18 19:00:17,322] Trial 69 finished with value: 0.829954954954955 and parameters: {'n_estimators': 252, 'learning_rate': 0.9630452015114287, 'max_depth': 4}. Best is trial 0 with value: 0.8423423423423424.\n",
            "[I 2025-09-18 19:00:20,132] Trial 70 finished with value: 0.8231981981981983 and parameters: {'n_estimators': 366, 'learning_rate': 0.7271083275077515, 'max_depth': 6}. Best is trial 0 with value: 0.8423423423423424.\n",
            "[I 2025-09-18 19:00:22,256] Trial 71 finished with value: 0.829954954954955 and parameters: {'n_estimators': 314, 'learning_rate': 0.6026265613178281, 'max_depth': 4}. Best is trial 0 with value: 0.8423423423423424.\n",
            "[I 2025-09-18 19:00:22,746] Trial 72 finished with value: 0.8277027027027026 and parameters: {'n_estimators': 62, 'learning_rate': 0.7914429934660053, 'max_depth': 5}. Best is trial 0 with value: 0.8423423423423424.\n",
            "[I 2025-09-18 19:00:24,760] Trial 73 finished with value: 0.8322072072072072 and parameters: {'n_estimators': 276, 'learning_rate': 0.5589887116137202, 'max_depth': 5}. Best is trial 0 with value: 0.8423423423423424.\n",
            "[I 2025-09-18 19:00:26,064] Trial 74 finished with value: 0.8198198198198199 and parameters: {'n_estimators': 147, 'learning_rate': 0.6319733156419817, 'max_depth': 10}. Best is trial 0 with value: 0.8423423423423424.\n",
            "[I 2025-09-18 19:00:26,753] Trial 75 finished with value: 0.8367117117117117 and parameters: {'n_estimators': 96, 'learning_rate': 0.04367959960818446, 'max_depth': 4}. Best is trial 0 with value: 0.8423423423423424.\n",
            "[I 2025-09-18 19:00:30,620] Trial 76 finished with value: 0.8322072072072072 and parameters: {'n_estimators': 332, 'learning_rate': 0.8729648209772005, 'max_depth': 4}. Best is trial 0 with value: 0.8423423423423424.\n",
            "[I 2025-09-18 19:00:32,105] Trial 77 finished with value: 0.8209459459459459 and parameters: {'n_estimators': 231, 'learning_rate': 1.108268367887653, 'max_depth': 3}. Best is trial 0 with value: 0.8423423423423424.\n",
            "[I 2025-09-18 19:00:35,041] Trial 78 finished with value: 0.8277027027027026 and parameters: {'n_estimators': 406, 'learning_rate': 0.15899062836891065, 'max_depth': 5}. Best is trial 0 with value: 0.8423423423423424.\n",
            "[I 2025-09-18 19:00:37,344] Trial 79 finished with value: 0.8344594594594593 and parameters: {'n_estimators': 299, 'learning_rate': 0.38414052561985573, 'max_depth': 6}. Best is trial 0 with value: 0.8423423423423424.\n",
            "[I 2025-09-18 19:00:38,468] Trial 80 finished with value: 0.8198198198198198 and parameters: {'n_estimators': 169, 'learning_rate': 0.2779186979956096, 'max_depth': 3}. Best is trial 0 with value: 0.8423423423423424.\n",
            "[I 2025-09-18 19:00:40,236] Trial 81 finished with value: 0.8175675675675675 and parameters: {'n_estimators': 281, 'learning_rate': 0.7254925454512792, 'max_depth': 2}. Best is trial 0 with value: 0.8423423423423424.\n",
            "[I 2025-09-18 19:00:43,588] Trial 82 finished with value: 0.8243243243243242 and parameters: {'n_estimators': 294, 'learning_rate': 1.2349429829812149, 'max_depth': 3}. Best is trial 0 with value: 0.8423423423423424.\n",
            "[I 2025-09-18 19:00:45,842] Trial 83 finished with value: 0.8277027027027026 and parameters: {'n_estimators': 351, 'learning_rate': 0.927654390477624, 'max_depth': 3}. Best is trial 0 with value: 0.8423423423423424.\n",
            "[I 2025-09-18 19:00:47,633] Trial 84 finished with value: 0.829954954954955 and parameters: {'n_estimators': 263, 'learning_rate': 0.7841645054720436, 'max_depth': 4}. Best is trial 0 with value: 0.8423423423423424.\n",
            "[I 2025-09-18 19:00:48,150] Trial 85 finished with value: 0.8344594594594593 and parameters: {'n_estimators': 71, 'learning_rate': 0.10257126837280091, 'max_depth': 4}. Best is trial 0 with value: 0.8423423423423424.\n",
            "[I 2025-09-18 19:00:50,389] Trial 86 finished with value: 0.8322072072072072 and parameters: {'n_estimators': 311, 'learning_rate': 0.8390751205916436, 'max_depth': 5}. Best is trial 0 with value: 0.8423423423423424.\n",
            "[I 2025-09-18 19:00:51,430] Trial 87 finished with value: 0.8243243243243242 and parameters: {'n_estimators': 120, 'learning_rate': 0.6707802298372912, 'max_depth': 8}. Best is trial 0 with value: 0.8423423423423424.\n",
            "[I 2025-09-18 19:00:52,059] Trial 88 finished with value: 0.8175675675675675 and parameters: {'n_estimators': 107, 'learning_rate': 0.47395545553674295, 'max_depth': 2}. Best is trial 0 with value: 0.8423423423423424.\n",
            "[I 2025-09-18 19:00:53,064] Trial 89 finished with value: 0.829954954954955 and parameters: {'n_estimators': 135, 'learning_rate': 1.0434506777954804, 'max_depth': 5}. Best is trial 0 with value: 0.8423423423423424.\n",
            "[I 2025-09-18 19:00:56,903] Trial 90 finished with value: 0.8423423423423424 and parameters: {'n_estimators': 320, 'learning_rate': 0.5417872133743252, 'max_depth': 4}. Best is trial 0 with value: 0.8423423423423424.\n",
            "[I 2025-09-18 19:00:59,096] Trial 91 finished with value: 0.8423423423423424 and parameters: {'n_estimators': 322, 'learning_rate': 0.5424603802219613, 'max_depth': 4}. Best is trial 0 with value: 0.8423423423423424.\n",
            "[I 2025-09-18 19:01:01,297] Trial 92 finished with value: 0.8400900900900901 and parameters: {'n_estimators': 323, 'learning_rate': 0.5230561932909197, 'max_depth': 4}. Best is trial 0 with value: 0.8423423423423424.\n",
            "[I 2025-09-18 19:01:03,683] Trial 93 finished with value: 0.8355855855855855 and parameters: {'n_estimators': 349, 'learning_rate': 0.5516126221057046, 'max_depth': 4}. Best is trial 0 with value: 0.8423423423423424.\n",
            "[I 2025-09-18 19:01:06,029] Trial 94 finished with value: 0.8333333333333334 and parameters: {'n_estimators': 335, 'learning_rate': 0.4118710271699668, 'max_depth': 4}. Best is trial 0 with value: 0.8423423423423424.\n",
            "[I 2025-09-18 19:01:09,859] Trial 95 finished with value: 0.8457207207207208 and parameters: {'n_estimators': 326, 'learning_rate': 0.5115432673589696, 'max_depth': 4}. Best is trial 95 with value: 0.8457207207207208.\n",
            "[I 2025-09-18 19:01:12,070] Trial 96 finished with value: 0.8333333333333334 and parameters: {'n_estimators': 325, 'learning_rate': 0.5196868706260362, 'max_depth': 4}. Best is trial 95 with value: 0.8457207207207208.\n",
            "[I 2025-09-18 19:01:14,742] Trial 97 finished with value: 0.829954954954955 and parameters: {'n_estimators': 361, 'learning_rate': 0.6383909016343586, 'max_depth': 5}. Best is trial 95 with value: 0.8457207207207208.\n",
            "[I 2025-09-18 19:01:16,989] Trial 98 finished with value: 0.8423423423423424 and parameters: {'n_estimators': 320, 'learning_rate': 0.5782274692987102, 'max_depth': 4}. Best is trial 95 with value: 0.8457207207207208.\n",
            "[I 2025-09-18 19:01:19,639] Trial 99 finished with value: 0.8344594594594593 and parameters: {'n_estimators': 394, 'learning_rate': 0.5685730694817519, 'max_depth': 4}. Best is trial 95 with value: 0.8457207207207208.\n"
          ]
        }
      ]
    },
    {
      "cell_type": "code",
      "source": [
        "print(f'Best trial accuracy: {study.best_trial.value}')\n",
        "print(f'Best hyperparameters: {study.best_trial.params}') #81.74 on simple , 78.92 ds, 0.84"
      ],
      "metadata": {
        "colab": {
          "base_uri": "https://localhost:8080/"
        },
        "id": "irgMpNZY9CKp",
        "outputId": "2cefe98f-ae13-4d63-e114-95848c04329c"
      },
      "execution_count": 80,
      "outputs": [
        {
          "output_type": "stream",
          "name": "stdout",
          "text": [
            "Best trial accuracy: 0.8457207207207208\n",
            "Best hyperparameters: {'n_estimators': 326, 'learning_rate': 0.5115432673589696, 'max_depth': 4}\n"
          ]
        }
      ]
    },
    {
      "cell_type": "code",
      "source": [
        "ads = AdaBoostClassifier(n_estimators=326, learning_rate=0.5115432673589696, estimator=DecisionTreeClassifier(max_depth=4, random_state=42))\n",
        "ads.fit(x_train_sm,y_train_sm)\n",
        "print(accuracy_score(y_test,y_pred))\n",
        "print(confusion_matrix(y_test,y_pred))"
      ],
      "metadata": {
        "colab": {
          "base_uri": "https://localhost:8080/"
        },
        "id": "fKKB6hbTKB_0",
        "outputId": "3ea9e7bd-b387-4372-e229-ac1ad65fd4aa"
      },
      "execution_count": 82,
      "outputs": [
        {
          "output_type": "stream",
          "name": "stdout",
          "text": [
            "0.7988826815642458\n",
            "[[89 16]\n",
            " [20 54]]\n"
          ]
        }
      ]
    },
    {
      "cell_type": "code",
      "source": [
        "plt.figure(figsize=(6,4))\n",
        "sns.heatmap(confusion_matrix(y_test,y_pred), annot=True, fmt=\"d\", cmap=\"Blues\", xticklabels=[\"Fake\", \"True\"], yticklabels=[\"Fake\", \"True\"])\n",
        "plt.xlabel(\"Predicted\")\n",
        "plt.ylabel(\"Actual\")\n",
        "plt.title(\"Confusion Matrix ada\")\n",
        "plt.show()"
      ],
      "metadata": {
        "colab": {
          "base_uri": "https://localhost:8080/",
          "height": 410
        },
        "id": "kn4zrO-fHgJt",
        "outputId": "db055440-0ef6-469e-efc6-a5bcfed48572"
      },
      "execution_count": 84,
      "outputs": [
        {
          "output_type": "display_data",
          "data": {
            "text/plain": [
              "<Figure size 600x400 with 2 Axes>"
            ],
            "image/png": "[encoded data removed]"
          },
          "metadata": {}
        }
      ]
    },
    {
      "cell_type": "code",
      "source": [
        "ada_params_sm = study.best_trial.params"
      ],
      "metadata": {
        "id": "S3DZxtWbFwVE"
      },
      "execution_count": 85,
      "outputs": []
    },
    {
      "cell_type": "code",
      "source": [
        "dt = DecisionTreeClassifier()\n",
        "dt.fit(x_train,y_train)\n",
        "y_pred = dt.predict(x_test)\n",
        "print(accuracy_score(y_test,y_pred))\n",
        "print(confusion_matrix(y_test,y_pred))\n",
        "print(cross_val_score(dt,x_train,y_train,cv=3,scoring='accuracy').mean()) #76.53/74.85 --- 73.18, 75---75.97,0.7519"
      ],
      "metadata": {
        "colab": {
          "base_uri": "https://localhost:8080/"
        },
        "id": "9i4rJT2-9EOB",
        "outputId": "0d28a39f-a478-4dd6-b49b-a4ab79aad5f4"
      },
      "execution_count": 86,
      "outputs": [
        {
          "output_type": "stream",
          "name": "stdout",
          "text": [
            "0.770949720670391\n",
            "[[84 21]\n",
            " [20 54]]\n",
            "0.752809984753395\n"
          ]
        }
      ]
    },
    {
      "cell_type": "code",
      "source": [
        "def objective_dt(trial):\n",
        "    criterion = trial.suggest_categorical('criterion', ['gini', 'entropy', 'log_loss'])\n",
        "    max_depth = trial.suggest_int('max_depth', 2, 50)\n",
        "    min_samples_split = trial.suggest_int('min_samples_split', 2, 20)\n",
        "    min_samples_leaf = trial.suggest_int('min_samples_leaf', 1, 10)\n",
        "    max_features = trial.suggest_categorical('max_features', ['sqrt', 'log2', None])\n",
        "\n",
        "    model = DecisionTreeClassifier(\n",
        "        criterion=criterion, max_depth=max_depth,\n",
        "        min_samples_split=min_samples_split, min_samples_leaf=min_samples_leaf,\n",
        "        max_features=max_features, random_state=42\n",
        "    )\n",
        "    score = cross_val_score(model, x_train_sm, y_train_sm, cv=3, scoring='accuracy').mean()\n",
        "    return score\n"
      ],
      "metadata": {
        "id": "maa303Bu88h7"
      },
      "execution_count": 87,
      "outputs": []
    },
    {
      "cell_type": "code",
      "source": [
        "study = optuna.create_study(direction='maximize', sampler=optuna.samplers.TPESampler())  # We aim to maximize accuracy\n",
        "study.optimize(objective_dt, n_trials=100)  # Run 50 trials to find the best hyperparameters"
      ],
      "metadata": {
        "colab": {
          "base_uri": "https://localhost:8080/"
        },
        "collapsed": true,
        "id": "xSMNii6E9KqT",
        "outputId": "85b8f3f3-d1df-460c-b0bc-54147abe8db1"
      },
      "execution_count": 88,
      "outputs": [
        {
          "output_type": "stream",
          "name": "stderr",
          "text": [
            "[I 2025-09-18 19:03:05,514] A new study created in memory with name: no-name-0aafa113-6c2f-48c4-be8a-b4e7e9137cd2\n",
            "[I 2025-09-18 19:03:05,552] Trial 0 finished with value: 0.8063063063063064 and parameters: {'criterion': 'log_loss', 'max_depth': 45, 'min_samples_split': 3, 'min_samples_leaf': 1, 'max_features': 'log2'}. Best is trial 0 with value: 0.8063063063063064.\n",
            "[I 2025-09-18 19:03:05,587] Trial 1 finished with value: 0.8085585585585585 and parameters: {'criterion': 'entropy', 'max_depth': 11, 'min_samples_split': 15, 'min_samples_leaf': 4, 'max_features': None}. Best is trial 1 with value: 0.8085585585585585.\n",
            "[I 2025-09-18 19:03:05,620] Trial 2 finished with value: 0.8096846846846847 and parameters: {'criterion': 'entropy', 'max_depth': 49, 'min_samples_split': 12, 'min_samples_leaf': 1, 'max_features': 'log2'}. Best is trial 2 with value: 0.8096846846846847.\n",
            "[I 2025-09-18 19:03:05,657] Trial 3 finished with value: 0.7984234234234234 and parameters: {'criterion': 'gini', 'max_depth': 4, 'min_samples_split': 6, 'min_samples_leaf': 1, 'max_features': 'log2'}. Best is trial 2 with value: 0.8096846846846847.\n",
            "[I 2025-09-18 19:03:05,703] Trial 4 finished with value: 0.8220720720720721 and parameters: {'criterion': 'gini', 'max_depth': 30, 'min_samples_split': 16, 'min_samples_leaf': 1, 'max_features': None}. Best is trial 4 with value: 0.8220720720720721.\n",
            "[I 2025-09-18 19:03:05,745] Trial 5 finished with value: 0.8209459459459459 and parameters: {'criterion': 'gini', 'max_depth': 47, 'min_samples_split': 5, 'min_samples_leaf': 3, 'max_features': None}. Best is trial 4 with value: 0.8220720720720721.\n",
            "[I 2025-09-18 19:03:05,778] Trial 6 finished with value: 0.8040540540540541 and parameters: {'criterion': 'gini', 'max_depth': 46, 'min_samples_split': 15, 'min_samples_leaf': 2, 'max_features': 'sqrt'}. Best is trial 4 with value: 0.8220720720720721.\n",
            "[I 2025-09-18 19:03:05,812] Trial 7 finished with value: 0.8063063063063063 and parameters: {'criterion': 'log_loss', 'max_depth': 40, 'min_samples_split': 16, 'min_samples_leaf': 7, 'max_features': 'log2'}. Best is trial 4 with value: 0.8220720720720721.\n",
            "[I 2025-09-18 19:03:05,844] Trial 8 finished with value: 0.8175675675675675 and parameters: {'criterion': 'log_loss', 'max_depth': 50, 'min_samples_split': 11, 'min_samples_leaf': 6, 'max_features': 'sqrt'}. Best is trial 4 with value: 0.8220720720720721.\n",
            "[I 2025-09-18 19:03:05,882] Trial 9 finished with value: 0.8231981981981983 and parameters: {'criterion': 'entropy', 'max_depth': 39, 'min_samples_split': 20, 'min_samples_leaf': 8, 'max_features': None}. Best is trial 9 with value: 0.8231981981981983.\n",
            "[I 2025-09-18 19:03:05,931] Trial 10 finished with value: 0.8209459459459459 and parameters: {'criterion': 'entropy', 'max_depth': 29, 'min_samples_split': 20, 'min_samples_leaf': 10, 'max_features': None}. Best is trial 9 with value: 0.8231981981981983.\n",
            "[I 2025-09-18 19:03:05,978] Trial 11 finished with value: 0.8198198198198199 and parameters: {'criterion': 'entropy', 'max_depth': 30, 'min_samples_split': 19, 'min_samples_leaf': 9, 'max_features': None}. Best is trial 9 with value: 0.8231981981981983.\n",
            "[I 2025-09-18 19:03:06,026] Trial 12 finished with value: 0.8243243243243242 and parameters: {'criterion': 'gini', 'max_depth': 21, 'min_samples_split': 18, 'min_samples_leaf': 8, 'max_features': None}. Best is trial 12 with value: 0.8243243243243242.\n",
            "[I 2025-09-18 19:03:06,082] Trial 13 finished with value: 0.8220720720720721 and parameters: {'criterion': 'gini', 'max_depth': 20, 'min_samples_split': 20, 'min_samples_leaf': 8, 'max_features': None}. Best is trial 12 with value: 0.8243243243243242.\n",
            "[I 2025-09-18 19:03:06,133] Trial 14 finished with value: 0.8186936936936937 and parameters: {'criterion': 'entropy', 'max_depth': 20, 'min_samples_split': 11, 'min_samples_leaf': 8, 'max_features': None}. Best is trial 12 with value: 0.8243243243243242.\n",
            "[I 2025-09-18 19:03:06,185] Trial 15 finished with value: 0.8220720720720719 and parameters: {'criterion': 'gini', 'max_depth': 39, 'min_samples_split': 17, 'min_samples_leaf': 5, 'max_features': None}. Best is trial 12 with value: 0.8243243243243242.\n",
            "[I 2025-09-18 19:03:06,235] Trial 16 finished with value: 0.7939189189189189 and parameters: {'criterion': 'entropy', 'max_depth': 22, 'min_samples_split': 18, 'min_samples_leaf': 10, 'max_features': 'sqrt'}. Best is trial 12 with value: 0.8243243243243242.\n",
            "[I 2025-09-18 19:03:06,292] Trial 17 finished with value: 0.8254504504504504 and parameters: {'criterion': 'gini', 'max_depth': 36, 'min_samples_split': 13, 'min_samples_leaf': 7, 'max_features': None}. Best is trial 17 with value: 0.8254504504504504.\n",
            "[I 2025-09-18 19:03:06,344] Trial 18 finished with value: 0.8243243243243242 and parameters: {'criterion': 'gini', 'max_depth': 14, 'min_samples_split': 13, 'min_samples_leaf': 6, 'max_features': None}. Best is trial 17 with value: 0.8254504504504504.\n",
            "[I 2025-09-18 19:03:06,390] Trial 19 finished with value: 0.795045045045045 and parameters: {'criterion': 'gini', 'max_depth': 34, 'min_samples_split': 9, 'min_samples_leaf': 7, 'max_features': 'sqrt'}. Best is trial 17 with value: 0.8254504504504504.\n",
            "[I 2025-09-18 19:03:06,440] Trial 20 finished with value: 0.8254504504504504 and parameters: {'criterion': 'gini', 'max_depth': 24, 'min_samples_split': 14, 'min_samples_leaf': 5, 'max_features': None}. Best is trial 17 with value: 0.8254504504504504.\n",
            "[I 2025-09-18 19:03:06,489] Trial 21 finished with value: 0.8254504504504504 and parameters: {'criterion': 'gini', 'max_depth': 23, 'min_samples_split': 14, 'min_samples_leaf': 5, 'max_features': None}. Best is trial 17 with value: 0.8254504504504504.\n",
            "[I 2025-09-18 19:03:06,542] Trial 22 finished with value: 0.8322072072072072 and parameters: {'criterion': 'gini', 'max_depth': 24, 'min_samples_split': 9, 'min_samples_leaf': 5, 'max_features': None}. Best is trial 22 with value: 0.8322072072072072.\n",
            "[I 2025-09-18 19:03:06,600] Trial 23 finished with value: 0.8355855855855857 and parameters: {'criterion': 'gini', 'max_depth': 34, 'min_samples_split': 9, 'min_samples_leaf': 4, 'max_features': None}. Best is trial 23 with value: 0.8355855855855857.\n",
            "[I 2025-09-18 19:03:06,658] Trial 24 finished with value: 0.8355855855855857 and parameters: {'criterion': 'gini', 'max_depth': 34, 'min_samples_split': 9, 'min_samples_leaf': 4, 'max_features': None}. Best is trial 23 with value: 0.8355855855855857.\n",
            "[I 2025-09-18 19:03:06,711] Trial 25 finished with value: 0.8310810810810811 and parameters: {'criterion': 'gini', 'max_depth': 34, 'min_samples_split': 8, 'min_samples_leaf': 3, 'max_features': None}. Best is trial 23 with value: 0.8355855855855857.\n",
            "[I 2025-09-18 19:03:06,766] Trial 26 finished with value: 0.831081081081081 and parameters: {'criterion': 'log_loss', 'max_depth': 27, 'min_samples_split': 9, 'min_samples_leaf': 4, 'max_features': None}. Best is trial 23 with value: 0.8355855855855857.\n",
            "[I 2025-09-18 19:03:06,825] Trial 27 finished with value: 0.8322072072072073 and parameters: {'criterion': 'gini', 'max_depth': 32, 'min_samples_split': 8, 'min_samples_leaf': 4, 'max_features': None}. Best is trial 23 with value: 0.8355855855855857.\n",
            "[I 2025-09-18 19:03:06,877] Trial 28 finished with value: 0.8231981981981983 and parameters: {'criterion': 'gini', 'max_depth': 41, 'min_samples_split': 7, 'min_samples_leaf': 3, 'max_features': 'sqrt'}. Best is trial 23 with value: 0.8355855855855857.\n",
            "[I 2025-09-18 19:03:06,932] Trial 29 finished with value: 0.8018018018018017 and parameters: {'criterion': 'log_loss', 'max_depth': 34, 'min_samples_split': 5, 'min_samples_leaf': 4, 'max_features': 'log2'}. Best is trial 23 with value: 0.8355855855855857.\n",
            "[I 2025-09-18 19:03:06,984] Trial 30 finished with value: 0.8051801801801802 and parameters: {'criterion': 'gini', 'max_depth': 43, 'min_samples_split': 2, 'min_samples_leaf': 2, 'max_features': 'log2'}. Best is trial 23 with value: 0.8355855855855857.\n",
            "[I 2025-09-18 19:03:07,039] Trial 31 finished with value: 0.8355855855855857 and parameters: {'criterion': 'gini', 'max_depth': 26, 'min_samples_split': 9, 'min_samples_leaf': 4, 'max_features': None}. Best is trial 23 with value: 0.8355855855855857.\n",
            "[I 2025-09-18 19:03:07,093] Trial 32 finished with value: 0.8322072072072073 and parameters: {'criterion': 'gini', 'max_depth': 16, 'min_samples_split': 8, 'min_samples_leaf': 4, 'max_features': None}. Best is trial 23 with value: 0.8355855855855857.\n",
            "[I 2025-09-18 19:03:07,147] Trial 33 finished with value: 0.8288288288288288 and parameters: {'criterion': 'gini', 'max_depth': 32, 'min_samples_split': 10, 'min_samples_leaf': 3, 'max_features': None}. Best is trial 23 with value: 0.8355855855855857.\n",
            "[I 2025-09-18 19:03:07,193] Trial 34 finished with value: 0.8322072072072073 and parameters: {'criterion': 'gini', 'max_depth': 37, 'min_samples_split': 4, 'min_samples_leaf': 4, 'max_features': None}. Best is trial 23 with value: 0.8355855855855857.\n",
            "[I 2025-09-18 19:03:07,222] Trial 35 finished with value: 0.8186936936936937 and parameters: {'criterion': 'gini', 'max_depth': 28, 'min_samples_split': 7, 'min_samples_leaf': 2, 'max_features': None}. Best is trial 23 with value: 0.8355855855855857.\n",
            "[I 2025-09-18 19:03:07,248] Trial 36 finished with value: 0.8074324324324325 and parameters: {'criterion': 'gini', 'max_depth': 3, 'min_samples_split': 10, 'min_samples_leaf': 4, 'max_features': 'log2'}. Best is trial 23 with value: 0.8355855855855857.\n",
            "[I 2025-09-18 19:03:07,276] Trial 37 finished with value: 0.829954954954955 and parameters: {'criterion': 'gini', 'max_depth': 31, 'min_samples_split': 6, 'min_samples_leaf': 6, 'max_features': None}. Best is trial 23 with value: 0.8355855855855857.\n",
            "[I 2025-09-18 19:03:07,308] Trial 38 finished with value: 0.8085585585585585 and parameters: {'criterion': 'log_loss', 'max_depth': 7, 'min_samples_split': 11, 'min_samples_leaf': 3, 'max_features': None}. Best is trial 23 with value: 0.8355855855855857.\n",
            "[I 2025-09-18 19:03:07,338] Trial 39 finished with value: 0.8186936936936937 and parameters: {'criterion': 'gini', 'max_depth': 43, 'min_samples_split': 7, 'min_samples_leaf': 2, 'max_features': None}. Best is trial 23 with value: 0.8355855855855857.\n",
            "[I 2025-09-18 19:03:07,366] Trial 40 finished with value: 0.7916666666666666 and parameters: {'criterion': 'gini', 'max_depth': 26, 'min_samples_split': 12, 'min_samples_leaf': 4, 'max_features': 'log2'}. Best is trial 23 with value: 0.8355855855855857.\n",
            "[I 2025-09-18 19:03:07,394] Trial 41 finished with value: 0.8322072072072073 and parameters: {'criterion': 'gini', 'max_depth': 13, 'min_samples_split': 8, 'min_samples_leaf': 4, 'max_features': None}. Best is trial 23 with value: 0.8355855855855857.\n",
            "[I 2025-09-18 19:03:07,425] Trial 42 finished with value: 0.8322072072072072 and parameters: {'criterion': 'gini', 'max_depth': 17, 'min_samples_split': 8, 'min_samples_leaf': 5, 'max_features': None}. Best is trial 23 with value: 0.8355855855855857.\n",
            "[I 2025-09-18 19:03:07,459] Trial 43 finished with value: 0.8322072072072072 and parameters: {'criterion': 'gini', 'max_depth': 32, 'min_samples_split': 10, 'min_samples_leaf': 4, 'max_features': None}. Best is trial 23 with value: 0.8355855855855857.\n",
            "[I 2025-09-18 19:03:07,489] Trial 44 finished with value: 0.8209459459459459 and parameters: {'criterion': 'gini', 'max_depth': 37, 'min_samples_split': 6, 'min_samples_leaf': 3, 'max_features': None}. Best is trial 23 with value: 0.8355855855855857.\n",
            "[I 2025-09-18 19:03:07,517] Trial 45 finished with value: 0.8040540540540541 and parameters: {'criterion': 'gini', 'max_depth': 8, 'min_samples_split': 9, 'min_samples_leaf': 6, 'max_features': 'sqrt'}. Best is trial 23 with value: 0.8355855855855857.\n",
            "[I 2025-09-18 19:03:07,546] Trial 46 finished with value: 0.8096846846846847 and parameters: {'criterion': 'log_loss', 'max_depth': 17, 'min_samples_split': 5, 'min_samples_leaf': 3, 'max_features': None}. Best is trial 23 with value: 0.8355855855855857.\n",
            "[I 2025-09-18 19:03:07,577] Trial 47 finished with value: 0.829954954954955 and parameters: {'criterion': 'entropy', 'max_depth': 29, 'min_samples_split': 8, 'min_samples_leaf': 1, 'max_features': None}. Best is trial 23 with value: 0.8355855855855857.\n",
            "[I 2025-09-18 19:03:07,606] Trial 48 finished with value: 0.8322072072072072 and parameters: {'criterion': 'gini', 'max_depth': 35, 'min_samples_split': 6, 'min_samples_leaf': 5, 'max_features': None}. Best is trial 23 with value: 0.8355855855855857.\n",
            "[I 2025-09-18 19:03:07,635] Trial 49 finished with value: 0.8231981981981983 and parameters: {'criterion': 'gini', 'max_depth': 17, 'min_samples_split': 12, 'min_samples_leaf': 4, 'max_features': None}. Best is trial 23 with value: 0.8355855855855857.\n",
            "[I 2025-09-18 19:03:07,666] Trial 50 finished with value: 0.8277027027027026 and parameters: {'criterion': 'entropy', 'max_depth': 25, 'min_samples_split': 10, 'min_samples_leaf': 5, 'max_features': None}. Best is trial 23 with value: 0.8355855855855857.\n",
            "[I 2025-09-18 19:03:07,695] Trial 51 finished with value: 0.8322072072072073 and parameters: {'criterion': 'gini', 'max_depth': 38, 'min_samples_split': 4, 'min_samples_leaf': 4, 'max_features': None}. Best is trial 23 with value: 0.8355855855855857.\n",
            "[I 2025-09-18 19:03:07,726] Trial 52 finished with value: 0.8322072072072073 and parameters: {'criterion': 'gini', 'max_depth': 41, 'min_samples_split': 2, 'min_samples_leaf': 4, 'max_features': None}. Best is trial 23 with value: 0.8355855855855857.\n",
            "[I 2025-09-18 19:03:07,755] Trial 53 finished with value: 0.8209459459459459 and parameters: {'criterion': 'gini', 'max_depth': 32, 'min_samples_split': 3, 'min_samples_leaf': 3, 'max_features': None}. Best is trial 23 with value: 0.8355855855855857.\n",
            "[I 2025-09-18 19:03:07,787] Trial 54 finished with value: 0.8322072072072072 and parameters: {'criterion': 'gini', 'max_depth': 36, 'min_samples_split': 4, 'min_samples_leaf': 5, 'max_features': None}. Best is trial 23 with value: 0.8355855855855857.\n",
            "[I 2025-09-18 19:03:07,815] Trial 55 finished with value: 0.7961711711711711 and parameters: {'criterion': 'gini', 'max_depth': 30, 'min_samples_split': 11, 'min_samples_leaf': 3, 'max_features': 'sqrt'}. Best is trial 23 with value: 0.8355855855855857.\n",
            "[I 2025-09-18 19:03:07,844] Trial 56 finished with value: 0.8322072072072073 and parameters: {'criterion': 'gini', 'max_depth': 46, 'min_samples_split': 7, 'min_samples_leaf': 4, 'max_features': None}. Best is trial 23 with value: 0.8355855855855857.\n",
            "[I 2025-09-18 19:03:07,890] Trial 57 finished with value: 0.829954954954955 and parameters: {'criterion': 'gini', 'max_depth': 38, 'min_samples_split': 9, 'min_samples_leaf': 6, 'max_features': None}. Best is trial 23 with value: 0.8355855855855857.\n",
            "[I 2025-09-18 19:03:07,926] Trial 58 finished with value: 0.8277027027027026 and parameters: {'criterion': 'entropy', 'max_depth': 48, 'min_samples_split': 8, 'min_samples_leaf': 5, 'max_features': None}. Best is trial 23 with value: 0.8355855855855857.\n",
            "[I 2025-09-18 19:03:07,956] Trial 59 finished with value: 0.8254504504504504 and parameters: {'criterion': 'log_loss', 'max_depth': 33, 'min_samples_split': 5, 'min_samples_leaf': 2, 'max_features': 'log2'}. Best is trial 23 with value: 0.8355855855855857.\n",
            "[I 2025-09-18 19:03:07,987] Trial 60 finished with value: 0.8322072072072072 and parameters: {'criterion': 'gini', 'max_depth': 27, 'min_samples_split': 10, 'min_samples_leaf': 4, 'max_features': None}. Best is trial 23 with value: 0.8355855855855857.\n",
            "[I 2025-09-18 19:03:08,017] Trial 61 finished with value: 0.8333333333333334 and parameters: {'criterion': 'gini', 'max_depth': 12, 'min_samples_split': 8, 'min_samples_leaf': 4, 'max_features': None}. Best is trial 23 with value: 0.8355855855855857.\n",
            "[I 2025-09-18 19:03:08,049] Trial 62 finished with value: 0.8288288288288288 and parameters: {'criterion': 'gini', 'max_depth': 9, 'min_samples_split': 9, 'min_samples_leaf': 3, 'max_features': None}. Best is trial 23 with value: 0.8355855855855857.\n",
            "[I 2025-09-18 19:03:08,078] Trial 63 finished with value: 0.8186936936936937 and parameters: {'criterion': 'gini', 'max_depth': 5, 'min_samples_split': 7, 'min_samples_leaf': 4, 'max_features': None}. Best is trial 23 with value: 0.8355855855855857.\n",
            "[I 2025-09-18 19:03:08,108] Trial 64 finished with value: 0.8322072072072073 and parameters: {'criterion': 'gini', 'max_depth': 13, 'min_samples_split': 8, 'min_samples_leaf': 4, 'max_features': None}. Best is trial 23 with value: 0.8355855855855857.\n",
            "[I 2025-09-18 19:03:08,139] Trial 65 finished with value: 0.8344594594594593 and parameters: {'criterion': 'gini', 'max_depth': 11, 'min_samples_split': 6, 'min_samples_leaf': 5, 'max_features': None}. Best is trial 23 with value: 0.8355855855855857.\n",
            "[I 2025-09-18 19:03:08,168] Trial 66 finished with value: 0.8322072072072072 and parameters: {'criterion': 'gini', 'max_depth': 19, 'min_samples_split': 6, 'min_samples_leaf': 5, 'max_features': None}. Best is trial 23 with value: 0.8355855855855857.\n",
            "[I 2025-09-18 19:03:08,200] Trial 67 finished with value: 0.8209459459459459 and parameters: {'criterion': 'gini', 'max_depth': 11, 'min_samples_split': 7, 'min_samples_leaf': 5, 'max_features': 'sqrt'}. Best is trial 23 with value: 0.8355855855855857.\n",
            "[I 2025-09-18 19:03:08,230] Trial 68 finished with value: 0.829954954954955 and parameters: {'criterion': 'gini', 'max_depth': 10, 'min_samples_split': 9, 'min_samples_leaf': 6, 'max_features': None}. Best is trial 23 with value: 0.8355855855855857.\n",
            "[I 2025-09-18 19:03:08,265] Trial 69 finished with value: 0.8322072072072072 and parameters: {'criterion': 'gini', 'max_depth': 14, 'min_samples_split': 8, 'min_samples_leaf': 5, 'max_features': None}. Best is trial 23 with value: 0.8355855855855857.\n",
            "[I 2025-09-18 19:03:08,293] Trial 70 finished with value: 0.7882882882882883 and parameters: {'criterion': 'gini', 'max_depth': 15, 'min_samples_split': 12, 'min_samples_leaf': 3, 'max_features': 'log2'}. Best is trial 23 with value: 0.8355855855855857.\n",
            "[I 2025-09-18 19:03:08,326] Trial 71 finished with value: 0.8333333333333334 and parameters: {'criterion': 'gini', 'max_depth': 11, 'min_samples_split': 4, 'min_samples_leaf': 4, 'max_features': None}. Best is trial 23 with value: 0.8355855855855857.\n",
            "[I 2025-09-18 19:03:08,358] Trial 72 finished with value: 0.8333333333333334 and parameters: {'criterion': 'gini', 'max_depth': 11, 'min_samples_split': 6, 'min_samples_leaf': 4, 'max_features': None}. Best is trial 23 with value: 0.8355855855855857.\n",
            "[I 2025-09-18 19:03:08,387] Trial 73 finished with value: 0.8265765765765766 and parameters: {'criterion': 'gini', 'max_depth': 6, 'min_samples_split': 3, 'min_samples_leaf': 4, 'max_features': None}. Best is trial 23 with value: 0.8355855855855857.\n",
            "[I 2025-09-18 19:03:08,418] Trial 74 finished with value: 0.8096846846846847 and parameters: {'criterion': 'gini', 'max_depth': 2, 'min_samples_split': 6, 'min_samples_leaf': 4, 'max_features': None}. Best is trial 23 with value: 0.8355855855855857.\n",
            "[I 2025-09-18 19:03:08,449] Trial 75 finished with value: 0.8344594594594593 and parameters: {'criterion': 'gini', 'max_depth': 10, 'min_samples_split': 4, 'min_samples_leaf': 5, 'max_features': None}. Best is trial 23 with value: 0.8355855855855857.\n",
            "[I 2025-09-18 19:03:08,480] Trial 76 finished with value: 0.8277027027027026 and parameters: {'criterion': 'log_loss', 'max_depth': 11, 'min_samples_split': 3, 'min_samples_leaf': 5, 'max_features': None}. Best is trial 23 with value: 0.8355855855855857.\n",
            "[I 2025-09-18 19:03:08,510] Trial 77 finished with value: 0.8344594594594593 and parameters: {'criterion': 'gini', 'max_depth': 12, 'min_samples_split': 5, 'min_samples_leaf': 5, 'max_features': None}. Best is trial 23 with value: 0.8355855855855857.\n",
            "[I 2025-09-18 19:03:08,544] Trial 78 finished with value: 0.8243243243243242 and parameters: {'criterion': 'entropy', 'max_depth': 12, 'min_samples_split': 4, 'min_samples_leaf': 6, 'max_features': None}. Best is trial 23 with value: 0.8355855855855857.\n",
            "[I 2025-09-18 19:03:08,573] Trial 79 finished with value: 0.8322072072072072 and parameters: {'criterion': 'gini', 'max_depth': 8, 'min_samples_split': 5, 'min_samples_leaf': 5, 'max_features': None}. Best is trial 23 with value: 0.8355855855855857.\n",
            "[I 2025-09-18 19:03:08,603] Trial 80 finished with value: 0.7916666666666666 and parameters: {'criterion': 'gini', 'max_depth': 4, 'min_samples_split': 5, 'min_samples_leaf': 6, 'max_features': 'sqrt'}. Best is trial 23 with value: 0.8355855855855857.\n",
            "[I 2025-09-18 19:03:08,632] Trial 81 finished with value: 0.8333333333333334 and parameters: {'criterion': 'gini', 'max_depth': 9, 'min_samples_split': 4, 'min_samples_leaf': 5, 'max_features': None}. Best is trial 23 with value: 0.8355855855855857.\n",
            "[I 2025-09-18 19:03:08,663] Trial 82 finished with value: 0.8333333333333334 and parameters: {'criterion': 'gini', 'max_depth': 11, 'min_samples_split': 6, 'min_samples_leaf': 4, 'max_features': None}. Best is trial 23 with value: 0.8355855855855857.\n",
            "[I 2025-09-18 19:03:08,692] Trial 83 finished with value: 0.8322072072072072 and parameters: {'criterion': 'gini', 'max_depth': 19, 'min_samples_split': 5, 'min_samples_leaf': 5, 'max_features': None}. Best is trial 23 with value: 0.8355855855855857.\n",
            "[I 2025-09-18 19:03:08,722] Trial 84 finished with value: 0.8231981981981983 and parameters: {'criterion': 'gini', 'max_depth': 7, 'min_samples_split': 3, 'min_samples_leaf': 7, 'max_features': None}. Best is trial 23 with value: 0.8355855855855857.\n",
            "[I 2025-09-18 19:03:08,753] Trial 85 finished with value: 0.8254504504504504 and parameters: {'criterion': 'gini', 'max_depth': 13, 'min_samples_split': 7, 'min_samples_leaf': 3, 'max_features': None}. Best is trial 23 with value: 0.8355855855855857.\n",
            "[I 2025-09-18 19:03:08,783] Trial 86 finished with value: 0.8288288288288288 and parameters: {'criterion': 'gini', 'max_depth': 10, 'min_samples_split': 4, 'min_samples_leaf': 4, 'max_features': None}. Best is trial 23 with value: 0.8355855855855857.\n",
            "[I 2025-09-18 19:03:08,815] Trial 87 finished with value: 0.8322072072072072 and parameters: {'criterion': 'gini', 'max_depth': 15, 'min_samples_split': 5, 'min_samples_leaf': 5, 'max_features': None}. Best is trial 23 with value: 0.8355855855855857.\n",
            "[I 2025-09-18 19:03:08,845] Trial 88 finished with value: 0.8322072072072073 and parameters: {'criterion': 'gini', 'max_depth': 21, 'min_samples_split': 2, 'min_samples_leaf': 4, 'max_features': None}. Best is trial 23 with value: 0.8355855855855857.\n",
            "[I 2025-09-18 19:03:08,873] Trial 89 finished with value: 0.8085585585585586 and parameters: {'criterion': 'gini', 'max_depth': 15, 'min_samples_split': 6, 'min_samples_leaf': 3, 'max_features': 'log2'}. Best is trial 23 with value: 0.8355855855855857.\n",
            "[I 2025-09-18 19:03:08,903] Trial 90 finished with value: 0.8220720720720721 and parameters: {'criterion': 'log_loss', 'max_depth': 12, 'min_samples_split': 10, 'min_samples_leaf': 9, 'max_features': None}. Best is trial 23 with value: 0.8355855855855857.\n",
            "[I 2025-09-18 19:03:08,956] Trial 91 finished with value: 0.8344594594594593 and parameters: {'criterion': 'gini', 'max_depth': 10, 'min_samples_split': 4, 'min_samples_leaf': 5, 'max_features': None}. Best is trial 23 with value: 0.8355855855855857.\n",
            "[I 2025-09-18 19:03:08,986] Trial 92 finished with value: 0.8333333333333334 and parameters: {'criterion': 'gini', 'max_depth': 9, 'min_samples_split': 4, 'min_samples_leaf': 5, 'max_features': None}. Best is trial 23 with value: 0.8355855855855857.\n",
            "[I 2025-09-18 19:03:09,018] Trial 93 finished with value: 0.8231981981981983 and parameters: {'criterion': 'gini', 'max_depth': 7, 'min_samples_split': 6, 'min_samples_leaf': 6, 'max_features': None}. Best is trial 23 with value: 0.8355855855855857.\n",
            "[I 2025-09-18 19:03:09,048] Trial 94 finished with value: 0.8333333333333334 and parameters: {'criterion': 'gini', 'max_depth': 12, 'min_samples_split': 7, 'min_samples_leaf': 4, 'max_features': None}. Best is trial 23 with value: 0.8355855855855857.\n",
            "[I 2025-09-18 19:03:09,084] Trial 95 finished with value: 0.8322072072072072 and parameters: {'criterion': 'gini', 'max_depth': 14, 'min_samples_split': 3, 'min_samples_leaf': 5, 'max_features': None}. Best is trial 23 with value: 0.8355855855855857.\n",
            "[I 2025-09-18 19:03:09,113] Trial 96 finished with value: 0.8243243243243242 and parameters: {'criterion': 'gini', 'max_depth': 10, 'min_samples_split': 11, 'min_samples_leaf': 4, 'max_features': None}. Best is trial 23 with value: 0.8355855855855857.\n",
            "[I 2025-09-18 19:03:09,144] Trial 97 finished with value: 0.8277027027027026 and parameters: {'criterion': 'entropy', 'max_depth': 18, 'min_samples_split': 9, 'min_samples_leaf': 5, 'max_features': None}. Best is trial 23 with value: 0.8355855855855857.\n",
            "[I 2025-09-18 19:03:09,173] Trial 98 finished with value: 0.8186936936936937 and parameters: {'criterion': 'gini', 'max_depth': 5, 'min_samples_split': 4, 'min_samples_leaf': 4, 'max_features': None}. Best is trial 23 with value: 0.8355855855855857.\n",
            "[I 2025-09-18 19:03:09,201] Trial 99 finished with value: 0.8164414414414414 and parameters: {'criterion': 'gini', 'max_depth': 16, 'min_samples_split': 5, 'min_samples_leaf': 5, 'max_features': 'sqrt'}. Best is trial 23 with value: 0.8355855855855857.\n"
          ]
        }
      ]
    },
    {
      "cell_type": "code",
      "source": [
        "print(f'Best trial accuracy: {study.best_trial.value}')\n",
        "print(f'Best hyperparameters: {study.best_trial.params}') #81.46,0.7892 on 100 ---- 83.44"
      ],
      "metadata": {
        "colab": {
          "base_uri": "https://localhost:8080/"
        },
        "id": "ETNwVJbm9Q3y",
        "outputId": "c9b54eab-5997-44dd-b36e-b2f00e6bd7fc"
      },
      "execution_count": 89,
      "outputs": [
        {
          "output_type": "stream",
          "name": "stdout",
          "text": [
            "Best trial accuracy: 0.8355855855855857\n",
            "Best hyperparameters: {'criterion': 'gini', 'max_depth': 34, 'min_samples_split': 9, 'min_samples_leaf': 4, 'max_features': None}\n"
          ]
        }
      ]
    },
    {
      "cell_type": "code",
      "source": [
        "dts = DecisionTreeClassifier(max_depth=7,min_samples_split=5, min_samples_leaf=5,max_features=None,criterion='gini')\n",
        "dts.fit(x_train_sm,y_train_sm)\n",
        "print(accuracy_score(y_test,y_pred))\n",
        "print(confusion_matrix(y_test,y_pred))"
      ],
      "metadata": {
        "colab": {
          "base_uri": "https://localhost:8080/"
        },
        "id": "KBlTOxpBLCHD",
        "outputId": "572047a1-bd90-4af2-8251-19ea2da885c3"
      },
      "execution_count": 90,
      "outputs": [
        {
          "output_type": "stream",
          "name": "stdout",
          "text": [
            "0.770949720670391\n",
            "[[84 21]\n",
            " [20 54]]\n"
          ]
        }
      ]
    },
    {
      "cell_type": "code",
      "source": [
        "rf = RandomForestClassifier()\n",
        "rf.fit(x_train_sm,y_train_sm)\n",
        "y_pred = rf.predict(x_test)\n",
        "print(accuracy_score(y_test,y_pred))\n",
        "print(confusion_matrix(y_test,y_pred))\n",
        "print(cross_val_score(rf,x_train,y_train,cv=3,scoring='accuracy').mean()) #79.88, 80 ---78/79.2---82.12 80.05"
      ],
      "metadata": {
        "colab": {
          "base_uri": "https://localhost:8080/"
        },
        "id": "cUQF8hxl95Ri",
        "outputId": "52ce785b-8fbc-4c96-e9a5-5c86caa7f9f6"
      },
      "execution_count": 96,
      "outputs": [
        {
          "output_type": "stream",
          "name": "stdout",
          "text": [
            "0.8156424581005587\n",
            "[[88 17]\n",
            " [16 58]]\n",
            "0.7865357113309459\n"
          ]
        }
      ]
    },
    {
      "cell_type": "code",
      "source": [
        "plt.figure(figsize=(6,4))\n",
        "sns.heatmap(confusion_matrix(y_test,y_pred), annot=True, fmt=\"d\", cmap=\"Blues\", xticklabels=[\"Fake\", \"True\"], yticklabels=[\"Fake\", \"True\"])\n",
        "plt.xlabel(\"Predicted\")\n",
        "plt.ylabel(\"Actual\")\n",
        "plt.title(\"Confusion Matrix rf\")\n",
        "plt.show()"
      ],
      "metadata": {
        "colab": {
          "base_uri": "https://localhost:8080/",
          "height": 410
        },
        "id": "b12wqchYH5Wm",
        "outputId": "b424c56d-734a-4a62-8e6f-4db736468ced"
      },
      "execution_count": 97,
      "outputs": [
        {
          "output_type": "display_data",
          "data": {
            "text/plain": [
              "<Figure size 600x400 with 2 Axes>"
            ],
            "image/png": "[encoded data removed]"
          },
          "metadata": {}
        }
      ]
    },
    {
      "cell_type": "code",
      "source": [
        "def objective_rf(trial):\n",
        "    n_estimators = trial.suggest_int('n_estimators', 50, 500)\n",
        "    max_depth = trial.suggest_int('max_depth', 3, 50)\n",
        "    max_features = trial.suggest_categorical('max_features', ['sqrt', 'log2', None])\n",
        "    min_samples_split = trial.suggest_int('min_samples_split', 2, 20)\n",
        "    min_samples_leaf = trial.suggest_int('min_samples_leaf', 1, 10)\n",
        "    bootstrap = trial.suggest_categorical('bootstrap', [True, False])\n",
        "    class_weight = trial.suggest_categorical('class_weight', [None, 'balanced'])\n",
        "\n",
        "    model = RandomForestClassifier(\n",
        "        n_estimators=n_estimators, max_depth=max_depth, max_features=max_features,\n",
        "        min_samples_split=min_samples_split, min_samples_leaf=min_samples_leaf,\n",
        "        bootstrap=bootstrap, class_weight=class_weight, random_state=42\n",
        "    )\n",
        "    score = cross_val_score(model, x_train_sm, y_train_sm, cv=3, scoring='accuracy').mean()\n",
        "    return score"
      ],
      "metadata": {
        "id": "ErOiNwdu94dr"
      },
      "execution_count": 98,
      "outputs": []
    },
    {
      "cell_type": "code",
      "source": [
        "study = optuna.create_study(direction='maximize', sampler=optuna.samplers.TPESampler())  # We aim to maximize accuracy\n",
        "study.optimize(objective_rf, n_trials=50)  # Run 50 trials to find the best hyperparameters"
      ],
      "metadata": {
        "colab": {
          "base_uri": "https://localhost:8080/"
        },
        "collapsed": true,
        "id": "KrsUnRgN-Bw0",
        "outputId": "5c4e2fea-5182-455e-9c9b-e982e853bf61"
      },
      "execution_count": 99,
      "outputs": [
        {
          "output_type": "stream",
          "name": "stderr",
          "text": [
            "[I 2025-09-18 19:04:17,868] A new study created in memory with name: no-name-75e13c82-b497-4665-bd1a-13afb966682b\n",
            "[I 2025-09-18 19:04:19,490] Trial 0 finished with value: 0.8355855855855857 and parameters: {'n_estimators': 326, 'max_depth': 11, 'max_features': 'log2', 'min_samples_split': 6, 'min_samples_leaf': 1, 'bootstrap': True, 'class_weight': None}. Best is trial 0 with value: 0.8355855855855857.\n",
            "[I 2025-09-18 19:04:20,685] Trial 1 finished with value: 0.831081081081081 and parameters: {'n_estimators': 270, 'max_depth': 46, 'max_features': 'sqrt', 'min_samples_split': 6, 'min_samples_leaf': 8, 'bootstrap': True, 'class_weight': None}. Best is trial 0 with value: 0.8355855855855857.\n",
            "[I 2025-09-18 19:04:21,994] Trial 2 finished with value: 0.8288288288288288 and parameters: {'n_estimators': 298, 'max_depth': 13, 'max_features': 'log2', 'min_samples_split': 10, 'min_samples_leaf': 8, 'bootstrap': True, 'class_weight': None}. Best is trial 0 with value: 0.8355855855855857.\n",
            "[I 2025-09-18 19:04:23,026] Trial 3 finished with value: 0.8209459459459459 and parameters: {'n_estimators': 207, 'max_depth': 16, 'max_features': None, 'min_samples_split': 4, 'min_samples_leaf': 10, 'bootstrap': False, 'class_weight': None}. Best is trial 0 with value: 0.8355855855855857.\n",
            "[I 2025-09-18 19:04:24,142] Trial 4 finished with value: 0.8220720720720721 and parameters: {'n_estimators': 218, 'max_depth': 23, 'max_features': None, 'min_samples_split': 12, 'min_samples_leaf': 9, 'bootstrap': False, 'class_weight': None}. Best is trial 0 with value: 0.8355855855855857.\n",
            "[I 2025-09-18 19:04:24,848] Trial 5 finished with value: 0.8367117117117117 and parameters: {'n_estimators': 133, 'max_depth': 49, 'max_features': None, 'min_samples_split': 17, 'min_samples_leaf': 8, 'bootstrap': True, 'class_weight': 'balanced'}. Best is trial 5 with value: 0.8367117117117117.\n",
            "[I 2025-09-18 19:04:26,907] Trial 6 finished with value: 0.8333333333333334 and parameters: {'n_estimators': 458, 'max_depth': 14, 'max_features': 'log2', 'min_samples_split': 17, 'min_samples_leaf': 2, 'bootstrap': True, 'class_weight': 'balanced'}. Best is trial 5 with value: 0.8367117117117117.\n",
            "[I 2025-09-18 19:04:27,290] Trial 7 finished with value: 0.8175675675675675 and parameters: {'n_estimators': 87, 'max_depth': 4, 'max_features': 'log2', 'min_samples_split': 9, 'min_samples_leaf': 9, 'bootstrap': True, 'class_weight': 'balanced'}. Best is trial 5 with value: 0.8367117117117117.\n",
            "[I 2025-09-18 19:04:27,788] Trial 8 finished with value: 0.8231981981981983 and parameters: {'n_estimators': 87, 'max_depth': 17, 'max_features': None, 'min_samples_split': 19, 'min_samples_leaf': 8, 'bootstrap': False, 'class_weight': 'balanced'}. Best is trial 5 with value: 0.8367117117117117.\n",
            "[I 2025-09-18 19:04:28,541] Trial 9 finished with value: 0.8153153153153152 and parameters: {'n_estimators': 86, 'max_depth': 37, 'max_features': None, 'min_samples_split': 13, 'min_samples_leaf': 4, 'bootstrap': False, 'class_weight': None}. Best is trial 5 with value: 0.8367117117117117.\n",
            "[I 2025-09-18 19:04:32,154] Trial 10 finished with value: 0.8277027027027026 and parameters: {'n_estimators': 487, 'max_depth': 48, 'max_features': 'sqrt', 'min_samples_split': 16, 'min_samples_leaf': 6, 'bootstrap': True, 'class_weight': 'balanced'}. Best is trial 5 with value: 0.8367117117117117.\n",
            "[I 2025-09-18 19:04:34,026] Trial 11 finished with value: 0.8333333333333334 and parameters: {'n_estimators': 378, 'max_depth': 34, 'max_features': 'log2', 'min_samples_split': 3, 'min_samples_leaf': 1, 'bootstrap': True, 'class_weight': 'balanced'}. Best is trial 5 with value: 0.8367117117117117.\n",
            "[I 2025-09-18 19:04:35,666] Trial 12 finished with value: 0.8288288288288288 and parameters: {'n_estimators': 358, 'max_depth': 3, 'max_features': None, 'min_samples_split': 8, 'min_samples_leaf': 5, 'bootstrap': True, 'class_weight': 'balanced'}. Best is trial 5 with value: 0.8367117117117117.\n",
            "[I 2025-09-18 19:04:36,554] Trial 13 finished with value: 0.8355855855855857 and parameters: {'n_estimators': 191, 'max_depth': 31, 'max_features': 'log2', 'min_samples_split': 15, 'min_samples_leaf': 3, 'bootstrap': True, 'class_weight': None}. Best is trial 5 with value: 0.8367117117117117.\n",
            "[I 2025-09-18 19:04:37,299] Trial 14 finished with value: 0.8209459459459459 and parameters: {'n_estimators': 160, 'max_depth': 41, 'max_features': 'sqrt', 'min_samples_split': 20, 'min_samples_leaf': 6, 'bootstrap': True, 'class_weight': 'balanced'}. Best is trial 5 with value: 0.8367117117117117.\n",
            "[I 2025-09-18 19:04:39,442] Trial 15 finished with value: 0.8344594594594595 and parameters: {'n_estimators': 369, 'max_depth': 26, 'max_features': None, 'min_samples_split': 6, 'min_samples_leaf': 1, 'bootstrap': True, 'class_weight': None}. Best is trial 5 with value: 0.8367117117117117.\n",
            "[I 2025-09-18 19:04:40,739] Trial 16 finished with value: 0.8254504504504504 and parameters: {'n_estimators': 290, 'max_depth': 8, 'max_features': 'log2', 'min_samples_split': 14, 'min_samples_leaf': 7, 'bootstrap': True, 'class_weight': 'balanced'}. Best is trial 5 with value: 0.8367117117117117.\n",
            "[I 2025-09-18 19:04:41,474] Trial 17 finished with value: 0.8445945945945946 and parameters: {'n_estimators': 132, 'max_depth': 21, 'max_features': 'log2', 'min_samples_split': 2, 'min_samples_leaf': 4, 'bootstrap': True, 'class_weight': None}. Best is trial 17 with value: 0.8445945945945946.\n",
            "[I 2025-09-18 19:04:42,983] Trial 18 finished with value: 0.8344594594594595 and parameters: {'n_estimators': 137, 'max_depth': 22, 'max_features': None, 'min_samples_split': 2, 'min_samples_leaf': 4, 'bootstrap': False, 'class_weight': None}. Best is trial 17 with value: 0.8445945945945946.\n",
            "[I 2025-09-18 19:04:43,551] Trial 19 finished with value: 0.8265765765765766 and parameters: {'n_estimators': 55, 'max_depth': 41, 'max_features': 'sqrt', 'min_samples_split': 18, 'min_samples_leaf': 5, 'bootstrap': True, 'class_weight': 'balanced'}. Best is trial 17 with value: 0.8445945945945946.\n",
            "[I 2025-09-18 19:04:44,851] Trial 20 finished with value: 0.8412162162162162 and parameters: {'n_estimators': 141, 'max_depth': 31, 'max_features': None, 'min_samples_split': 11, 'min_samples_leaf': 7, 'bootstrap': True, 'class_weight': None}. Best is trial 17 with value: 0.8445945945945946.\n",
            "[I 2025-09-18 19:04:45,633] Trial 21 finished with value: 0.838963963963964 and parameters: {'n_estimators': 142, 'max_depth': 29, 'max_features': None, 'min_samples_split': 11, 'min_samples_leaf': 6, 'bootstrap': True, 'class_weight': None}. Best is trial 17 with value: 0.8445945945945946.\n",
            "[I 2025-09-18 19:04:46,917] Trial 22 finished with value: 0.8355855855855857 and parameters: {'n_estimators': 235, 'max_depth': 29, 'max_features': None, 'min_samples_split': 11, 'min_samples_leaf': 4, 'bootstrap': True, 'class_weight': None}. Best is trial 17 with value: 0.8445945945945946.\n",
            "[I 2025-09-18 19:04:47,769] Trial 23 finished with value: 0.8400900900900901 and parameters: {'n_estimators': 152, 'max_depth': 20, 'max_features': None, 'min_samples_split': 8, 'min_samples_leaf': 7, 'bootstrap': True, 'class_weight': None}. Best is trial 17 with value: 0.8445945945945946.\n",
            "[I 2025-09-18 19:04:48,684] Trial 24 finished with value: 0.838963963963964 and parameters: {'n_estimators': 172, 'max_depth': 20, 'max_features': None, 'min_samples_split': 8, 'min_samples_leaf': 7, 'bootstrap': True, 'class_weight': None}. Best is trial 17 with value: 0.8445945945945946.\n",
            "[I 2025-09-18 19:04:49,237] Trial 25 finished with value: 0.8243243243243242 and parameters: {'n_estimators': 116, 'max_depth': 25, 'max_features': 'log2', 'min_samples_split': 4, 'min_samples_leaf': 7, 'bootstrap': True, 'class_weight': None}. Best is trial 17 with value: 0.8445945945945946.\n",
            "[I 2025-09-18 19:04:49,565] Trial 26 finished with value: 0.8254504504504506 and parameters: {'n_estimators': 55, 'max_depth': 19, 'max_features': None, 'min_samples_split': 7, 'min_samples_leaf': 3, 'bootstrap': False, 'class_weight': None}. Best is trial 17 with value: 0.8445945945945946.\n",
            "[I 2025-09-18 19:04:50,893] Trial 27 finished with value: 0.8344594594594593 and parameters: {'n_estimators': 240, 'max_depth': 34, 'max_features': None, 'min_samples_split': 4, 'min_samples_leaf': 5, 'bootstrap': True, 'class_weight': None}. Best is trial 17 with value: 0.8445945945945946.\n",
            "[I 2025-09-18 19:04:51,691] Trial 28 finished with value: 0.8220720720720721 and parameters: {'n_estimators': 184, 'max_depth': 23, 'max_features': 'sqrt', 'min_samples_split': 13, 'min_samples_leaf': 7, 'bootstrap': True, 'class_weight': None}. Best is trial 17 with value: 0.8445945945945946.\n",
            "[I 2025-09-18 19:04:52,181] Trial 29 finished with value: 0.8175675675675675 and parameters: {'n_estimators': 104, 'max_depth': 11, 'max_features': 'log2', 'min_samples_split': 5, 'min_samples_leaf': 10, 'bootstrap': True, 'class_weight': None}. Best is trial 17 with value: 0.8445945945945946.\n",
            "[I 2025-09-18 19:04:52,951] Trial 30 finished with value: 0.8355855855855857 and parameters: {'n_estimators': 157, 'max_depth': 29, 'max_features': 'log2', 'min_samples_split': 2, 'min_samples_leaf': 3, 'bootstrap': True, 'class_weight': None}. Best is trial 17 with value: 0.8445945945945946.\n",
            "[I 2025-09-18 19:04:53,635] Trial 31 finished with value: 0.8412162162162162 and parameters: {'n_estimators': 127, 'max_depth': 28, 'max_features': None, 'min_samples_split': 10, 'min_samples_leaf': 6, 'bootstrap': True, 'class_weight': None}. Best is trial 17 with value: 0.8445945945945946.\n",
            "[I 2025-09-18 19:04:54,311] Trial 32 finished with value: 0.8412162162162162 and parameters: {'n_estimators': 121, 'max_depth': 34, 'max_features': None, 'min_samples_split': 10, 'min_samples_leaf': 6, 'bootstrap': True, 'class_weight': None}. Best is trial 17 with value: 0.8445945945945946.\n",
            "[I 2025-09-18 19:04:55,368] Trial 33 finished with value: 0.8400900900900901 and parameters: {'n_estimators': 113, 'max_depth': 36, 'max_features': None, 'min_samples_split': 10, 'min_samples_leaf': 6, 'bootstrap': True, 'class_weight': None}. Best is trial 17 with value: 0.8445945945945946.\n",
            "[I 2025-09-18 19:04:58,010] Trial 34 finished with value: 0.8355855855855857 and parameters: {'n_estimators': 259, 'max_depth': 40, 'max_features': None, 'min_samples_split': 12, 'min_samples_leaf': 5, 'bootstrap': True, 'class_weight': None}. Best is trial 17 with value: 0.8445945945945946.\n",
            "[I 2025-09-18 19:04:59,168] Trial 35 finished with value: 0.8378378378378378 and parameters: {'n_estimators': 211, 'max_depth': 33, 'max_features': None, 'min_samples_split': 10, 'min_samples_leaf': 4, 'bootstrap': True, 'class_weight': None}. Best is trial 17 with value: 0.8445945945945946.\n",
            "[I 2025-09-18 19:04:59,605] Trial 36 finished with value: 0.8198198198198199 and parameters: {'n_estimators': 79, 'max_depth': 38, 'max_features': None, 'min_samples_split': 7, 'min_samples_leaf': 8, 'bootstrap': False, 'class_weight': None}. Best is trial 17 with value: 0.8445945945945946.\n",
            "[I 2025-09-18 19:05:00,205] Trial 37 finished with value: 0.831081081081081 and parameters: {'n_estimators': 126, 'max_depth': 44, 'max_features': 'log2', 'min_samples_split': 9, 'min_samples_leaf': 6, 'bootstrap': True, 'class_weight': None}. Best is trial 17 with value: 0.8445945945945946.\n",
            "[I 2025-09-18 19:05:01,068] Trial 38 finished with value: 0.8209459459459459 and parameters: {'n_estimators': 190, 'max_depth': 27, 'max_features': 'sqrt', 'min_samples_split': 12, 'min_samples_leaf': 9, 'bootstrap': True, 'class_weight': None}. Best is trial 17 with value: 0.8445945945945946.\n",
            "[I 2025-09-18 19:05:01,463] Trial 39 finished with value: 0.8412162162162162 and parameters: {'n_estimators': 70, 'max_depth': 32, 'max_features': None, 'min_samples_split': 14, 'min_samples_leaf': 5, 'bootstrap': True, 'class_weight': None}. Best is trial 17 with value: 0.8445945945945946.\n",
            "[I 2025-09-18 19:05:01,936] Trial 40 finished with value: 0.8344594594594595 and parameters: {'n_estimators': 108, 'max_depth': 16, 'max_features': 'log2', 'min_samples_split': 11, 'min_samples_leaf': 8, 'bootstrap': False, 'class_weight': None}. Best is trial 17 with value: 0.8445945945945946.\n",
            "[I 2025-09-18 19:05:02,341] Trial 41 finished with value: 0.8412162162162162 and parameters: {'n_estimators': 71, 'max_depth': 32, 'max_features': None, 'min_samples_split': 14, 'min_samples_leaf': 5, 'bootstrap': True, 'class_weight': None}. Best is trial 17 with value: 0.8445945945945946.\n",
            "[I 2025-09-18 19:05:02,927] Trial 42 finished with value: 0.8400900900900901 and parameters: {'n_estimators': 105, 'max_depth': 30, 'max_features': None, 'min_samples_split': 15, 'min_samples_leaf': 6, 'bootstrap': True, 'class_weight': None}. Best is trial 17 with value: 0.8445945945945946.\n",
            "[I 2025-09-18 19:05:03,307] Trial 43 finished with value: 0.8400900900900901 and parameters: {'n_estimators': 67, 'max_depth': 24, 'max_features': None, 'min_samples_split': 13, 'min_samples_leaf': 4, 'bootstrap': True, 'class_weight': None}. Best is trial 17 with value: 0.8445945945945946.\n",
            "[I 2025-09-18 19:05:05,060] Trial 44 finished with value: 0.8355855855855855 and parameters: {'n_estimators': 323, 'max_depth': 27, 'max_features': None, 'min_samples_split': 9, 'min_samples_leaf': 5, 'bootstrap': True, 'class_weight': None}. Best is trial 17 with value: 0.8445945945945946.\n",
            "[I 2025-09-18 19:05:05,560] Trial 45 finished with value: 0.8400900900900901 and parameters: {'n_estimators': 88, 'max_depth': 36, 'max_features': None, 'min_samples_split': 10, 'min_samples_leaf': 2, 'bootstrap': True, 'class_weight': None}. Best is trial 17 with value: 0.8445945945945946.\n",
            "[I 2025-09-18 19:05:06,307] Trial 46 finished with value: 0.838963963963964 and parameters: {'n_estimators': 135, 'max_depth': 44, 'max_features': None, 'min_samples_split': 16, 'min_samples_leaf': 6, 'bootstrap': True, 'class_weight': None}. Best is trial 17 with value: 0.8445945945945946.\n",
            "[I 2025-09-18 19:05:07,211] Trial 47 finished with value: 0.838963963963964 and parameters: {'n_estimators': 168, 'max_depth': 32, 'max_features': None, 'min_samples_split': 5, 'min_samples_leaf': 7, 'bootstrap': True, 'class_weight': None}. Best is trial 17 with value: 0.8445945945945946.\n",
            "[I 2025-09-18 19:05:10,090] Trial 48 finished with value: 0.8423423423423424 and parameters: {'n_estimators': 423, 'max_depth': 27, 'max_features': 'log2', 'min_samples_split': 14, 'min_samples_leaf': 4, 'bootstrap': False, 'class_weight': None}. Best is trial 17 with value: 0.8445945945945946.\n",
            "[I 2025-09-18 19:05:12,330] Trial 49 finished with value: 0.8412162162162162 and parameters: {'n_estimators': 426, 'max_depth': 27, 'max_features': 'log2', 'min_samples_split': 12, 'min_samples_leaf': 3, 'bootstrap': False, 'class_weight': None}. Best is trial 17 with value: 0.8445945945945946.\n"
          ]
        }
      ]
    },
    {
      "cell_type": "code",
      "source": [
        "print(f'Best trial accuracy: {study.best_trial.value}')\n",
        "\n",
        "print(f'Best hyperparameters: {study.best_trial.params}') # 82.86, 0.7910, 84.57"
      ],
      "metadata": {
        "colab": {
          "base_uri": "https://localhost:8080/"
        },
        "id": "REgIbTrD-KfJ",
        "outputId": "7acf3a57-57bb-4c03-eba6-29500875758e"
      },
      "execution_count": 100,
      "outputs": [
        {
          "output_type": "stream",
          "name": "stdout",
          "text": [
            "Best trial accuracy: 0.8445945945945946\n",
            "Best hyperparameters: {'n_estimators': 132, 'max_depth': 21, 'max_features': 'log2', 'min_samples_split': 2, 'min_samples_leaf': 4, 'bootstrap': True, 'class_weight': None}\n"
          ]
        }
      ]
    },
    {
      "cell_type": "code",
      "source": [
        "rfs = RandomForestClassifier(n_estimators=132, max_depth=21, max_features='log2',min_samples_split=2,min_samples_leaf=4,bootstrap=True,class_weight=None)\n",
        "rfs.fit(x_train_sm,y_train_sm)\n",
        "print(accuracy_score(y_test,y_pred))\n",
        "print(confusion_matrix(y_test,y_pred))"
      ],
      "metadata": {
        "colab": {
          "base_uri": "https://localhost:8080/"
        },
        "id": "1cgbsLB3Lqu-",
        "outputId": "d413afbd-8f21-435c-b162-be6ccfc6eb60"
      },
      "execution_count": 101,
      "outputs": [
        {
          "output_type": "stream",
          "name": "stdout",
          "text": [
            "0.8156424581005587\n",
            "[[88 17]\n",
            " [16 58]]\n"
          ]
        }
      ]
    },
    {
      "cell_type": "code",
      "source": [
        "gb = GradientBoostingClassifier()\n",
        "gb.fit(x_train,y_train)\n",
        "y_pred = gb.predict(x_test)\n",
        "print(accuracy_score(y_test,y_pred))\n",
        "print(confusion_matrix(y_test,y_pred))\n",
        "print(cross_val_score(gb,x_train,y_train,cv=3,scoring='accuracy').mean()) #82.68,0.81 --- 0.798, 0.813---82.12,81.3"
      ],
      "metadata": {
        "colab": {
          "base_uri": "https://localhost:8080/"
        },
        "id": "5iCB5882-hm5",
        "outputId": "2f2014ef-aa27-40f7-e17e-5e540b5b139d"
      },
      "execution_count": 47,
      "outputs": [
        {
          "output_type": "stream",
          "name": "stdout",
          "text": [
            "0.8268156424581006\n",
            "[[93 12]\n",
            " [19 55]]\n",
            "0.8104043305085747\n"
          ]
        }
      ]
    },
    {
      "cell_type": "code",
      "source": [
        "plt.figure(figsize=(6,4))\n",
        "sns.heatmap(confusion_matrix(y_test,y_pred), annot=True, fmt=\"d\", cmap=\"Blues\", xticklabels=[\"Fake\", \"True\"], yticklabels=[\"Fake\", \"True\"])\n",
        "plt.xlabel(\"Predicted\")\n",
        "plt.ylabel(\"Actual\")\n",
        "plt.title(\"Confusion Matrix gb\")\n",
        "plt.show()"
      ],
      "metadata": {
        "colab": {
          "base_uri": "https://localhost:8080/",
          "height": 410
        },
        "id": "u0D6h8HtH9YG",
        "outputId": "302f0542-8af5-4382-8d09-034bd0b4f300"
      },
      "execution_count": 48,
      "outputs": [
        {
          "output_type": "display_data",
          "data": {
            "text/plain": [
              "<Figure size 600x400 with 2 Axes>"
            ],
            "image/png": "[encoded data removed]"
          },
          "metadata": {}
        }
      ]
    },
    {
      "cell_type": "code",
      "source": [
        "def objective_gb(trial):\n",
        "    n_estimators = trial.suggest_int('n_estimators', 50, 500)\n",
        "    learning_rate = trial.suggest_float('learning_rate', 0.01, 0.5)\n",
        "    max_depth = trial.suggest_int('max_depth', 2, 10)\n",
        "    min_samples_split = trial.suggest_int('min_samples_split', 2, 20)\n",
        "    min_samples_leaf = trial.suggest_int('min_samples_leaf', 1, 10)\n",
        "    subsample = trial.suggest_float('subsample', 0.5, 1.0)\n",
        "    max_features = trial.suggest_categorical('max_features', ['sqrt', 'log2', None])\n",
        "\n",
        "    model = GradientBoostingClassifier(\n",
        "        n_estimators=n_estimators, learning_rate=learning_rate,\n",
        "        max_depth=max_depth, min_samples_split=min_samples_split,\n",
        "        min_samples_leaf=min_samples_leaf, subsample=subsample,\n",
        "        max_features=max_features, random_state=42\n",
        "    )\n",
        "    score = cross_val_score(model, x_train_sm, y_train_sm, cv=3, scoring='accuracy').mean()\n",
        "    return score\n",
        "\n"
      ],
      "metadata": {
        "id": "80rKx4jK-hLy"
      },
      "execution_count": 49,
      "outputs": []
    },
    {
      "cell_type": "code",
      "source": [
        "study = optuna.create_study(direction='maximize', sampler=optuna.samplers.TPESampler())  # We aim to maximize accuracy\n",
        "study.optimize(objective_gb, n_trials=50)  # Run 50 trials to find the best hyperparameters"
      ],
      "metadata": {
        "colab": {
          "base_uri": "https://localhost:8080/"
        },
        "collapsed": true,
        "id": "LcbQfhcP-pMj",
        "outputId": "6cb9c752-91ff-41d4-e622-c3e6c25c79b8"
      },
      "execution_count": 50,
      "outputs": [
        {
          "output_type": "stream",
          "name": "stderr",
          "text": [
            "[I 2025-09-18 18:52:26,768] A new study created in memory with name: no-name-a5859151-e804-4ec3-ad46-92c4c19cd327\n",
            "[I 2025-09-18 18:52:27,992] Trial 0 finished with value: 0.8310810810810811 and parameters: {'n_estimators': 287, 'learning_rate': 0.1033470607752484, 'max_depth': 4, 'min_samples_split': 18, 'min_samples_leaf': 1, 'subsample': 0.6743511484633713, 'max_features': 'sqrt'}. Best is trial 0 with value: 0.8310810810810811.\n",
            "[I 2025-09-18 18:52:30,629] Trial 1 finished with value: 0.8423423423423423 and parameters: {'n_estimators': 239, 'learning_rate': 0.040561852659777464, 'max_depth': 5, 'min_samples_split': 9, 'min_samples_leaf': 1, 'subsample': 0.6553282186532146, 'max_features': 'log2'}. Best is trial 1 with value: 0.8423423423423423.\n",
            "[I 2025-09-18 18:52:33,371] Trial 2 finished with value: 0.8175675675675675 and parameters: {'n_estimators': 226, 'learning_rate': 0.48045474836288443, 'max_depth': 9, 'min_samples_split': 5, 'min_samples_leaf': 4, 'subsample': 0.8105377397106084, 'max_features': None}. Best is trial 1 with value: 0.8423423423423423.\n",
            "[I 2025-09-18 18:52:36,284] Trial 3 finished with value: 0.5990990990990991 and parameters: {'n_estimators': 491, 'learning_rate': 0.4635869080657066, 'max_depth': 8, 'min_samples_split': 10, 'min_samples_leaf': 10, 'subsample': 0.6165293841696596, 'max_features': 'log2'}. Best is trial 1 with value: 0.8423423423423423.\n",
            "[I 2025-09-18 18:52:37,141] Trial 4 finished with value: 0.8288288288288288 and parameters: {'n_estimators': 272, 'learning_rate': 0.1882206981234559, 'max_depth': 2, 'min_samples_split': 15, 'min_samples_leaf': 10, 'subsample': 0.7659198542530272, 'max_features': 'log2'}. Best is trial 1 with value: 0.8423423423423423.\n",
            "[I 2025-09-18 18:52:38,558] Trial 5 finished with value: 0.8265765765765766 and parameters: {'n_estimators': 139, 'learning_rate': 0.04039029751680201, 'max_depth': 9, 'min_samples_split': 10, 'min_samples_leaf': 5, 'subsample': 0.6846244121489653, 'max_features': None}. Best is trial 1 with value: 0.8423423423423423.\n",
            "[I 2025-09-18 18:52:46,926] Trial 6 finished with value: 0.8277027027027026 and parameters: {'n_estimators': 459, 'learning_rate': 0.06018047151078173, 'max_depth': 9, 'min_samples_split': 6, 'min_samples_leaf': 2, 'subsample': 0.8681359426605275, 'max_features': None}. Best is trial 1 with value: 0.8423423423423423.\n",
            "[I 2025-09-18 18:52:50,234] Trial 7 finished with value: 0.8164414414414415 and parameters: {'n_estimators': 376, 'learning_rate': 0.4079216690146378, 'max_depth': 10, 'min_samples_split': 11, 'min_samples_leaf': 10, 'subsample': 0.8911101145887066, 'max_features': None}. Best is trial 1 with value: 0.8423423423423423.\n",
            "[I 2025-09-18 18:52:50,705] Trial 8 finished with value: 0.8186936936936937 and parameters: {'n_estimators': 105, 'learning_rate': 0.40333981616773057, 'max_depth': 4, 'min_samples_split': 19, 'min_samples_leaf': 6, 'subsample': 0.8654220454368413, 'max_features': 'log2'}. Best is trial 1 with value: 0.8423423423423423.\n",
            "[I 2025-09-18 18:52:54,458] Trial 9 finished with value: 0.8164414414414415 and parameters: {'n_estimators': 407, 'learning_rate': 0.08637973534259702, 'max_depth': 10, 'min_samples_split': 12, 'min_samples_leaf': 10, 'subsample': 0.8993617638765473, 'max_features': None}. Best is trial 1 with value: 0.8423423423423423.\n",
            "[I 2025-09-18 18:52:56,426] Trial 10 finished with value: 0.811936936936937 and parameters: {'n_estimators': 184, 'learning_rate': 0.26427046308909763, 'max_depth': 6, 'min_samples_split': 3, 'min_samples_leaf': 7, 'subsample': 0.5227210234332766, 'max_features': 'sqrt'}. Best is trial 1 with value: 0.8423423423423423.\n",
            "[I 2025-09-18 18:52:58,850] Trial 11 finished with value: 0.8186936936936937 and parameters: {'n_estimators': 331, 'learning_rate': 0.1663014791033634, 'max_depth': 5, 'min_samples_split': 20, 'min_samples_leaf': 1, 'subsample': 0.6618523823659397, 'max_features': 'sqrt'}. Best is trial 1 with value: 0.8423423423423423.\n",
            "[I 2025-09-18 18:52:59,891] Trial 12 finished with value: 0.8355855855855855 and parameters: {'n_estimators': 291, 'learning_rate': 0.14746912890385117, 'max_depth': 3, 'min_samples_split': 16, 'min_samples_leaf': 3, 'subsample': 0.5621991468072635, 'max_features': 'sqrt'}. Best is trial 1 with value: 0.8423423423423423.\n",
            "[I 2025-09-18 18:53:00,609] Trial 13 finished with value: 0.829954954954955 and parameters: {'n_estimators': 226, 'learning_rate': 0.26531699305340806, 'max_depth': 2, 'min_samples_split': 15, 'min_samples_leaf': 3, 'subsample': 0.5137246295512359, 'max_features': 'sqrt'}. Best is trial 1 with value: 0.8423423423423423.\n",
            "[I 2025-09-18 18:53:00,842] Trial 14 finished with value: 0.8288288288288288 and parameters: {'n_estimators': 57, 'learning_rate': 0.167581417833115, 'max_depth': 3, 'min_samples_split': 14, 'min_samples_leaf': 3, 'subsample': 0.9821128853695076, 'max_features': 'log2'}. Best is trial 1 with value: 0.8423423423423423.\n",
            "[I 2025-09-18 18:53:03,398] Trial 15 finished with value: 0.8400900900900901 and parameters: {'n_estimators': 315, 'learning_rate': 0.011803453205470021, 'max_depth': 7, 'min_samples_split': 7, 'min_samples_leaf': 2, 'subsample': 0.5838642771563912, 'max_features': 'sqrt'}. Best is trial 1 with value: 0.8423423423423423.\n",
            "[I 2025-09-18 18:53:06,491] Trial 16 finished with value: 0.829954954954955 and parameters: {'n_estimators': 363, 'learning_rate': 0.03113100825961125, 'max_depth': 7, 'min_samples_split': 7, 'min_samples_leaf': 1, 'subsample': 0.5987498256283845, 'max_features': 'log2'}. Best is trial 1 with value: 0.8423423423423423.\n",
            "[I 2025-09-18 18:53:08,614] Trial 17 finished with value: 0.8265765765765766 and parameters: {'n_estimators': 221, 'learning_rate': 0.33205898224127567, 'max_depth': 6, 'min_samples_split': 8, 'min_samples_leaf': 2, 'subsample': 0.7337361403413082, 'max_features': 'sqrt'}. Best is trial 1 with value: 0.8423423423423423.\n",
            "[I 2025-09-18 18:53:12,159] Trial 18 finished with value: 0.8434684684684686 and parameters: {'n_estimators': 317, 'learning_rate': 0.014122324100186351, 'max_depth': 7, 'min_samples_split': 3, 'min_samples_leaf': 5, 'subsample': 0.6065863567562002, 'max_features': 'log2'}. Best is trial 18 with value: 0.8434684684684686.\n",
            "[I 2025-09-18 18:53:14,558] Trial 19 finished with value: 0.811936936936937 and parameters: {'n_estimators': 427, 'learning_rate': 0.11645387684668995, 'max_depth': 6, 'min_samples_split': 2, 'min_samples_leaf': 8, 'subsample': 0.6396271087607927, 'max_features': 'log2'}. Best is trial 18 with value: 0.8434684684684686.\n",
            "[I 2025-09-18 18:53:15,566] Trial 20 finished with value: 0.8243243243243242 and parameters: {'n_estimators': 183, 'learning_rate': 0.2184029138442199, 'max_depth': 5, 'min_samples_split': 3, 'min_samples_leaf': 8, 'subsample': 0.7307650834049473, 'max_features': 'log2'}. Best is trial 18 with value: 0.8434684684684686.\n",
            "[I 2025-09-18 18:53:17,731] Trial 21 finished with value: 0.8434684684684685 and parameters: {'n_estimators': 319, 'learning_rate': 0.022962946067921673, 'max_depth': 7, 'min_samples_split': 5, 'min_samples_leaf': 5, 'subsample': 0.56872853884558, 'max_features': 'log2'}. Best is trial 18 with value: 0.8434684684684686.\n",
            "[I 2025-09-18 18:53:19,515] Trial 22 finished with value: 0.8344594594594593 and parameters: {'n_estimators': 257, 'learning_rate': 0.07095413715889058, 'max_depth': 7, 'min_samples_split': 4, 'min_samples_leaf': 5, 'subsample': 0.5437117198457131, 'max_features': 'log2'}. Best is trial 18 with value: 0.8434684684684686.\n",
            "[I 2025-09-18 18:53:22,921] Trial 23 finished with value: 0.8423423423423424 and parameters: {'n_estimators': 339, 'learning_rate': 0.01175631842187605, 'max_depth': 8, 'min_samples_split': 8, 'min_samples_leaf': 6, 'subsample': 0.6113044223066091, 'max_features': 'log2'}. Best is trial 18 with value: 0.8434684684684686.\n",
            "[I 2025-09-18 18:53:26,091] Trial 24 finished with value: 0.8400900900900901 and parameters: {'n_estimators': 348, 'learning_rate': 0.012777880202958843, 'max_depth': 8, 'min_samples_split': 5, 'min_samples_leaf': 6, 'subsample': 0.5712890754057519, 'max_features': 'log2'}. Best is trial 18 with value: 0.8434684684684686.\n",
            "[I 2025-09-18 18:53:28,793] Trial 25 finished with value: 0.8153153153153153 and parameters: {'n_estimators': 393, 'learning_rate': 0.11495846856999836, 'max_depth': 8, 'min_samples_split': 2, 'min_samples_leaf': 7, 'subsample': 0.6242250132528698, 'max_features': 'log2'}. Best is trial 18 with value: 0.8434684684684686.\n",
            "[I 2025-09-18 18:53:31,053] Trial 26 finished with value: 0.8254504504504506 and parameters: {'n_estimators': 311, 'learning_rate': 0.07501205620668373, 'max_depth': 7, 'min_samples_split': 5, 'min_samples_leaf': 4, 'subsample': 0.5025596523495145, 'max_features': 'log2'}. Best is trial 18 with value: 0.8434684684684686.\n",
            "[I 2025-09-18 18:53:35,143] Trial 27 finished with value: 0.8198198198198199 and parameters: {'n_estimators': 433, 'learning_rate': 0.31183582824482686, 'max_depth': 8, 'min_samples_split': 7, 'min_samples_leaf': 5, 'subsample': 0.7111367050019278, 'max_features': 'log2'}. Best is trial 18 with value: 0.8434684684684686.\n",
            "[I 2025-09-18 18:53:38,482] Trial 28 finished with value: 0.8198198198198199 and parameters: {'n_estimators': 340, 'learning_rate': 0.12954049038023446, 'max_depth': 7, 'min_samples_split': 4, 'min_samples_leaf': 7, 'subsample': 0.549083044562747, 'max_features': 'log2'}. Best is trial 18 with value: 0.8434684684684686.\n",
            "[I 2025-09-18 18:53:41,585] Trial 29 finished with value: 0.8231981981981983 and parameters: {'n_estimators': 290, 'learning_rate': 0.09380224439483446, 'max_depth': 9, 'min_samples_split': 8, 'min_samples_leaf': 4, 'subsample': 0.7799621538737785, 'max_features': 'log2'}. Best is trial 18 with value: 0.8434684684684686.\n",
            "[I 2025-09-18 18:53:44,505] Trial 30 finished with value: 0.8164414414414415 and parameters: {'n_estimators': 372, 'learning_rate': 0.21740820099830907, 'max_depth': 8, 'min_samples_split': 6, 'min_samples_leaf': 6, 'subsample': 0.6982841704043724, 'max_features': 'log2'}. Best is trial 18 with value: 0.8434684684684686.\n",
            "[I 2025-09-18 18:53:45,875] Trial 31 finished with value: 0.8355855855855857 and parameters: {'n_estimators': 253, 'learning_rate': 0.04365457871721518, 'max_depth': 5, 'min_samples_split': 9, 'min_samples_leaf': 5, 'subsample': 0.6636601456052594, 'max_features': 'log2'}. Best is trial 18 with value: 0.8434684684684686.\n",
            "[I 2025-09-18 18:53:47,770] Trial 32 finished with value: 0.8367117117117117 and parameters: {'n_estimators': 310, 'learning_rate': 0.046167418914320496, 'max_depth': 6, 'min_samples_split': 12, 'min_samples_leaf': 8, 'subsample': 0.6424657369881128, 'max_features': 'log2'}. Best is trial 18 with value: 0.8434684684684686.\n",
            "[I 2025-09-18 18:53:49,557] Trial 33 finished with value: 0.8344594594594595 and parameters: {'n_estimators': 200, 'learning_rate': 0.013462355296146535, 'max_depth': 4, 'min_samples_split': 9, 'min_samples_leaf': 4, 'subsample': 0.5982362594350772, 'max_features': 'log2'}. Best is trial 18 with value: 0.8434684684684686.\n",
            "[I 2025-09-18 18:53:51,537] Trial 34 finished with value: 0.8322072072072073 and parameters: {'n_estimators': 253, 'learning_rate': 0.09391236052468482, 'max_depth': 6, 'min_samples_split': 5, 'min_samples_leaf': 9, 'subsample': 0.6112502411159217, 'max_features': 'log2'}. Best is trial 18 with value: 0.8434684684684686.\n",
            "[I 2025-09-18 18:53:52,983] Trial 35 finished with value: 0.8434684684684685 and parameters: {'n_estimators': 283, 'learning_rate': 0.058748495374657615, 'max_depth': 5, 'min_samples_split': 9, 'min_samples_leaf': 6, 'subsample': 0.6508121878459374, 'max_features': 'log2'}. Best is trial 18 with value: 0.8434684684684686.\n",
            "[I 2025-09-18 18:53:54,151] Trial 36 finished with value: 0.8400900900900901 and parameters: {'n_estimators': 275, 'learning_rate': 0.0631881899660408, 'max_depth': 4, 'min_samples_split': 10, 'min_samples_leaf': 6, 'subsample': 0.5367555299445338, 'max_features': 'log2'}. Best is trial 18 with value: 0.8434684684684686.\n",
            "[I 2025-09-18 18:53:56,322] Trial 37 finished with value: 0.8333333333333334 and parameters: {'n_estimators': 330, 'learning_rate': 0.035420079304758934, 'max_depth': 7, 'min_samples_split': 6, 'min_samples_leaf': 7, 'subsample': 0.676893589825096, 'max_features': 'log2'}. Best is trial 18 with value: 0.8434684684684686.\n",
            "[I 2025-09-18 18:53:59,784] Trial 38 finished with value: 0.8355855855855857 and parameters: {'n_estimators': 357, 'learning_rate': 0.010009667710038788, 'max_depth': 9, 'min_samples_split': 8, 'min_samples_leaf': 5, 'subsample': 0.6281853287607121, 'max_features': None}. Best is trial 18 with value: 0.8434684684684686.\n",
            "[I 2025-09-18 18:54:03,156] Trial 39 finished with value: 0.8209459459459459 and parameters: {'n_estimators': 299, 'learning_rate': 0.06123270209903589, 'max_depth': 8, 'min_samples_split': 4, 'min_samples_leaf': 6, 'subsample': 0.5874658558157847, 'max_features': 'log2'}. Best is trial 18 with value: 0.8434684684684686.\n",
            "[I 2025-09-18 18:54:06,447] Trial 40 finished with value: 0.8186936936936937 and parameters: {'n_estimators': 390, 'learning_rate': 0.13298932879501035, 'max_depth': 6, 'min_samples_split': 12, 'min_samples_leaf': 5, 'subsample': 0.7994370923729939, 'max_features': None}. Best is trial 18 with value: 0.8434684684684686.\n",
            "[I 2025-09-18 18:54:07,620] Trial 41 finished with value: 0.8378378378378377 and parameters: {'n_estimators': 223, 'learning_rate': 0.040593539818459215, 'max_depth': 5, 'min_samples_split': 11, 'min_samples_leaf': 4, 'subsample': 0.6468880295682716, 'max_features': 'log2'}. Best is trial 18 with value: 0.8434684684684686.\n",
            "[I 2025-09-18 18:54:09,061] Trial 42 finished with value: 0.829954954954955 and parameters: {'n_estimators': 271, 'learning_rate': 0.09580244954572913, 'max_depth': 5, 'min_samples_split': 9, 'min_samples_leaf': 7, 'subsample': 0.6914695629530077, 'max_features': 'log2'}. Best is trial 18 with value: 0.8434684684684686.\n",
            "[I 2025-09-18 18:54:11,118] Trial 43 finished with value: 0.8355855855855855 and parameters: {'n_estimators': 490, 'learning_rate': 0.060520765193454965, 'max_depth': 4, 'min_samples_split': 11, 'min_samples_leaf': 6, 'subsample': 0.5675626354076343, 'max_features': 'log2'}. Best is trial 18 with value: 0.8434684684684686.\n",
            "[I 2025-09-18 18:54:11,957] Trial 44 finished with value: 0.838963963963964 and parameters: {'n_estimators': 144, 'learning_rate': 0.03764349675117591, 'max_depth': 5, 'min_samples_split': 6, 'min_samples_leaf': 3, 'subsample': 0.6133285474230131, 'max_features': 'log2'}. Best is trial 18 with value: 0.8434684684684686.\n",
            "[I 2025-09-18 18:54:15,172] Trial 45 finished with value: 0.8265765765765766 and parameters: {'n_estimators': 329, 'learning_rate': 0.08116229587999532, 'max_depth': 9, 'min_samples_split': 10, 'min_samples_leaf': 9, 'subsample': 0.6624672211575642, 'max_features': None}. Best is trial 18 with value: 0.8434684684684686.\n",
            "[I 2025-09-18 18:54:18,010] Trial 46 finished with value: 0.6779279279279279 and parameters: {'n_estimators': 247, 'learning_rate': 0.4611647220291625, 'max_depth': 7, 'min_samples_split': 7, 'min_samples_leaf': 4, 'subsample': 0.5246370861529134, 'max_features': 'log2'}. Best is trial 18 with value: 0.8434684684684686.\n",
            "[I 2025-09-18 18:54:20,546] Trial 47 finished with value: 0.8231981981981983 and parameters: {'n_estimators': 284, 'learning_rate': 0.15497798043319155, 'max_depth': 6, 'min_samples_split': 3, 'min_samples_leaf': 1, 'subsample': 0.7578960185313104, 'max_features': 'log2'}. Best is trial 18 with value: 0.8434684684684686.\n",
            "[I 2025-09-18 18:54:21,905] Trial 48 finished with value: 0.838963963963964 and parameters: {'n_estimators': 157, 'learning_rate': 0.029786428170047133, 'max_depth': 10, 'min_samples_split': 13, 'min_samples_leaf': 6, 'subsample': 0.7190468127277146, 'max_features': 'sqrt'}. Best is trial 18 with value: 0.8434684684684686.\n",
            "[I 2025-09-18 18:54:22,867] Trial 49 finished with value: 0.8355855855855857 and parameters: {'n_estimators': 237, 'learning_rate': 0.1875924249627243, 'max_depth': 3, 'min_samples_split': 17, 'min_samples_leaf': 2, 'subsample': 0.5771634690157437, 'max_features': None}. Best is trial 18 with value: 0.8434684684684686.\n"
          ]
        }
      ]
    },
    {
      "cell_type": "code",
      "source": [
        "ds_param_gb = study.best_trial.params"
      ],
      "metadata": {
        "id": "Cx4q5__sD_Ac"
      },
      "execution_count": 51,
      "outputs": []
    },
    {
      "cell_type": "code",
      "source": [
        "print(f'Best trial accuracy: {study.best_trial.value}')\n",
        "print(f'Best hyperparameters: {study.best_trial.params}') #83, 78ds, 84.45"
      ],
      "metadata": {
        "colab": {
          "base_uri": "https://localhost:8080/"
        },
        "id": "E3HEMyPy-9mU",
        "outputId": "30c543db-96f9-4bfd-a268-323d77e9d337"
      },
      "execution_count": 52,
      "outputs": [
        {
          "output_type": "stream",
          "name": "stdout",
          "text": [
            "Best trial accuracy: 0.8434684684684686\n",
            "Best hyperparameters: {'n_estimators': 317, 'learning_rate': 0.014122324100186351, 'max_depth': 7, 'min_samples_split': 3, 'min_samples_leaf': 5, 'subsample': 0.6065863567562002, 'max_features': 'log2'}\n"
          ]
        }
      ]
    },
    {
      "cell_type": "code",
      "source": [
        "gbs = GradientBoostingClassifier(n_estimators=115, learning_rate=0.03798282131773404,max_depth=10,min_samples_split=4,min_samples_leaf=8,subsample=0.5177638593542816,max_features='log2')\n",
        "gbs.fit(x_train_sm,y_train_sm)\n",
        "y_pred = gbs.predict(x_test)\n",
        "print(accuracy_score(y_test,y_pred))\n",
        "print(confusion_matrix(y_test,y_pred))"
      ],
      "metadata": {
        "colab": {
          "base_uri": "https://localhost:8080/"
        },
        "id": "Y0TJJEIgMcTF",
        "outputId": "2637fa29-7133-4a73-ec7c-e306c90560af"
      },
      "execution_count": 53,
      "outputs": [
        {
          "output_type": "stream",
          "name": "stdout",
          "text": [
            "0.8100558659217877\n",
            "[[89 16]\n",
            " [18 56]]\n"
          ]
        }
      ]
    },
    {
      "cell_type": "code",
      "source": [
        "plt.figure(figsize=(6,4))\n",
        "sns.heatmap(confusion_matrix(y_test,y_pred), annot=True, fmt=\"d\", cmap=\"Blues\", xticklabels=[\"Fake\", \"True\"], yticklabels=[\"Fake\", \"True\"])\n",
        "plt.xlabel(\"Predicted\")\n",
        "plt.ylabel(\"Actual\")\n",
        "plt.title(\"Confusion Matrix gb tunned\")\n",
        "plt.show()"
      ],
      "metadata": {
        "colab": {
          "base_uri": "https://localhost:8080/",
          "height": 410
        },
        "id": "JvwfQlzqICx-",
        "outputId": "d505352d-9c03-4748-f72a-fb4ff8d2226a"
      },
      "execution_count": 54,
      "outputs": [
        {
          "output_type": "display_data",
          "data": {
            "text/plain": [
              "<Figure size 600x400 with 2 Axes>"
            ],
            "image/png": "[encoded data removed]"
          },
          "metadata": {}
        }
      ]
    },
    {
      "cell_type": "code",
      "source": [
        "gb_param_sm = study.best_trial.params"
      ],
      "metadata": {
        "id": "X1MD9FIjG4U0"
      },
      "execution_count": null,
      "outputs": []
    },
    {
      "cell_type": "code",
      "source": [
        "from sklearn.neighbors import KNeighborsClassifier"
      ],
      "metadata": {
        "id": "w2YlN0R2_QgZ"
      },
      "execution_count": 55,
      "outputs": []
    },
    {
      "cell_type": "code",
      "source": [
        "kn = KNeighborsClassifier()\n",
        "kn.fit(x_train_ds,y_train_ds)\n",
        "y_pred = kn.predict(x_test)\n",
        "print(accuracy_score(y_test,y_pred))\n",
        "print(confusion_matrix(y_test,y_pred))\n",
        "print(cross_val_score(kn,x_train,y_train,cv=3,scoring='accuracy').mean()) #0.70,0.67 -- 72,0.67--0.66,0.67"
      ],
      "metadata": {
        "colab": {
          "base_uri": "https://localhost:8080/"
        },
        "id": "GaQwxPLU_MU4",
        "outputId": "35f955a9-23ae-4ced-addb-f7c8e62543c5"
      },
      "execution_count": 56,
      "outputs": [
        {
          "output_type": "stream",
          "name": "stdout",
          "text": [
            "0.7206703910614525\n",
            "[[74 31]\n",
            " [19 55]]\n",
            "0.6755487004928553\n"
          ]
        }
      ]
    },
    {
      "cell_type": "code",
      "source": [
        "\n",
        "def objective_knn(trial):\n",
        "    n_neighbors = trial.suggest_int('n_neighbors', 1, 50)\n",
        "    weights = trial.suggest_categorical('weights', ['uniform', 'distance'])\n",
        "    metric = trial.suggest_categorical('metric', ['euclidean', 'manhattan', 'minkowski'])\n",
        "    p = trial.suggest_int('p', 1, 2) if metric == 'minkowski' else 2\n",
        "\n",
        "    model = KNeighborsClassifier(\n",
        "        n_neighbors=n_neighbors, weights=weights,\n",
        "        metric=metric, p=p\n",
        "    )\n",
        "    score = cross_val_score(model, x_train_ds, y_train_ds, cv=3, scoring='accuracy').mean()\n",
        "    return score"
      ],
      "metadata": {
        "id": "MtA0jbV8-_f9"
      },
      "execution_count": 57,
      "outputs": []
    },
    {
      "cell_type": "code",
      "source": [
        "study = optuna.create_study(direction='maximize', sampler=optuna.samplers.TPESampler())  # We aim to maximize accuracy\n",
        "study.optimize(objective_knn, n_trials=50)  # Run 50 trials to find the best hyperparameters"
      ],
      "metadata": {
        "colab": {
          "base_uri": "https://localhost:8080/"
        },
        "collapsed": true,
        "id": "mxkaSDyf_J80",
        "outputId": "48edd5b2-838e-4ae3-8014-e215808cadee"
      },
      "execution_count": 58,
      "outputs": [
        {
          "output_type": "stream",
          "name": "stderr",
          "text": [
            "[I 2025-09-18 18:54:38,239] A new study created in memory with name: no-name-3fe7edee-5860-435d-ac88-e56a887b4958\n",
            "[I 2025-09-18 18:54:38,267] Trial 0 finished with value: 0.7182955662963195 and parameters: {'n_neighbors': 28, 'weights': 'distance', 'metric': 'manhattan'}. Best is trial 0 with value: 0.7182955662963195.\n",
            "[I 2025-09-18 18:54:38,291] Trial 1 finished with value: 0.6492582595777624 and parameters: {'n_neighbors': 33, 'weights': 'uniform', 'metric': 'euclidean'}. Best is trial 0 with value: 0.7182955662963195.\n",
            "[I 2025-09-18 18:54:38,313] Trial 2 finished with value: 0.6884480990940096 and parameters: {'n_neighbors': 25, 'weights': 'distance', 'metric': 'euclidean'}. Best is trial 0 with value: 0.7182955662963195.\n",
            "[I 2025-09-18 18:54:38,338] Trial 3 finished with value: 0.6306676709978448 and parameters: {'n_neighbors': 12, 'weights': 'uniform', 'metric': 'minkowski', 'p': 2}. Best is trial 0 with value: 0.7182955662963195.\n",
            "[I 2025-09-18 18:54:38,365] Trial 4 finished with value: 0.6810202330885277 and parameters: {'n_neighbors': 45, 'weights': 'uniform', 'metric': 'manhattan'}. Best is trial 0 with value: 0.7182955662963195.\n",
            "[I 2025-09-18 18:54:38,389] Trial 5 finished with value: 0.7089636557654887 and parameters: {'n_neighbors': 34, 'weights': 'distance', 'metric': 'manhattan'}. Best is trial 0 with value: 0.7182955662963195.\n",
            "[I 2025-09-18 18:54:38,417] Trial 6 finished with value: 0.6473856004017325 and parameters: {'n_neighbors': 29, 'weights': 'uniform', 'metric': 'euclidean'}. Best is trial 0 with value: 0.7182955662963195.\n",
            "[I 2025-09-18 18:54:38,444] Trial 7 finished with value: 0.6754022555604378 and parameters: {'n_neighbors': 39, 'weights': 'uniform', 'metric': 'manhattan'}. Best is trial 0 with value: 0.7182955662963195.\n",
            "[I 2025-09-18 18:54:38,470] Trial 8 finished with value: 0.7089636557654887 and parameters: {'n_neighbors': 37, 'weights': 'distance', 'metric': 'manhattan'}. Best is trial 0 with value: 0.7182955662963195.\n",
            "[I 2025-09-18 18:54:38,509] Trial 9 finished with value: 0.7182746427301069 and parameters: {'n_neighbors': 18, 'weights': 'distance', 'metric': 'manhattan'}. Best is trial 0 with value: 0.7182955662963195.\n",
            "[I 2025-09-18 18:54:38,541] Trial 10 finished with value: 0.6492373360115499 and parameters: {'n_neighbors': 1, 'weights': 'distance', 'metric': 'minkowski', 'p': 1}. Best is trial 0 with value: 0.7182955662963195.\n",
            "[I 2025-09-18 18:54:38,570] Trial 11 finished with value: 0.7182746427301069 and parameters: {'n_neighbors': 18, 'weights': 'distance', 'metric': 'manhattan'}. Best is trial 0 with value: 0.7182955662963195.\n",
            "[I 2025-09-18 18:54:38,598] Trial 12 finished with value: 0.7182641809470006 and parameters: {'n_neighbors': 19, 'weights': 'distance', 'metric': 'manhattan'}. Best is trial 0 with value: 0.7182955662963195.\n",
            "[I 2025-09-18 18:54:38,621] Trial 13 finished with value: 0.6996317452346578 and parameters: {'n_neighbors': 8, 'weights': 'distance', 'metric': 'manhattan'}. Best is trial 0 with value: 0.7182955662963195.\n",
            "[I 2025-09-18 18:54:38,653] Trial 14 finished with value: 0.6828091979997071 and parameters: {'n_neighbors': 22, 'weights': 'distance', 'metric': 'minkowski', 'p': 2}. Best is trial 0 with value: 0.7182955662963195.\n",
            "[I 2025-09-18 18:54:38,679] Trial 15 finished with value: 0.7070700730232461 and parameters: {'n_neighbors': 13, 'weights': 'distance', 'metric': 'manhattan'}. Best is trial 0 with value: 0.7182955662963195.\n",
            "[I 2025-09-18 18:54:38,709] Trial 16 finished with value: 0.7183164898625322 and parameters: {'n_neighbors': 50, 'weights': 'distance', 'metric': 'manhattan'}. Best is trial 16 with value: 0.7183164898625322.\n",
            "[I 2025-09-18 18:54:38,741] Trial 17 finished with value: 0.7127298976837612 and parameters: {'n_neighbors': 47, 'weights': 'distance', 'metric': 'manhattan'}. Best is trial 16 with value: 0.7183164898625322.\n",
            "[I 2025-09-18 18:54:38,770] Trial 18 finished with value: 0.708974117548595 and parameters: {'n_neighbors': 42, 'weights': 'distance', 'metric': 'minkowski', 'p': 1}. Best is trial 16 with value: 0.7183164898625322.\n",
            "[I 2025-09-18 18:54:38,803] Trial 19 finished with value: 0.6828510451321325 and parameters: {'n_neighbors': 49, 'weights': 'distance', 'metric': 'euclidean'}. Best is trial 16 with value: 0.7183164898625322.\n",
            "[I 2025-09-18 18:54:38,833] Trial 20 finished with value: 0.7089636557654887 and parameters: {'n_neighbors': 29, 'weights': 'distance', 'metric': 'manhattan'}. Best is trial 16 with value: 0.7183164898625322.\n",
            "[I 2025-09-18 18:54:38,858] Trial 21 finished with value: 0.6716464754252714 and parameters: {'n_neighbors': 4, 'weights': 'distance', 'metric': 'manhattan'}. Best is trial 16 with value: 0.7183164898625322.\n",
            "[I 2025-09-18 18:54:38,883] Trial 22 finished with value: 0.7164124453371832 and parameters: {'n_neighbors': 16, 'weights': 'distance', 'metric': 'manhattan'}. Best is trial 16 with value: 0.7183164898625322.\n",
            "[I 2025-09-18 18:54:38,910] Trial 23 finished with value: 0.7182851045132131 and parameters: {'n_neighbors': 24, 'weights': 'distance', 'metric': 'manhattan'}. Best is trial 16 with value: 0.7183164898625322.\n",
            "[I 2025-09-18 18:54:38,937] Trial 24 finished with value: 0.7164333689033958 and parameters: {'n_neighbors': 27, 'weights': 'distance', 'metric': 'manhattan'}. Best is trial 16 with value: 0.7183164898625322.\n",
            "[I 2025-09-18 18:54:38,964] Trial 25 finished with value: 0.7220199610821668 and parameters: {'n_neighbors': 23, 'weights': 'distance', 'metric': 'manhattan'}. Best is trial 25 with value: 0.7220199610821668.\n",
            "[I 2025-09-18 18:54:38,993] Trial 26 finished with value: 0.6660912685958195 and parameters: {'n_neighbors': 34, 'weights': 'uniform', 'metric': 'manhattan'}. Best is trial 25 with value: 0.7220199610821668.\n",
            "[I 2025-09-18 18:54:39,022] Trial 27 finished with value: 0.7108363149415187 and parameters: {'n_neighbors': 43, 'weights': 'distance', 'metric': 'manhattan'}. Best is trial 25 with value: 0.7220199610821668.\n",
            "[I 2025-09-18 18:54:39,057] Trial 28 finished with value: 0.6828405833490261 and parameters: {'n_neighbors': 50, 'weights': 'distance', 'metric': 'euclidean'}. Best is trial 25 with value: 0.7220199610821668.\n",
            "[I 2025-09-18 18:54:39,087] Trial 29 finished with value: 0.6679430042056369 and parameters: {'n_neighbors': 30, 'weights': 'uniform', 'metric': 'minkowski', 'p': 1}. Best is trial 25 with value: 0.7220199610821668.\n",
            "[I 2025-09-18 18:54:39,133] Trial 30 finished with value: 0.6828091979997071 and parameters: {'n_neighbors': 22, 'weights': 'distance', 'metric': 'euclidean'}. Best is trial 25 with value: 0.7220199610821668.\n",
            "[I 2025-09-18 18:54:39,185] Trial 31 finished with value: 0.7220199610821668 and parameters: {'n_neighbors': 23, 'weights': 'distance', 'metric': 'manhattan'}. Best is trial 25 with value: 0.7220199610821668.\n",
            "[I 2025-09-18 18:54:39,234] Trial 32 finished with value: 0.714560709727366 and parameters: {'n_neighbors': 32, 'weights': 'distance', 'metric': 'manhattan'}. Best is trial 25 with value: 0.7220199610821668.\n",
            "[I 2025-09-18 18:54:39,284] Trial 33 finished with value: 0.7164333689033958 and parameters: {'n_neighbors': 26, 'weights': 'distance', 'metric': 'manhattan'}. Best is trial 25 with value: 0.7220199610821668.\n",
            "[I 2025-09-18 18:54:39,331] Trial 34 finished with value: 0.7070700730232461 and parameters: {'n_neighbors': 13, 'weights': 'distance', 'metric': 'manhattan'}. Best is trial 25 with value: 0.7220199610821668.\n",
            "[I 2025-09-18 18:54:39,383] Trial 35 finished with value: 0.6772330676040424 and parameters: {'n_neighbors': 22, 'weights': 'uniform', 'metric': 'manhattan'}. Best is trial 25 with value: 0.7220199610821668.\n",
            "[I 2025-09-18 18:54:39,432] Trial 36 finished with value: 0.684713242525056 and parameters: {'n_neighbors': 38, 'weights': 'distance', 'metric': 'euclidean'}. Best is trial 25 with value: 0.7220199610821668.\n",
            "[I 2025-09-18 18:54:39,480] Trial 37 finished with value: 0.6791057267800724 and parameters: {'n_neighbors': 24, 'weights': 'uniform', 'metric': 'manhattan'}. Best is trial 25 with value: 0.7220199610821668.\n",
            "[I 2025-09-18 18:54:39,524] Trial 38 finished with value: 0.7052078756303225 and parameters: {'n_neighbors': 9, 'weights': 'distance', 'metric': 'manhattan'}. Best is trial 25 with value: 0.7220199610821668.\n",
            "[I 2025-09-18 18:54:39,580] Trial 39 finished with value: 0.6809783859561024 and parameters: {'n_neighbors': 32, 'weights': 'distance', 'metric': 'minkowski', 'p': 2}. Best is trial 25 with value: 0.7220199610821668.\n",
            "[I 2025-09-18 18:54:39,640] Trial 40 finished with value: 0.6772644529533615 and parameters: {'n_neighbors': 35, 'weights': 'uniform', 'metric': 'manhattan'}. Best is trial 25 with value: 0.7220199610821668.\n",
            "[I 2025-09-18 18:54:39,687] Trial 41 finished with value: 0.7182851045132131 and parameters: {'n_neighbors': 24, 'weights': 'distance', 'metric': 'manhattan'}. Best is trial 25 with value: 0.7220199610821668.\n",
            "[I 2025-09-18 18:54:39,730] Trial 42 finished with value: 0.7182746427301069 and parameters: {'n_neighbors': 20, 'weights': 'distance', 'metric': 'manhattan'}. Best is trial 25 with value: 0.7220199610821668.\n",
            "[I 2025-09-18 18:54:39,778] Trial 43 finished with value: 0.7182955662963195 and parameters: {'n_neighbors': 28, 'weights': 'distance', 'metric': 'manhattan'}. Best is trial 25 with value: 0.7220199610821668.\n",
            "[I 2025-09-18 18:54:39,823] Trial 44 finished with value: 0.7164124453371832 and parameters: {'n_neighbors': 16, 'weights': 'distance', 'metric': 'manhattan'}. Best is trial 25 with value: 0.7220199610821668.\n",
            "[I 2025-09-18 18:54:39,869] Trial 45 finished with value: 0.7182955662963195 and parameters: {'n_neighbors': 28, 'weights': 'distance', 'metric': 'manhattan'}. Best is trial 25 with value: 0.7220199610821668.\n",
            "[I 2025-09-18 18:54:39,916] Trial 46 finished with value: 0.7127089741175486 and parameters: {'n_neighbors': 40, 'weights': 'distance', 'metric': 'manhattan'}. Best is trial 25 with value: 0.7220199610821668.\n",
            "[I 2025-09-18 18:54:39,963] Trial 47 finished with value: 0.707101458372565 and parameters: {'n_neighbors': 31, 'weights': 'distance', 'metric': 'manhattan'}. Best is trial 25 with value: 0.7220199610821668.\n",
            "[I 2025-09-18 18:54:40,013] Trial 48 finished with value: 0.6753917937773314 and parameters: {'n_neighbors': 36, 'weights': 'distance', 'metric': 'minkowski', 'p': 2}. Best is trial 25 with value: 0.7220199610821668.\n",
            "[I 2025-09-18 18:54:40,057] Trial 49 finished with value: 0.6865335927855544 and parameters: {'n_neighbors': 16, 'weights': 'distance', 'metric': 'euclidean'}. Best is trial 25 with value: 0.7220199610821668.\n"
          ]
        }
      ]
    },
    {
      "cell_type": "code",
      "source": [
        "print(f'Best trial accuracy: {study.best_trial.value}')\n",
        "print(f'Best hyperparameters: {study.best_trial.params}') #0.73,0.72---0.79"
      ],
      "metadata": {
        "colab": {
          "base_uri": "https://localhost:8080/"
        },
        "id": "I1bDv5s5_XuW",
        "outputId": "19a322e0-32f3-4505-cbc6-e0c49f10f429"
      },
      "execution_count": 59,
      "outputs": [
        {
          "output_type": "stream",
          "name": "stdout",
          "text": [
            "Best trial accuracy: 0.7220199610821668\n",
            "Best hyperparameters: {'n_neighbors': 23, 'weights': 'distance', 'metric': 'manhattan'}\n"
          ]
        }
      ]
    },
    {
      "cell_type": "code",
      "source": [
        "kns = KNeighborsClassifier(n_neighbors=6, weights='distance',metric='manhattan')\n",
        "kns.fit(x_train_sm,y_train_sm)\n",
        "y_pred = kns.predict(x_test)\n",
        "print(accuracy_score(y_test,y_pred))\n",
        "print(confusion_matrix(y_test,y_pred))"
      ],
      "metadata": {
        "colab": {
          "base_uri": "https://localhost:8080/"
        },
        "id": "QSMpSB71M7xG",
        "outputId": "953e845a-4d08-48b6-9259-7988d7180656"
      },
      "execution_count": 60,
      "outputs": [
        {
          "output_type": "stream",
          "name": "stdout",
          "text": [
            "0.7094972067039106\n",
            "[[79 26]\n",
            " [26 48]]\n"
          ]
        }
      ]
    },
    {
      "cell_type": "code",
      "source": [
        "kn_param_sm = study.best_trial.params"
      ],
      "metadata": {
        "id": "rMefh6ZhHmwt"
      },
      "execution_count": 61,
      "outputs": []
    },
    {
      "cell_type": "code",
      "source": [
        "ds_kn_param = study.best_trial.params"
      ],
      "metadata": {
        "id": "tJK3ZK7EEmYO"
      },
      "execution_count": 62,
      "outputs": []
    },
    {
      "cell_type": "code",
      "source": [
        "sv = SVC()\n",
        "sv.fit(x_train_ds,y_train_ds)\n",
        "y_pred = sv.predict(x_test)\n",
        "print(accuracy_score(y_test,y_pred))\n",
        "print(confusion_matrix(y_test,y_pred))\n",
        "print(cross_val_score(sv,x_train,y_train,cv=3,scoring='accuracy').mean()) #65,66 --- 70,66---71"
      ],
      "metadata": {
        "colab": {
          "base_uri": "https://localhost:8080/"
        },
        "id": "ig7b1sl6_YrJ",
        "outputId": "2788ac21-5311-475a-d01e-43b715087bd5"
      },
      "execution_count": 63,
      "outputs": [
        {
          "output_type": "stream",
          "name": "stdout",
          "text": [
            "0.7094972067039106\n",
            "[[77 28]\n",
            " [24 50]]\n",
            "0.6656856835561228\n"
          ]
        }
      ]
    },
    {
      "cell_type": "code",
      "source": [
        "print(accuracy_score(y_test,lgs.predict(x_test)))\n",
        "print(accuracy_score(y_test,ads.predict(x_test)))\n",
        "print(accuracy_score(y_test,dts.predict(x_test)))\n",
        "print(accuracy_score(y_test,rfs.predict(x_test)))\n",
        "print(accuracy_score(y_test,gbs.predict(x_test)))\n",
        "print(accuracy_score(y_test,kn.predict(x_test)))"
      ],
      "metadata": {
        "colab": {
          "base_uri": "https://localhost:8080/"
        },
        "id": "vdEhPEJO6bjZ",
        "outputId": "d0e22b12-331b-4a5b-e617-be3be94c72fb"
      },
      "execution_count": 64,
      "outputs": [
        {
          "output_type": "stream",
          "name": "stdout",
          "text": [
            "0.8044692737430168\n",
            "0.8268156424581006\n",
            "0.8268156424581006\n",
            "0.8268156424581006\n",
            "0.8100558659217877\n",
            "0.7206703910614525\n"
          ]
        }
      ]
    },
    {
      "cell_type": "code",
      "source": [
        "from sklearn.ensemble import StackingClassifier\n",
        "base_learners = [\n",
        "    ('rf', rfs),\n",
        "    ('gb',gbs),\n",
        "    ('lr',lgs),\n",
        "    ('ada',ads),\n",
        "    ('dt',dts),\n",
        "    ('svc',sv),\n",
        "\n",
        "]\n",
        "\n",
        "# Meta learner\n",
        "meta_learner = LogisticRegression()\n",
        "#meta_learner = KNeighborsClassifier()\n",
        "#meta_learner = SVC()\n",
        "\n",
        "# Stacking Classifier\n",
        "stack = StackingClassifier(\n",
        "    estimators=base_learners,\n",
        "    final_estimator=meta_learner,\n",
        "    passthrough=False  # if True, meta learner also gets original features\n",
        ")"
      ],
      "metadata": {
        "id": "Zwm7pXMINkfO"
      },
      "execution_count": 114,
      "outputs": []
    },
    {
      "cell_type": "code",
      "source": [
        "stack.fit(x_train_ds,y_train_ds)\n",
        "y_pred = stack.predict(x_test)\n",
        "print(confusion_matrix(y_test,y_pred))\n",
        "print(accuracy_score(y_test,y_pred))"
      ],
      "metadata": {
        "colab": {
          "base_uri": "https://localhost:8080/"
        },
        "id": "HLKnNRTdOUON",
        "outputId": "77dce4a0-a2dd-489e-81ea-569c310f5dc1"
      },
      "execution_count": 124,
      "outputs": [
        {
          "output_type": "stream",
          "name": "stdout",
          "text": [
            "[[89 16]\n",
            " [ 9 65]]\n",
            "0.8603351955307262\n"
          ]
        }
      ]
    },
    {
      "cell_type": "code",
      "source": [
        "plt.figure(figsize=(6,4))\n",
        "sns.heatmap(confusion_matrix(y_test,y_pred), annot=True, fmt=\"d\", cmap=\"Blues\", xticklabels=[\"Fake\", \"True\"], yticklabels=[\"Fake\", \"True\"])\n",
        "plt.xlabel(\"Predicted\")\n",
        "plt.ylabel(\"Actual\")\n",
        "plt.title(\"Confusion Matrix Stacking\")\n",
        "plt.show()"
      ],
      "metadata": {
        "colab": {
          "base_uri": "https://localhost:8080/",
          "height": 410
        },
        "id": "5LuyFxOyIIXJ",
        "outputId": "c42ad9dc-88f7-482a-d990-d7845a00b5cd"
      },
      "execution_count": 125,
      "outputs": [
        {
          "output_type": "display_data",
          "data": {
            "text/plain": [
              "<Figure size 600x400 with 2 Axes>"
            ],
            "image/png": "[encoded data removed]"
          },
          "metadata": {}
        }
      ]
    },
    {
      "cell_type": "code",
      "source": [
        "df2 = pd.read_csv('/content/test.csv')"
      ],
      "metadata": {
        "id": "2qjHY_gmOzjN"
      },
      "execution_count": 168,
      "outputs": []
    },
    {
      "cell_type": "code",
      "source": [
        "df2.drop(['Name','Ticket','Cabin','SibSp','Parch','Cabin'],axis=1,inplace=True)"
      ],
      "metadata": {
        "id": "BAFvNyajQfik"
      },
      "execution_count": 169,
      "outputs": []
    },
    {
      "cell_type": "code",
      "source": [
        "df2.sample()"
      ],
      "metadata": {
        "colab": {
          "base_uri": "https://localhost:8080/",
          "height": 80
        },
        "id": "sVnML4mLQfdn",
        "outputId": "9d335a34-f00b-447d-9760-ef01c0b76992"
      },
      "execution_count": 170,
      "outputs": [
        {
          "output_type": "execute_result",
          "data": {
            "text/plain": [
              "    PassengerId  Pclass   Sex   Age    Fare Embarked\n",
              "56          948       3  male  35.0  7.8958        S"
            ],
            "text/html": [
              "\n",
              "  <div id=\"df-f0819168-0391-40cc-8568-0771eb20fd86\" class=\"colab-df-container\">\n",
              "    <div>\n",
              "<style scoped>\n",
              "    .dataframe tbody tr th:only-of-type {\n",
              "        vertical-align: middle;\n",
              "    }\n",
              "\n",
              "    .dataframe tbody tr th {\n",
              "        vertical-align: top;\n",
              "    }\n",
              "\n",
              "    .dataframe thead th {\n",
              "        text-align: right;\n",
              "    }\n",
              "</style>\n",
              "<table border=\"1\" class=\"dataframe\">\n",
              "  <thead>\n",
              "    <tr style=\"text-align: right;\">\n",
              "      <th></th>\n",
              "      <th>PassengerId</th>\n",
              "      <th>Pclass</th>\n",
              "      <th>Sex</th>\n",
              "      <th>Age</th>\n",
              "      <th>Fare</th>\n",
              "      <th>Embarked</th>\n",
              "    </tr>\n",
              "  </thead>\n",
              "  <tbody>\n",
              "    <tr>\n",
              "      <th>56</th>\n",
              "      <td>948</td>\n",
              "      <td>3</td>\n",
              "      <td>male</td>\n",
              "      <td>35.0</td>\n",
              "      <td>7.8958</td>\n",
              "      <td>S</td>\n",
              "    </tr>\n",
              "  </tbody>\n",
              "</table>\n",
              "</div>\n",
              "    <div class=\"colab-df-buttons\">\n",
              "\n",
              "  <div class=\"colab-df-container\">\n",
              "    <button class=\"colab-df-convert\" onclick=\"convertToInteractive('df-f0819168-0391-40cc-8568-0771eb20fd86')\"\n",
              "            title=\"Convert this dataframe to an interactive table.\"\n",
              "            style=\"display:none;\">\n",
              "\n",
              "  <svg xmlns=\"http://www.w3.org/2000/svg\" height=\"24px\" viewBox=\"0 -960 960 960\">\n",
              "    <path d=\"M120-120v-720h720v720H120Zm60-500h600v-160H180v160Zm220 220h160v-160H400v160Zm0 220h160v-160H400v160ZM180-400h160v-160H180v160Zm440 0h160v-160H620v160ZM180-180h160v-160H180v160Zm440 0h160v-160H620v160Z\"/>\n",
              "  </svg>\n",
              "    </button>\n",
              "\n",
              "  <style>\n",
              "    .colab-df-container {\n",
              "      display:flex;\n",
              "      gap: 12px;\n",
              "    }\n",
              "\n",
              "    .colab-df-convert {\n",
              "      background-color: #E8F0FE;\n",
              "      border: none;\n",
              "      border-radius: 50%;\n",
              "      cursor: pointer;\n",
              "      display: none;\n",
              "      fill: #1967D2;\n",
              "      height: 32px;\n",
              "      padding: 0 0 0 0;\n",
              "      width: 32px;\n",
              "    }\n",
              "\n",
              "    .colab-df-convert:hover {\n",
              "      background-color: #E2EBFA;\n",
              "      box-shadow: 0px 1px 2px rgba(60, 64, 67, 0.3), 0px 1px 3px 1px rgba(60, 64, 67, 0.15);\n",
              "      fill: #174EA6;\n",
              "    }\n",
              "\n",
              "    .colab-df-buttons div {\n",
              "      margin-bottom: 4px;\n",
              "    }\n",
              "\n",
              "    [theme=dark] .colab-df-convert {\n",
              "      background-color: #3B4455;\n",
              "      fill: #D2E3FC;\n",
              "    }\n",
              "\n",
              "    [theme=dark] .colab-df-convert:hover {\n",
              "      background-color: #434B5C;\n",
              "      box-shadow: 0px 1px 3px 1px rgba(0, 0, 0, 0.15);\n",
              "      filter: drop-shadow(0px 1px 2px rgba(0, 0, 0, 0.3));\n",
              "      fill: #FFFFFF;\n",
              "    }\n",
              "  </style>\n",
              "\n",
              "    <script>\n",
              "      const buttonEl =\n",
              "        document.querySelector('#df-f0819168-0391-40cc-8568-0771eb20fd86 button.colab-df-convert');\n",
              "      buttonEl.style.display =\n",
              "        google.colab.kernel.accessAllowed ? 'block' : 'none';\n",
              "\n",
              "      async function convertToInteractive(key) {\n",
              "        const element = document.querySelector('#df-f0819168-0391-40cc-8568-0771eb20fd86');\n",
              "        const dataTable =\n",
              "          await google.colab.kernel.invokeFunction('convertToInteractive',\n",
              "                                                    [key], {});\n",
              "        if (!dataTable) return;\n",
              "\n",
              "        const docLinkHtml = 'Like what you see? Visit the ' +\n",
              "          '<a target=\"_blank\" href=https://colab.research.google.com/notebooks/data_table.ipynb>data table notebook</a>'\n",
              "          + ' to learn more about interactive tables.';\n",
              "        element.innerHTML = '';\n",
              "        dataTable['output_type'] = 'display_data';\n",
              "        await google.colab.output.renderOutput(dataTable, element);\n",
              "        const docLink = document.createElement('div');\n",
              "        docLink.innerHTML = docLinkHtml;\n",
              "        element.appendChild(docLink);\n",
              "      }\n",
              "    </script>\n",
              "  </div>\n",
              "\n",
              "\n",
              "    </div>\n",
              "  </div>\n"
            ],
            "application/vnd.google.colaboratory.intrinsic+json": {
              "type": "dataframe",
              "summary": "{\n  \"name\": \"df2\",\n  \"rows\": 1,\n  \"fields\": [\n    {\n      \"column\": \"PassengerId\",\n      \"properties\": {\n        \"dtype\": \"number\",\n        \"std\": null,\n        \"min\": 948,\n        \"max\": 948,\n        \"num_unique_values\": 1,\n        \"samples\": [\n          948\n        ],\n        \"semantic_type\": \"\",\n        \"description\": \"\"\n      }\n    },\n    {\n      \"column\": \"Pclass\",\n      \"properties\": {\n        \"dtype\": \"number\",\n        \"std\": null,\n        \"min\": 3,\n        \"max\": 3,\n        \"num_unique_values\": 1,\n        \"samples\": [\n          3\n        ],\n        \"semantic_type\": \"\",\n        \"description\": \"\"\n      }\n    },\n    {\n      \"column\": \"Sex\",\n      \"properties\": {\n        \"dtype\": \"string\",\n        \"num_unique_values\": 1,\n        \"samples\": [\n          \"male\"\n        ],\n        \"semantic_type\": \"\",\n        \"description\": \"\"\n      }\n    },\n    {\n      \"column\": \"Age\",\n      \"properties\": {\n        \"dtype\": \"number\",\n        \"std\": null,\n        \"min\": 35.0,\n        \"max\": 35.0,\n        \"num_unique_values\": 1,\n        \"samples\": [\n          35.0\n        ],\n        \"semantic_type\": \"\",\n        \"description\": \"\"\n      }\n    },\n    {\n      \"column\": \"Fare\",\n      \"properties\": {\n        \"dtype\": \"number\",\n        \"std\": null,\n        \"min\": 7.8958,\n        \"max\": 7.8958,\n        \"num_unique_values\": 1,\n        \"samples\": [\n          7.8958\n        ],\n        \"semantic_type\": \"\",\n        \"description\": \"\"\n      }\n    },\n    {\n      \"column\": \"Embarked\",\n      \"properties\": {\n        \"dtype\": \"string\",\n        \"num_unique_values\": 1,\n        \"samples\": [\n          \"S\"\n        ],\n        \"semantic_type\": \"\",\n        \"description\": \"\"\n      }\n    }\n  ]\n}"
            }
          },
          "metadata": {},
          "execution_count": 170
        }
      ]
    },
    {
      "cell_type": "code",
      "source": [
        "df2.isnull().sum()"
      ],
      "metadata": {
        "colab": {
          "base_uri": "https://localhost:8080/",
          "height": 272
        },
        "id": "DfgpMF4_QuL8",
        "outputId": "0d5f8c9b-a968-41af-f13f-65f3341c67ec"
      },
      "execution_count": 171,
      "outputs": [
        {
          "output_type": "execute_result",
          "data": {
            "text/plain": [
              "PassengerId     0\n",
              "Pclass          0\n",
              "Sex             0\n",
              "Age            86\n",
              "Fare            1\n",
              "Embarked        0\n",
              "dtype: int64"
            ],
            "text/html": [
              "<div>\n",
              "<style scoped>\n",
              "    .dataframe tbody tr th:only-of-type {\n",
              "        vertical-align: middle;\n",
              "    }\n",
              "\n",
              "    .dataframe tbody tr th {\n",
              "        vertical-align: top;\n",
              "    }\n",
              "\n",
              "    .dataframe thead th {\n",
              "        text-align: right;\n",
              "    }\n",
              "</style>\n",
              "<table border=\"1\" class=\"dataframe\">\n",
              "  <thead>\n",
              "    <tr style=\"text-align: right;\">\n",
              "      <th></th>\n",
              "      <th>0</th>\n",
              "    </tr>\n",
              "  </thead>\n",
              "  <tbody>\n",
              "    <tr>\n",
              "      <th>PassengerId</th>\n",
              "      <td>0</td>\n",
              "    </tr>\n",
              "    <tr>\n",
              "      <th>Pclass</th>\n",
              "      <td>0</td>\n",
              "    </tr>\n",
              "    <tr>\n",
              "      <th>Sex</th>\n",
              "      <td>0</td>\n",
              "    </tr>\n",
              "    <tr>\n",
              "      <th>Age</th>\n",
              "      <td>86</td>\n",
              "    </tr>\n",
              "    <tr>\n",
              "      <th>Fare</th>\n",
              "      <td>1</td>\n",
              "    </tr>\n",
              "    <tr>\n",
              "      <th>Embarked</th>\n",
              "      <td>0</td>\n",
              "    </tr>\n",
              "  </tbody>\n",
              "</table>\n",
              "</div><br><label><b>dtype:</b> int64</label>"
            ]
          },
          "metadata": {},
          "execution_count": 171
        }
      ]
    },
    {
      "cell_type": "code",
      "source": [
        "df2['Fare'].fillna(df2['Fare'].mean(),inplace=True)"
      ],
      "metadata": {
        "colab": {
          "base_uri": "https://localhost:8080/"
        },
        "collapsed": true,
        "id": "neVqYpq5ReUH",
        "outputId": "74f6d845-ca0b-4578-acc6-95707fa8e9dc"
      },
      "execution_count": 172,
      "outputs": [
        {
          "output_type": "stream",
          "name": "stderr",
          "text": [
            "/tmp/ipython-input-4187703575.py:1: FutureWarning: A value is trying to be set on a copy of a DataFrame or Series through chained assignment using an inplace method.\n",
            "The behavior will change in pandas 3.0. This inplace method will never work because the intermediate object on which we are setting values always behaves as a copy.\n",
            "\n",
            "For example, when doing 'df[col].method(value, inplace=True)', try using 'df.method({col: value}, inplace=True)' or df[col] = df[col].method(value) instead, to perform the operation inplace on the original object.\n",
            "\n",
            "\n",
            "  df2['Fare'].fillna(df2['Fare'].mean(),inplace=True)\n"
          ]
        }
      ]
    },
    {
      "cell_type": "code",
      "source": [
        "df2['Age'].fillna(df2['Age'].mean(),inplace=True)"
      ],
      "metadata": {
        "colab": {
          "base_uri": "https://localhost:8080/"
        },
        "collapsed": true,
        "id": "ybHhKEahQ1KR",
        "outputId": "527b74e0-3d85-40ae-a1ea-b20c187a5671"
      },
      "execution_count": 173,
      "outputs": [
        {
          "output_type": "stream",
          "name": "stderr",
          "text": [
            "/tmp/ipython-input-3242819075.py:1: FutureWarning: A value is trying to be set on a copy of a DataFrame or Series through chained assignment using an inplace method.\n",
            "The behavior will change in pandas 3.0. This inplace method will never work because the intermediate object on which we are setting values always behaves as a copy.\n",
            "\n",
            "For example, when doing 'df[col].method(value, inplace=True)', try using 'df.method({col: value}, inplace=True)' or df[col] = df[col].method(value) instead, to perform the operation inplace on the original object.\n",
            "\n",
            "\n",
            "  df2['Age'].fillna(df2['Age'].mean(),inplace=True)\n"
          ]
        }
      ]
    },
    {
      "cell_type": "code",
      "source": [
        "df2['Sex'] = df2['Sex'].map({'male':0,'female':1})"
      ],
      "metadata": {
        "id": "cPs-lyKZRkDp"
      },
      "execution_count": 175,
      "outputs": []
    },
    {
      "cell_type": "code",
      "source": [
        "df2['Embarked'] = df2['Embarked'].map({'S':0,'C':1,'Q':2})"
      ],
      "metadata": {
        "id": "kTYQV_aIR13R"
      },
      "execution_count": 176,
      "outputs": []
    },
    {
      "cell_type": "code",
      "source": [
        "df2.head()"
      ],
      "metadata": {
        "colab": {
          "base_uri": "https://localhost:8080/",
          "height": 206
        },
        "collapsed": true,
        "id": "_ZUV5egZQdcp",
        "outputId": "949d4319-2396-4e5e-8e1c-554838a80061"
      },
      "execution_count": 177,
      "outputs": [
        {
          "output_type": "execute_result",
          "data": {
            "text/plain": [
              "   PassengerId  Pclass  Sex   Age     Fare  Embarked\n",
              "0          892       3    0  34.5   7.8292         2\n",
              "1          893       3    1  47.0   7.0000         0\n",
              "2          894       2    0  62.0   9.6875         2\n",
              "3          895       3    0  27.0   8.6625         0\n",
              "4          896       3    1  22.0  12.2875         0"
            ],
            "text/html": [
              "\n",
              "  <div id=\"df-af637138-2931-4f87-85b6-4621feb9abaa\" class=\"colab-df-container\">\n",
              "    <div>\n",
              "<style scoped>\n",
              "    .dataframe tbody tr th:only-of-type {\n",
              "        vertical-align: middle;\n",
              "    }\n",
              "\n",
              "    .dataframe tbody tr th {\n",
              "        vertical-align: top;\n",
              "    }\n",
              "\n",
              "    .dataframe thead th {\n",
              "        text-align: right;\n",
              "    }\n",
              "</style>\n",
              "<table border=\"1\" class=\"dataframe\">\n",
              "  <thead>\n",
              "    <tr style=\"text-align: right;\">\n",
              "      <th></th>\n",
              "      <th>PassengerId</th>\n",
              "      <th>Pclass</th>\n",
              "      <th>Sex</th>\n",
              "      <th>Age</th>\n",
              "      <th>Fare</th>\n",
              "      <th>Embarked</th>\n",
              "    </tr>\n",
              "  </thead>\n",
              "  <tbody>\n",
              "    <tr>\n",
              "      <th>0</th>\n",
              "      <td>892</td>\n",
              "      <td>3</td>\n",
              "      <td>0</td>\n",
              "      <td>34.5</td>\n",
              "      <td>7.8292</td>\n",
              "      <td>2</td>\n",
              "    </tr>\n",
              "    <tr>\n",
              "      <th>1</th>\n",
              "      <td>893</td>\n",
              "      <td>3</td>\n",
              "      <td>1</td>\n",
              "      <td>47.0</td>\n",
              "      <td>7.0000</td>\n",
              "      <td>0</td>\n",
              "    </tr>\n",
              "    <tr>\n",
              "      <th>2</th>\n",
              "      <td>894</td>\n",
              "      <td>2</td>\n",
              "      <td>0</td>\n",
              "      <td>62.0</td>\n",
              "      <td>9.6875</td>\n",
              "      <td>2</td>\n",
              "    </tr>\n",
              "    <tr>\n",
              "      <th>3</th>\n",
              "      <td>895</td>\n",
              "      <td>3</td>\n",
              "      <td>0</td>\n",
              "      <td>27.0</td>\n",
              "      <td>8.6625</td>\n",
              "      <td>0</td>\n",
              "    </tr>\n",
              "    <tr>\n",
              "      <th>4</th>\n",
              "      <td>896</td>\n",
              "      <td>3</td>\n",
              "      <td>1</td>\n",
              "      <td>22.0</td>\n",
              "      <td>12.2875</td>\n",
              "      <td>0</td>\n",
              "    </tr>\n",
              "  </tbody>\n",
              "</table>\n",
              "</div>\n",
              "    <div class=\"colab-df-buttons\">\n",
              "\n",
              "  <div class=\"colab-df-container\">\n",
              "    <button class=\"colab-df-convert\" onclick=\"convertToInteractive('df-af637138-2931-4f87-85b6-4621feb9abaa')\"\n",
              "            title=\"Convert this dataframe to an interactive table.\"\n",
              "            style=\"display:none;\">\n",
              "\n",
              "  <svg xmlns=\"http://www.w3.org/2000/svg\" height=\"24px\" viewBox=\"0 -960 960 960\">\n",
              "    <path d=\"M120-120v-720h720v720H120Zm60-500h600v-160H180v160Zm220 220h160v-160H400v160Zm0 220h160v-160H400v160ZM180-400h160v-160H180v160Zm440 0h160v-160H620v160ZM180-180h160v-160H180v160Zm440 0h160v-160H620v160Z\"/>\n",
              "  </svg>\n",
              "    </button>\n",
              "\n",
              "  <style>\n",
              "    .colab-df-container {\n",
              "      display:flex;\n",
              "      gap: 12px;\n",
              "    }\n",
              "\n",
              "    .colab-df-convert {\n",
              "      background-color: #E8F0FE;\n",
              "      border: none;\n",
              "      border-radius: 50%;\n",
              "      cursor: pointer;\n",
              "      display: none;\n",
              "      fill: #1967D2;\n",
              "      height: 32px;\n",
              "      padding: 0 0 0 0;\n",
              "      width: 32px;\n",
              "    }\n",
              "\n",
              "    .colab-df-convert:hover {\n",
              "      background-color: #E2EBFA;\n",
              "      box-shadow: 0px 1px 2px rgba(60, 64, 67, 0.3), 0px 1px 3px 1px rgba(60, 64, 67, 0.15);\n",
              "      fill: #174EA6;\n",
              "    }\n",
              "\n",
              "    .colab-df-buttons div {\n",
              "      margin-bottom: 4px;\n",
              "    }\n",
              "\n",
              "    [theme=dark] .colab-df-convert {\n",
              "      background-color: #3B4455;\n",
              "      fill: #D2E3FC;\n",
              "    }\n",
              "\n",
              "    [theme=dark] .colab-df-convert:hover {\n",
              "      background-color: #434B5C;\n",
              "      box-shadow: 0px 1px 3px 1px rgba(0, 0, 0, 0.15);\n",
              "      filter: drop-shadow(0px 1px 2px rgba(0, 0, 0, 0.3));\n",
              "      fill: #FFFFFF;\n",
              "    }\n",
              "  </style>\n",
              "\n",
              "    <script>\n",
              "      const buttonEl =\n",
              "        document.querySelector('#df-af637138-2931-4f87-85b6-4621feb9abaa button.colab-df-convert');\n",
              "      buttonEl.style.display =\n",
              "        google.colab.kernel.accessAllowed ? 'block' : 'none';\n",
              "\n",
              "      async function convertToInteractive(key) {\n",
              "        const element = document.querySelector('#df-af637138-2931-4f87-85b6-4621feb9abaa');\n",
              "        const dataTable =\n",
              "          await google.colab.kernel.invokeFunction('convertToInteractive',\n",
              "                                                    [key], {});\n",
              "        if (!dataTable) return;\n",
              "\n",
              "        const docLinkHtml = 'Like what you see? Visit the ' +\n",
              "          '<a target=\"_blank\" href=https://colab.research.google.com/notebooks/data_table.ipynb>data table notebook</a>'\n",
              "          + ' to learn more about interactive tables.';\n",
              "        element.innerHTML = '';\n",
              "        dataTable['output_type'] = 'display_data';\n",
              "        await google.colab.output.renderOutput(dataTable, element);\n",
              "        const docLink = document.createElement('div');\n",
              "        docLink.innerHTML = docLinkHtml;\n",
              "        element.appendChild(docLink);\n",
              "      }\n",
              "    </script>\n",
              "  </div>\n",
              "\n",
              "\n",
              "    <div id=\"df-3fa6e956-6fcf-4013-a1a0-dc0549d30393\">\n",
              "      <button class=\"colab-df-quickchart\" onclick=\"quickchart('df-3fa6e956-6fcf-4013-a1a0-dc0549d30393')\"\n",
              "                title=\"Suggest charts\"\n",
              "                style=\"display:none;\">\n",
              "\n",
              "<svg xmlns=\"http://www.w3.org/2000/svg\" height=\"24px\"viewBox=\"0 0 24 24\"\n",
              "     width=\"24px\">\n",
              "    <g>\n",
              "        <path d=\"M19 3H5c-1.1 0-2 .9-2 2v14c0 1.1.9 2 2 2h14c1.1 0 2-.9 2-2V5c0-1.1-.9-2-2-2zM9 17H7v-7h2v7zm4 0h-2V7h2v10zm4 0h-2v-4h2v4z\"/>\n",
              "    </g>\n",
              "</svg>\n",
              "      </button>\n",
              "\n",
              "<style>\n",
              "  .colab-df-quickchart {\n",
              "      --bg-color: #E8F0FE;\n",
              "      --fill-color: #1967D2;\n",
              "      --hover-bg-color: #E2EBFA;\n",
              "      --hover-fill-color: #174EA6;\n",
              "      --disabled-fill-color: #AAA;\n",
              "      --disabled-bg-color: #DDD;\n",
              "  }\n",
              "\n",
              "  [theme=dark] .colab-df-quickchart {\n",
              "      --bg-color: #3B4455;\n",
              "      --fill-color: #D2E3FC;\n",
              "      --hover-bg-color: #434B5C;\n",
              "      --hover-fill-color: #FFFFFF;\n",
              "      --disabled-bg-color: #3B4455;\n",
              "      --disabled-fill-color: #666;\n",
              "  }\n",
              "\n",
              "  .colab-df-quickchart {\n",
              "    background-color: var(--bg-color);\n",
              "    border: none;\n",
              "    border-radius: 50%;\n",
              "    cursor: pointer;\n",
              "    display: none;\n",
              "    fill: var(--fill-color);\n",
              "    height: 32px;\n",
              "    padding: 0;\n",
              "    width: 32px;\n",
              "  }\n",
              "\n",
              "  .colab-df-quickchart:hover {\n",
              "    background-color: var(--hover-bg-color);\n",
              "    box-shadow: 0 1px 2px rgba(60, 64, 67, 0.3), 0 1px 3px 1px rgba(60, 64, 67, 0.15);\n",
              "    fill: var(--button-hover-fill-color);\n",
              "  }\n",
              "\n",
              "  .colab-df-quickchart-complete:disabled,\n",
              "  .colab-df-quickchart-complete:disabled:hover {\n",
              "    background-color: var(--disabled-bg-color);\n",
              "    fill: var(--disabled-fill-color);\n",
              "    box-shadow: none;\n",
              "  }\n",
              "\n",
              "  .colab-df-spinner {\n",
              "    border: 2px solid var(--fill-color);\n",
              "    border-color: transparent;\n",
              "    border-bottom-color: var(--fill-color);\n",
              "    animation:\n",
              "      spin 1s steps(1) infinite;\n",
              "  }\n",
              "\n",
              "  @keyframes spin {\n",
              "    0% {\n",
              "      border-color: transparent;\n",
              "      border-bottom-color: var(--fill-color);\n",
              "      border-left-color: var(--fill-color);\n",
              "    }\n",
              "    20% {\n",
              "      border-color: transparent;\n",
              "      border-left-color: var(--fill-color);\n",
              "      border-top-color: var(--fill-color);\n",
              "    }\n",
              "    30% {\n",
              "      border-color: transparent;\n",
              "      border-left-color: var(--fill-color);\n",
              "      border-top-color: var(--fill-color);\n",
              "      border-right-color: var(--fill-color);\n",
              "    }\n",
              "    40% {\n",
              "      border-color: transparent;\n",
              "      border-right-color: var(--fill-color);\n",
              "      border-top-color: var(--fill-color);\n",
              "    }\n",
              "    60% {\n",
              "      border-color: transparent;\n",
              "      border-right-color: var(--fill-color);\n",
              "    }\n",
              "    80% {\n",
              "      border-color: transparent;\n",
              "      border-right-color: var(--fill-color);\n",
              "      border-bottom-color: var(--fill-color);\n",
              "    }\n",
              "    90% {\n",
              "      border-color: transparent;\n",
              "      border-bottom-color: var(--fill-color);\n",
              "    }\n",
              "  }\n",
              "</style>\n",
              "\n",
              "      <script>\n",
              "        async function quickchart(key) {\n",
              "          const quickchartButtonEl =\n",
              "            document.querySelector('#' + key + ' button');\n",
              "          quickchartButtonEl.disabled = true;  // To prevent multiple clicks.\n",
              "          quickchartButtonEl.classList.add('colab-df-spinner');\n",
              "          try {\n",
              "            const charts = await google.colab.kernel.invokeFunction(\n",
              "                'suggestCharts', [key], {});\n",
              "          } catch (error) {\n",
              "            console.error('Error during call to suggestCharts:', error);\n",
              "          }\n",
              "          quickchartButtonEl.classList.remove('colab-df-spinner');\n",
              "          quickchartButtonEl.classList.add('colab-df-quickchart-complete');\n",
              "        }\n",
              "        (() => {\n",
              "          let quickchartButtonEl =\n",
              "            document.querySelector('#df-3fa6e956-6fcf-4013-a1a0-dc0549d30393 button');\n",
              "          quickchartButtonEl.style.display =\n",
              "            google.colab.kernel.accessAllowed ? 'block' : 'none';\n",
              "        })();\n",
              "      </script>\n",
              "    </div>\n",
              "\n",
              "    </div>\n",
              "  </div>\n"
            ],
            "application/vnd.google.colaboratory.intrinsic+json": {
              "type": "dataframe",
              "variable_name": "df2",
              "summary": "{\n  \"name\": \"df2\",\n  \"rows\": 418,\n  \"fields\": [\n    {\n      \"column\": \"PassengerId\",\n      \"properties\": {\n        \"dtype\": \"number\",\n        \"std\": 120,\n        \"min\": 892,\n        \"max\": 1309,\n        \"num_unique_values\": 418,\n        \"samples\": [\n          1213,\n          1216,\n          1280\n        ],\n        \"semantic_type\": \"\",\n        \"description\": \"\"\n      }\n    },\n    {\n      \"column\": \"Pclass\",\n      \"properties\": {\n        \"dtype\": \"number\",\n        \"std\": 0,\n        \"min\": 1,\n        \"max\": 3,\n        \"num_unique_values\": 3,\n        \"samples\": [\n          3,\n          2,\n          1\n        ],\n        \"semantic_type\": \"\",\n        \"description\": \"\"\n      }\n    },\n    {\n      \"column\": \"Sex\",\n      \"properties\": {\n        \"dtype\": \"number\",\n        \"std\": 0,\n        \"min\": 0,\n        \"max\": 1,\n        \"num_unique_values\": 2,\n        \"samples\": [\n          1,\n          0\n        ],\n        \"semantic_type\": \"\",\n        \"description\": \"\"\n      }\n    },\n    {\n      \"column\": \"Age\",\n      \"properties\": {\n        \"dtype\": \"number\",\n        \"std\": 12.63453416832505,\n        \"min\": 0.17,\n        \"max\": 76.0,\n        \"num_unique_values\": 80,\n        \"samples\": [\n          28.0,\n          34.5\n        ],\n        \"semantic_type\": \"\",\n        \"description\": \"\"\n      }\n    },\n    {\n      \"column\": \"Fare\",\n      \"properties\": {\n        \"dtype\": \"number\",\n        \"std\": 55.84050047954103,\n        \"min\": 0.0,\n        \"max\": 512.3292,\n        \"num_unique_values\": 170,\n        \"samples\": [\n          41.5792,\n          57.75\n        ],\n        \"semantic_type\": \"\",\n        \"description\": \"\"\n      }\n    },\n    {\n      \"column\": \"Embarked\",\n      \"properties\": {\n        \"dtype\": \"number\",\n        \"std\": 0,\n        \"min\": 0,\n        \"max\": 2,\n        \"num_unique_values\": 3,\n        \"samples\": [\n          2,\n          0\n        ],\n        \"semantic_type\": \"\",\n        \"description\": \"\"\n      }\n    }\n  ]\n}"
            }
          },
          "metadata": {},
          "execution_count": 177
        }
      ]
    },
    {
      "cell_type": "code",
      "source": [
        "df_test = df2.drop('PassengerId',axis=1)"
      ],
      "metadata": {
        "id": "7vH-3PYvR9XC"
      },
      "execution_count": 178,
      "outputs": []
    },
    {
      "cell_type": "code",
      "source": [
        "predictions = stack.predict(df_test)"
      ],
      "metadata": {
        "id": "LTP-JVK4SZ55"
      },
      "execution_count": 179,
      "outputs": []
    },
    {
      "cell_type": "code",
      "source": [
        "submissiontitanic = pd.DataFrame({\n",
        "    'PassengerId': df2['PassengerId'],  # original IDs from test dataset\n",
        "    'Survived': predictions\n",
        "})"
      ],
      "metadata": {
        "id": "1DIkHRtxSX70"
      },
      "execution_count": 180,
      "outputs": []
    },
    {
      "cell_type": "code",
      "source": [
        "submissiontitanic.to_csv('submissiontitanic.csv', index=False)"
      ],
      "metadata": {
        "id": "SxU48AcHSqCM"
      },
      "execution_count": 182,
      "outputs": []
    },
    {
      "cell_type": "code",
      "source": [
        "prediciton2 = gbs.predict(df_test)\n",
        "submissiontitanic2 = pd.DataFrame({\n",
        "    'PassengerId': df2['PassengerId'],  # original IDs from test dataset\n",
        "    'Survived': prediciton2\n",
        "})\n"
      ],
      "metadata": {
        "id": "cP-OPHvqTIEE"
      },
      "execution_count": 184,
      "outputs": []
    },
    {
      "cell_type": "code",
      "source": [
        "submissiontitanic2.to_csv('submissiontitanic2.csv', index=False)"
      ],
      "metadata": {
        "id": "eVXsanPsSqtm"
      },
      "execution_count": 185,
      "outputs": []
    },
    {
      "cell_type": "code",
      "source": [],
      "metadata": {
        "id": "-qiv-UWxTVkp"
      },
      "execution_count": null,
      "outputs": []
    }
  ]
}